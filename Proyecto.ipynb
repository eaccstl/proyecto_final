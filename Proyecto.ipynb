{
 "cells": [
  {
   "cell_type": "markdown",
   "metadata": {},
   "source": [
    "# Proyecto\n",
    "\n",
    "\n",
    "En este proyecto vamos a hacer machine learning aplicado al ámbito medico ,específicamente diagnostico medico.\n",
    "Vamos a crear una aplicación que ayuda a diagnosticar si un tumor de seno es cancerígeno (maligno) o no (benigno)   .\n",
    "Para lograr esto vamos a utilizar un set de datos recopilado por diversos médicos , el cual contiene características de tumores de seno y el diagnostico final . Este es un problema de clasificación binaria ya que solo tenemos dos clases(maligno o benigno), se va a implementar regresión logística para obtener la probabilidad de que el tumor sea maligno.\n",
    "\n",
    "<img src=\"images/ai_cancer.png\" width=\"300\">\n",
    "\n",
    "Según lo visto en la clase en este proyecto el estudiante hará  todo el proceso de entrenamiento, evaluación y selección del modelo de machine learning(pasos 1 al 5 del diagrama de flujo de ejemplo) ,luego de seleccionar el mejor va a exportar el modelo (como fue explicado en la clase deployment/despliegue de modelos y va a entregarlo al profesor) ya que  este será utilizado dentro de una aplicación móvil (desarrollada por el profesor, paso 6 del diagrama )\n",
    "\n",
    "\n",
    "<img src=\"images/diagrama.png\" width=\"700\">"
   ]
  },
  {
   "cell_type": "code",
   "execution_count": 727,
   "metadata": {},
   "outputs": [],
   "source": [
    "from sklearn.datasets import load_breast_cancer\n",
    "from sklearn.model_selection import train_test_split\n",
    "from sklearn.linear_model import LogisticRegression\n",
    "import numpy as np\n",
    "from sklearn.utils import resample\n",
    "from sklearn.metrics import accuracy_score, confusion_matrix, precision_score, recall_score, f1_score\n",
    "import datetime\n",
    "import helper"
   ]
  },
  {
   "cell_type": "markdown",
   "metadata": {},
   "source": [
    "## Registro de Experimentos\n",
    "En machine learning y ciencia de datos es importante tener un registro de los resultados de cada experimento realizado, así como la configuración del sistema(tal como learning-rate, numero de iteraciones, cantidad de observaciones y features, etc) que llevo a determinados resultados, esto porque el proceso puede llegar a ser muy iterativo y nos es útil saber en todo momento que caso tuvo los mejores resultados. Por esta razón en este proyecto utilizamos una bitácora o log-book científico en el cual tenemos la configuración de nuestros modelos y los resultados(métricas de evaluación) de cada uno."
   ]
  },
  {
   "cell_type": "code",
   "execution_count": 728,
   "metadata": {},
   "outputs": [],
   "source": [
    "log_book = helper.load_log_book()"
   ]
  },
  {
   "cell_type": "markdown",
   "metadata": {},
   "source": [
    "Una vez la bitacora contenga informacion ,puedes consultarla en cualquier celda usando:\n",
    "\n",
    "helper.print_log_book(log_book)"
   ]
  },
  {
   "cell_type": "markdown",
   "metadata": {},
   "source": [
    "Para guardar la bitacora (una vez has capturado el resultado de los experimentos que realizaremos) usaremos el siguiente codigo(hay mas detalles mas adelante)\n",
    "\n",
    "helper.guardar_log_book(log_book)"
   ]
  },
  {
   "cell_type": "markdown",
   "metadata": {},
   "source": [
    "## Carnet estudiante"
   ]
  },
  {
   "cell_type": "markdown",
   "metadata": {},
   "source": [
    " La aplicación móvil resultante tendrá un modelo por estudiante, por lo cual es importante identificar a que estudiante pertenece cada modelo, por esta razón  en el proceso de exportar el modelo el archivo resultante tendrá en su nombre el carnet del estudiante. \n",
    " \n",
    " En una variable deben ingresar su numero de carnet, para que al exportar el modelo el archivo se llame `carnet+\"model.csv\"`. Por ejemplo 200818835model.csv"
   ]
  },
  {
   "cell_type": "code",
   "execution_count": 729,
   "metadata": {},
   "outputs": [],
   "source": [
    "carnet = \"20150394\""
   ]
  },
  {
   "cell_type": "markdown",
   "metadata": {},
   "source": [
    "## Breast Cancer Data Set\n",
    "\n",
    "El dataset que usaremos contiene varias características(features) , más adelante encontraras instrucciones de cómo trabajar con estas. En el siguiente enlace puedes acceder a mayor información y detalles del dataset.\n",
    "\n",
    "[Link al set de datos](http://scikit-learn.org/stable/modules/generated/sklearn.datasets.load_breast_cancer.html#sklearn.datasets.load_breast_cancer)\n",
    "\n",
    "#### Data Set Information:\n",
    "\n",
    "Features are computed from a digitized image of a fine needle aspirate (FNA) of a breast mass. They describe characteristics of the cell nuclei present in the image. A few of the images can be found at [Web Link] \n",
    "\n",
    "Separating plane described above was obtained using Multisurface Method-Tree (MSM-T) [K. P. Bennett, \"Decision Tree Construction Via Linear Programming.\" Proceedings of the 4th Midwest Artificial Intelligence and Cognitive Science Society, pp. 97-101, 1992], a classification method which uses linear programming to construct a decision tree. Relevant features were selected using an exhaustive search in the space of 1-4 features and 1-3 separating planes. \n",
    "\n",
    "The actual linear program used to obtain the separating plane in the 3-dimensional space is that described in: [K. P. Bennett and O. L. Mangasarian: \"Robust Linear Programming Discrimination of Two Linearly Inseparable Sets\", Optimization Methods and Software 1, 1992, 23-34]. "
   ]
  },
  {
   "cell_type": "code",
   "execution_count": 730,
   "metadata": {},
   "outputs": [],
   "source": [
    "data = load_breast_cancer()"
   ]
  },
  {
   "cell_type": "markdown",
   "metadata": {},
   "source": [
    "Este es un problema de clasificacion binario por que que existen solo dos posibles valores(predecimos tumores cancerigenos de seno)"
   ]
  },
  {
   "cell_type": "code",
   "execution_count": 731,
   "metadata": {},
   "outputs": [
    {
     "data": {
      "text/plain": [
       "array(['malignant', 'benign'], dtype='<U9')"
      ]
     },
     "execution_count": 731,
     "metadata": {},
     "output_type": "execute_result"
    }
   ],
   "source": [
    "data.target_names"
   ]
  },
  {
   "cell_type": "markdown",
   "metadata": {},
   "source": [
    "El data set tiene varios features, por lo  que debemos experimentar con diferentes features y analizar los resultados, en esta celda vamos a imprimir los nombres de las features que poseemos.\n",
    "\n",
    "En este [link](https://goo.gl/U2Uwz2) podemos encontrar mas información sobre las features.\n",
    "\n",
    "Nota: Aunque a lo largo del proyecto, usaremos distintas features para entrenar diversos modelos y entender cómo funciona el proceso de ML y el impacto del uso de diversas features, en el resultado final (el modelo que será exportado e integrado a la aplicación móvil) solo usaremos las primeras 5 features.\n",
    "\n"
   ]
  },
  {
   "cell_type": "code",
   "execution_count": 732,
   "metadata": {},
   "outputs": [
    {
     "data": {
      "text/plain": [
       "array(['mean radius', 'mean texture', 'mean perimeter', 'mean area',\n",
       "       'mean smoothness', 'mean compactness', 'mean concavity',\n",
       "       'mean concave points', 'mean symmetry', 'mean fractal dimension',\n",
       "       'radius error', 'texture error', 'perimeter error', 'area error',\n",
       "       'smoothness error', 'compactness error', 'concavity error',\n",
       "       'concave points error', 'symmetry error',\n",
       "       'fractal dimension error', 'worst radius', 'worst texture',\n",
       "       'worst perimeter', 'worst area', 'worst smoothness',\n",
       "       'worst compactness', 'worst concavity', 'worst concave points',\n",
       "       'worst symmetry', 'worst fractal dimension'], dtype='<U23')"
      ]
     },
     "execution_count": 732,
     "metadata": {},
     "output_type": "execute_result"
    }
   ],
   "source": [
    "data.feature_names"
   ]
  },
  {
   "cell_type": "markdown",
   "metadata": {},
   "source": [
    "muestra de las primeras 5 labels/etiquetas"
   ]
  },
  {
   "cell_type": "code",
   "execution_count": 733,
   "metadata": {},
   "outputs": [
    {
     "data": {
      "text/plain": [
       "array([0, 0, 0, 0, 0])"
      ]
     },
     "execution_count": 733,
     "metadata": {},
     "output_type": "execute_result"
    }
   ],
   "source": [
    "data.target[0:5]"
   ]
  },
  {
   "cell_type": "markdown",
   "metadata": {},
   "source": [
    "las features para estos 5 casos de ejemplo"
   ]
  },
  {
   "cell_type": "code",
   "execution_count": 734,
   "metadata": {},
   "outputs": [
    {
     "data": {
      "text/plain": [
       "array([[1.799e+01, 1.038e+01, 1.228e+02, 1.001e+03, 1.184e-01, 2.776e-01,\n",
       "        3.001e-01, 1.471e-01, 2.419e-01, 7.871e-02, 1.095e+00, 9.053e-01,\n",
       "        8.589e+00, 1.534e+02, 6.399e-03, 4.904e-02, 5.373e-02, 1.587e-02,\n",
       "        3.003e-02, 6.193e-03, 2.538e+01, 1.733e+01, 1.846e+02, 2.019e+03,\n",
       "        1.622e-01, 6.656e-01, 7.119e-01, 2.654e-01, 4.601e-01, 1.189e-01],\n",
       "       [2.057e+01, 1.777e+01, 1.329e+02, 1.326e+03, 8.474e-02, 7.864e-02,\n",
       "        8.690e-02, 7.017e-02, 1.812e-01, 5.667e-02, 5.435e-01, 7.339e-01,\n",
       "        3.398e+00, 7.408e+01, 5.225e-03, 1.308e-02, 1.860e-02, 1.340e-02,\n",
       "        1.389e-02, 3.532e-03, 2.499e+01, 2.341e+01, 1.588e+02, 1.956e+03,\n",
       "        1.238e-01, 1.866e-01, 2.416e-01, 1.860e-01, 2.750e-01, 8.902e-02],\n",
       "       [1.969e+01, 2.125e+01, 1.300e+02, 1.203e+03, 1.096e-01, 1.599e-01,\n",
       "        1.974e-01, 1.279e-01, 2.069e-01, 5.999e-02, 7.456e-01, 7.869e-01,\n",
       "        4.585e+00, 9.403e+01, 6.150e-03, 4.006e-02, 3.832e-02, 2.058e-02,\n",
       "        2.250e-02, 4.571e-03, 2.357e+01, 2.553e+01, 1.525e+02, 1.709e+03,\n",
       "        1.444e-01, 4.245e-01, 4.504e-01, 2.430e-01, 3.613e-01, 8.758e-02],\n",
       "       [1.142e+01, 2.038e+01, 7.758e+01, 3.861e+02, 1.425e-01, 2.839e-01,\n",
       "        2.414e-01, 1.052e-01, 2.597e-01, 9.744e-02, 4.956e-01, 1.156e+00,\n",
       "        3.445e+00, 2.723e+01, 9.110e-03, 7.458e-02, 5.661e-02, 1.867e-02,\n",
       "        5.963e-02, 9.208e-03, 1.491e+01, 2.650e+01, 9.887e+01, 5.677e+02,\n",
       "        2.098e-01, 8.663e-01, 6.869e-01, 2.575e-01, 6.638e-01, 1.730e-01],\n",
       "       [2.029e+01, 1.434e+01, 1.351e+02, 1.297e+03, 1.003e-01, 1.328e-01,\n",
       "        1.980e-01, 1.043e-01, 1.809e-01, 5.883e-02, 7.572e-01, 7.813e-01,\n",
       "        5.438e+00, 9.444e+01, 1.149e-02, 2.461e-02, 5.688e-02, 1.885e-02,\n",
       "        1.756e-02, 5.115e-03, 2.254e+01, 1.667e+01, 1.522e+02, 1.575e+03,\n",
       "        1.374e-01, 2.050e-01, 4.000e-01, 1.625e-01, 2.364e-01, 7.678e-02]])"
      ]
     },
     "execution_count": 734,
     "metadata": {},
     "output_type": "execute_result"
    }
   ],
   "source": [
    "data.data[0:5,]"
   ]
  },
  {
   "cell_type": "markdown",
   "metadata": {},
   "source": [
    "# Implementación de Regresión Logística "
   ]
  },
  {
   "cell_type": "markdown",
   "metadata": {},
   "source": [
    "## Hipótesis\n",
    "Función Sigmoid:\n",
    "\n",
    "$sig(t) = {\\frac {1} {1 + e^{-t}}}$\n",
    "\n",
    "Combinamos la función sigmoid/lógistica con la  hipótesis conocida (aprendida en regresión lineal) y tenemos la nueva hipótesis para clasificación con regresión lógistica:\n",
    "\n",
    "$z = \\theta_{0} + \\theta_{1}x_{1} + \\theta_{2}x_{2} + \\ldots + \\theta_{n}x_{n}$\n",
    "\n",
    "$g(z) = {\\frac {1} {1 + e^{-z}}}$\n",
    "\n",
    "** Hipótesis para clasificación con regresión logística: **\n",
    "\n",
    "$h_{\\theta}(x) = {\\frac {1} {1 + e^{-(\\theta_{0} + \\theta_{1}x_{1} + \\theta_{2}x_{2} + \\ldots + \\theta_{n}x_{n})}}}$"
   ]
  },
  {
   "cell_type": "code",
   "execution_count": 735,
   "metadata": {},
   "outputs": [],
   "source": [
    "## Sigmoid \n",
    "\n",
    "def sigmoid(z):\n",
    "    ### INICIO: TU CODIGO AQUI:  (~1 linea)###\n",
    "    s = 1/ (1 + np.exp(-z))\n",
    "    ### FIN ##\n",
    "    \n",
    "    return s"
   ]
  },
  {
   "cell_type": "code",
   "execution_count": 736,
   "metadata": {},
   "outputs": [
    {
     "name": "stdout",
     "output_type": "stream",
     "text": [
      "sigmoid(0) = 0.5\n",
      "sigmoid(9.2) = 0.9998989708060922\n"
     ]
    }
   ],
   "source": [
    "### Validando nuestra funcion sigmoid\n",
    "print (\"sigmoid(0) = \" + str(sigmoid(0)))\n",
    "print (\"sigmoid(9.2) = \" + str(sigmoid(9.2)))"
   ]
  },
  {
   "cell_type": "markdown",
   "metadata": {},
   "source": [
    "#### Resultados esperados\n",
    "\n",
    "**sigmoid(0)** = 0.5\n",
    "\n",
    "**sigmoid(9.2)** = 0.999898970806\n"
   ]
  },
  {
   "cell_type": "markdown",
   "metadata": {},
   "source": [
    "Implementado la hipótesis/modelo para clasificación con regresión logística\n",
    "\n",
    "** Hipótesis para clasificación con regresión logística: **\n",
    "\n",
    "$h_{\\theta}(x) = {\\frac {1} {1 + e^{-(\\theta_{0} + \\theta_{1}x_{1} + \\theta_{2}x_{2} + \\ldots + \\theta_{n}x_{n})}}}$"
   ]
  },
  {
   "cell_type": "code",
   "execution_count": 737,
   "metadata": {},
   "outputs": [],
   "source": [
    "def get_hipotesis(features, theta_values):\n",
    "    ## Calculo de la hipotesis de froma vectorizada,producto punto entre el vector de features y el vector de parametros theta ##\n",
    "    z = features.dot(theta_values)\n",
    "    \n",
    "    ### INICIO: TU CODIGO AQUI:  (~1 linea)###\n",
    "    h = sigmoid(z)\n",
    "    ### FIN ##\n",
    "    \n",
    "    return h"
   ]
  },
  {
   "cell_type": "markdown",
   "metadata": {},
   "source": [
    "# Métricas de evaluación\n",
    "\n",
    "Tal como lo vimos en la clase 22: evaluación , utilizamos diversas métricas para evaluar y reportar la exactitud y rendimiento de nuestros modelos de machine learning. En clasificación usamos el costo: cross-entropy para entrenar, pero evaluamos y reportamos diversas métricas mas ."
   ]
  },
  {
   "cell_type": "markdown",
   "metadata": {},
   "source": [
    "## Costo\n",
    "\n",
    "El proceso de gradient descent busca minimizar la siguiente función de costo en función de los parámetros theta, y así encontrar los parámetros que producen una hipótesis optima. \n",
    "\n",
    "El costo mide que tan buena o mala es una hipótesis por lo cual esperamos que este disminuya durante el entrenamiento.\n",
    "\n",
    "$J(\\Theta) = - {\\frac {1}{m}}\\sum _{i=1}^{m} y \\log(h(x)) + (1-y)\\log(1-h(x))$\n",
    "\n",
    "Utiliza la funcion log de numpy, Ejemplo:\n",
    "`np.log(y)`"
   ]
  },
  {
   "cell_type": "code",
   "execution_count": 738,
   "metadata": {},
   "outputs": [],
   "source": [
    "def costo(X, theta_vector, y):\n",
    "    m = len(y)\n",
    "    \n",
    "    ### INICIO: TU CODIGO AQUI:  (~2 lineas)###\n",
    "    y_hat =  get_hipotesis(X,theta_vector)\n",
    "    \n",
    "    costo = -(np.sum(y*(np.log(y_hat))+((1-y)*np.log(1-y_hat))))/m\n",
    "    ### FIN ##\n",
    "    \n",
    "    return costo"
   ]
  },
  {
   "cell_type": "markdown",
   "metadata": {},
   "source": [
    "## Accuracy Score\n",
    "\n",
    "Implementa la funcion de accuracy utlizando sklearn(puedes utilizar como referencia la clase 22: evaluación )"
   ]
  },
  {
   "cell_type": "code",
   "execution_count": 739,
   "metadata": {},
   "outputs": [],
   "source": [
    "def accuracy(X, theta_vector, y):\n",
    "\n",
    "    hipotesis = get_hipotesis(X, theta_vector)\n",
    "    \n",
    "    # Convertimos el resultado probabilistico a deterministico (0 1)\n",
    "    y_pred = [1 if (y >= 0.5) else 0 for y in hipotesis ]\n",
    "    \n",
    "    ### INICIO: TU CODIGO AQUI:  (~1 linea)###\n",
    "    acc_score = accuracy_score(y, y_pred)\n",
    "    ### FIN ##\n",
    "    \n",
    "    return acc_score"
   ]
  },
  {
   "cell_type": "markdown",
   "metadata": {},
   "source": [
    "## F1 Score\n",
    "\n",
    "Implementa la funcion de f1_score utlizando sklearn(puedes utilizar como referencia la clase 22: evaluación )"
   ]
  },
  {
   "cell_type": "code",
   "execution_count": 740,
   "metadata": {},
   "outputs": [],
   "source": [
    "def f1(X, theta_vector, y):\n",
    "\n",
    "    hipotesis = get_hipotesis(X, theta_vector)\n",
    "\n",
    "    # Convertimos el resultado probabilistico a deterministico (0 1)    \n",
    "    y_pred = [1 if (y >= 0.5) else 0 for y in hipotesis ]\n",
    "    \n",
    "    ## INICIO: TU CODIGO AQUI:  (~1 linea)###\n",
    "    f1 = f1_score(y, y_pred)\n",
    "    ### FIN ##\n",
    "    \n",
    "    return f1"
   ]
  },
  {
   "cell_type": "markdown",
   "metadata": {},
   "source": [
    "## Precision Score\n",
    "\n",
    "Implementa la funcion de precision_score utlizando sklearn(puedes utilizar como referencia la clase 22: evaluación )"
   ]
  },
  {
   "cell_type": "code",
   "execution_count": 741,
   "metadata": {},
   "outputs": [],
   "source": [
    "def precision(X, theta_vector, y):\n",
    "\n",
    "    hipotesis = get_hipotesis(X, theta_vector)\n",
    "\n",
    "    # Convertimos el resultado probabilistico a deterministico (0 1)    \n",
    "    y_pred = [1 if (y >= 0.5) else 0 for y in hipotesis ]\n",
    "    \n",
    "    ## INICIO: TU CODIGO AQUI:  (~1 linea)###\n",
    "    precision = precision_score(y, y_pred)\n",
    "    ### FIN ##\n",
    "    \n",
    "    return precision"
   ]
  },
  {
   "cell_type": "markdown",
   "metadata": {},
   "source": [
    "## Recall Score\n",
    "\n",
    "Implementa la funcion de recall_score utlizando sklearn(puedes utilizar como referencia la clase 22: evaluación )"
   ]
  },
  {
   "cell_type": "code",
   "execution_count": 742,
   "metadata": {},
   "outputs": [],
   "source": [
    "def recall(X, theta_vector, y):\n",
    "\n",
    "    hipotesis = get_hipotesis(X, theta_vector)\n",
    "\n",
    "    # Convertimos el resultado probabilistico a deterministico (0 1)    \n",
    "    y_pred = [1 if (y >= 0.5) else 0 for y in hipotesis ]\n",
    "    \n",
    "    ## INICIO: TU CODIGO AQUI:  (~1 linea)###\n",
    "    reacall = recall_score(y, y_pred)\n",
    "    ### FIN ##\n",
    "    \n",
    "    return recall"
   ]
  },
  {
   "cell_type": "markdown",
   "metadata": {},
   "source": [
    "# Pre-procesamiento\n",
    "\n",
    "En Machine learning, la fase de pre-procesamiento(incluyendo feature engineering) de datos puede llegar a abarcar el 70% o más del tiempo de un proyecto , pero este es un tema que se profundiza en otros cursos del área de ciencia de datos por lo cual en este proyecto solo vamos a realizar como pre-procesamiento una normalización de features."
   ]
  },
  {
   "cell_type": "markdown",
   "metadata": {},
   "source": [
    "### Estandarización o Z-score Normalizacion \n",
    "\n",
    "El objetivo de la normalización es ayudar a gradient descent a encontrar el mínimo del costo mas rápido y fácilmente , esto se logra a través de convertir las features de manera que tengan media = 0 y desviación estándar de 1 , similar a una distribución de probabilidad normal(gaussiana).\n",
    "\n",
    "Lo calculamos utilizando:\n",
    "\n",
    "$z = {\\frac {x - \\mu} {\\sigma}}$\n",
    "\n",
    "Donde $\\mu$ es la media y $\\sigma$ es la desviacion estandard\n",
    "\n",
    "##### Comentario opcional:\n",
    "el Z-score en el nombre concuerda con el uso de \"z-scores\" en estadística cuando se hace estadística inferencial(prueba de hipótesis e intervalos de confianza)\n",
    "\n",
    "Implementa la funcion de normalizacion sin utlizar sklearn solo puedes utilizar numpy.\n",
    "\n",
    "Para utilizar la columna de features, utilizamos `features[:,i]`"
   ]
  },
  {
   "cell_type": "code",
   "execution_count": 743,
   "metadata": {},
   "outputs": [],
   "source": [
    "def normalizar(features):\n",
    "    std = 1\n",
    "    media = 0\n",
    "    \n",
    "    # Utilizamos el ciclo, para normalizar cada feature(una iteracion por feature)\n",
    "    for i in list(range(0, features.shape[1])):\n",
    "        ### INICIO: TU CODIGO AQUI:  (~3 lineas)###\n",
    "        std = np.std(features[:,i])\n",
    "        media = np.mean(features[:,i])\n",
    "        features[:,i] =  (features[:,i]-media)/std\n",
    "        ### FIN ##\n",
    "    return features"
   ]
  },
  {
   "cell_type": "markdown",
   "metadata": {},
   "source": [
    "## Prediccion\n",
    "\n",
    "Una vez entrenado, el modelo de ML se utiliza para realizar predicciones ,en este proyecto realizaremos predicciones en un train y un test set(no usaremos cross-validation set)  .Una  vez exportado y entregado el modelo al profesor, el modelo realizara predicciones dentro de una aplicación móvil . \n",
    "\n",
    "La siguiente función la vamos a utilizar para realizar predicciones a lo largo del proyecto(y así poder medir contra los datos reales para realizar evaluación), no hay que cambiar nada del código, solo ejecuta la celda."
   ]
  },
  {
   "cell_type": "code",
   "execution_count": 744,
   "metadata": {},
   "outputs": [],
   "source": [
    "def prediccion(x, theta_vector, normalizar_valores):\n",
    "    numero_features = x.shape[1] + 1\n",
    "    \n",
    "    if (normalizar_valores):\n",
    "        x = normalizar(x)\n",
    "    \n",
    "    x_features = np.ones((x.shape[0], numero_features))\n",
    "    x_features[:,:-1] = x\n",
    "\n",
    "    \n",
    "    y_hat = get_hipotesis(x_features, theta_vector)\n",
    "    \n",
    "    return np.array([1 if (y >= 0.5) else 0 for y in y_hat])"
   ]
  },
  {
   "cell_type": "markdown",
   "metadata": {
    "collapsed": true
   },
   "source": [
    "## Gradient Descent\n",
    "\n",
    "Gradient descent es el algoritmo o método de optimización matemática que nos permite realizar el “entrenamiento” de nuestro modelos, ya que minimiza el costo y nos devuelve los parámetros del modelo óptimos.\n",
    "\n",
    "En la siguiente celda, debes implementar gradient descent tal como visto en clase y practicado en las tareas .\n",
    "\n",
    "Lo definimos e implementamos dentro de una función de Python para que podamos ejecutarlo(“llamarlo”) múltiples veces con distintos parámetros, sin tener que volver a programarlo cada vez , esto nos será útil para experimentar y entrenar varios modelos.\n",
    "\n",
    "Repetir{\n",
    "\n",
    "$\\theta_{j} := \\theta _{j} - \\alpha {\\frac {1}{m}} \\sum _{i=1}^{m}(h_{\\theta}(x^{(i)})-y^{(i)})x^{(i)}_{j}$\n",
    "\n",
    "}\n",
    "        \n",
    "Simultaneamente para cada $j = 0,\\ldots,n $"
   ]
  },
  {
   "cell_type": "code",
   "execution_count": 745,
   "metadata": {},
   "outputs": [],
   "source": [
    "def gradient_descent(X, y, theta_vector, alpha, iterations, X_test, y_test, nombre_modelo):\n",
    "    global log_book\n",
    "    m = len(y)  #numero de ejemplos de entrenamiento\n",
    "\n",
    "    ## Las siguientes 3 lineas de codigo crean listas vacias para almacenar el costo y accuracy obtenido en cada iteracion\n",
    "    ## Se espera que el costo disminuya y el accuracy aumente\n",
    "    cost_vect = []\n",
    "    accuracy_vect = []\n",
    "    accuracy_vect_test = []\n",
    "    \n",
    "    for iteration in range(iterations):\n",
    "        '''\n",
    "        IMPLELEMTA TU CODIGO AQUI, llama a la funcion para calcular la hipotesis,es decir calcular h(x)\n",
    "        que se implemento mas arriba. Parametros matriz de features X y el vector\n",
    "        con los valores Theta (~1 linea)\n",
    "        '''\n",
    "        hipotesis = get_hipotesis(X,theta_vector)\n",
    "\n",
    "\n",
    "        theta_vector_temp = [] # vector que guarda los parametros theta temporales\n",
    "        \n",
    "        # Utilizamos un ciclo para realizar la actualizacion de gradient descent una vez para cada parametro\n",
    "        # En cada iteracion \"i\" guarda el numero de parametro theta, y la varaible \"theta\" guarda el parametro como tal\n",
    "        for i, theta in enumerate(theta_vector):\n",
    "            '''\n",
    "            IMPLELEMTA TU CODIGO AQUI, adentro de este ciclo vamos a calcular\n",
    "            elnuevo valor de Theta[i], utilizando la formula de la celda de arriba\n",
    "            Recuerda que para multiplicar por utilizamos X[:,i]  (~1 linea)\n",
    "            '''\n",
    "            nuevo_theta = theta - ((alpha / m )*np.sum((hipotesis-y)*(X[:,i]))) \n",
    "\n",
    "            ### aqui agregamos el nuevo valor the theta[i] a un vector temporal\n",
    "            theta_vector_temp.append(nuevo_theta)\n",
    "\n",
    "\n",
    "        ## Actualizamos el vector theta con los nuevos valores\n",
    "        theta_vector = theta_vector_temp\n",
    "\n",
    "        # En las sigiuentes lineas calculamos las metricas de evaluacion en cada iteracion(aplicadas al train-set)\n",
    "        '''\n",
    "        IMPLEMENTA TU CODIGO AQUI, llama a la funcion de costo (~1 linea)\n",
    "        '''\n",
    "        cost = costo(X, theta_vector, y)\n",
    "        \n",
    "        '''\n",
    "        IMPLEMENTA TU CODIGO AQUI, utiliza Accuracy que se definio arriba (~1 linea)\n",
    "        '''\n",
    "        acc_score = accuracy(X, theta_vector, y)\n",
    "        \n",
    "        '''\n",
    "        IMPLEMENTA TU CODIGO AQUI, utiliza f1 score que se definio arriba (~1 linea)\n",
    "        '''\n",
    "        f1_training = f1(X, theta_vector, y)\n",
    "\n",
    "        '''\n",
    "        IMPLEMENTA TU CODIGO AQUI, utiliza precision score que se definio arriba (~1 linea)\n",
    "        '''\n",
    "        precision_training = precision(X, theta_vector, y)\n",
    "        \n",
    "        '''\n",
    "        IMPLEMENTA TU CODIGO AQUI, utiliza recall score que se definio arriba (~1 linea)\n",
    "        '''\n",
    "        recall_training = recall(X, theta_vector, y)\n",
    "        \n",
    "        \n",
    "        ## En las siguientes lineas calculamos las metricas de evaluacion aplicadas al test-set, este codigo no hay que cambiarlo ####\n",
    "        y_predict = prediccion(X_test, theta_vector, True)\n",
    "        acc_test = accuracy_score(y_predict, y_test)\n",
    "        accuracy_vect_test.append(acc_test)\n",
    "        f1_score_test = f1_score(y_predict, y_test)\n",
    "        precision_test = precision_score(y_test, y_predict)\n",
    "        recall_test = recall_score(y_test, y_predict)\n",
    "        \n",
    "        ## Guardando el valor del costo para graficarlo, este codigo no hay que cambiarlo ##\n",
    "        cost_vect.append(cost)\n",
    "        accuracy_vect.append(acc_score)\n",
    "        \n",
    "        n =  100 ### Ingresa aqui cada cuantas iteraciones quieres que se imprima el valor de las metricas ###\n",
    "        \n",
    "        ## Este codigo no hay que modificarlo ##\n",
    "        if(iteration % n == 0):\n",
    "            print('#####################')\n",
    "            print('TRAINING: [Iteracion: ', iteration,' Costo: ', cost, \\\n",
    "                  ' Accuracy:', acc_score,' F1 Score:',f1_training, \\\n",
    "                  'Precision training:', precision_training, 'Recall training:', recall_training,']')\n",
    "            print('TEST: [Iteracion: ', iteration,'Accuracy:', acc_test, \\\n",
    "                  ' F1 Score:', f1_score_test, 'Precision Test:', precision_test,'Recall Test:', recall_test,']')\n",
    "        \n",
    "    ## Log book, este codigo no hay que cambiarlo, sirve para guardar en la bitacora los resultados del experimento ##\n",
    "    nombre_modelo = nombre_modelo + '_'+datetime.datetime.now().strftime(\"%d%H%M%f\")\n",
    "    numero_features = X.shape[1] - 1\n",
    "    experiment = np.array([nombre_modelo, numero_features, m, alpha, iterations, accuracy_vect[-1], \\\n",
    "                           accuracy_vect_test[-1], f1_score_test, precision_test, \\\n",
    "                           recall_test,theta_vector], dtype=object)\n",
    "    log_book = np.vstack([log_book, experiment])\n",
    "        \n",
    "    return theta_vector, cost_vect, accuracy_vect,accuracy_vect_test\n"
   ]
  },
  {
   "cell_type": "markdown",
   "metadata": {},
   "source": [
    "## Dividimos la data en training y test set"
   ]
  },
  {
   "cell_type": "markdown",
   "metadata": {},
   "source": [
    "Tal como visto en la clase 23, nos sirve para evaluar objetivamente el rendimiento de nuestros modelos en datos que nunca ha visto durante su entrenamiento"
   ]
  },
  {
   "cell_type": "code",
   "execution_count": 746,
   "metadata": {},
   "outputs": [],
   "source": [
    "X_train, X_test, y_train, y_test = train_test_split(data.data, data.target, stratify=data.target, random_state=42)"
   ]
  },
  {
   "cell_type": "code",
   "execution_count": 747,
   "metadata": {},
   "outputs": [
    {
     "data": {
      "text/plain": [
       "(426, 30)"
      ]
     },
     "execution_count": 747,
     "metadata": {},
     "output_type": "execute_result"
    }
   ],
   "source": [
    "X_train.shape"
   ]
  },
  {
   "cell_type": "markdown",
   "metadata": {},
   "source": [
    "# Entrenamiento\n",
    "\n",
    "## Features a utilizar\n",
    "A continuación, vamos a entrenar varios modelos, vamos a utilizar las funciones que creamos previamente.\n",
    "Es importante experimentar con diferentes features,diverso tamaño del training set, y diversos hyper-parametros(learning rate e iteraciones)\n",
    "\n",
    "En este proyecto como máximo vamos a utilizar 5 features(pero en algunos experimentos usaremos menos) de manera obligatoria, pero de forma opcional se recomienda experimentar con más y diversas combinaciones ,esto para practicar y obtener experiencia con ML. \n",
    "\n",
    "También vamos a utilizar diferente número de ejemplos en el set de datos, diferente número de iteraciones y diferente learning rate . Todas estas distintas configuraciones serán almacenadas en el log-book(bitácora) automáticamente .\n",
    "\n",
    "En este proyecto solo vamos a utilizar las primeras 5 features  en este orden:\n",
    "\n",
    "`['mean radius', 'mean texture', 'mean perimeter', 'mean area','mean smoothness']`\n",
    "\n",
    "La razón por las que usaremos estas 5 features específicamente(y en este orden) en el modelo final(el que será exportado) es que estas features son las que serán utilizadas en la aplicación móvil en la cual integraremos el modelo(y tendremos en la interfaz de usuario de la aplicación componentes para ingresar valores para estas features),ero como se mencionó se recomienda experimentar y evaluar resultados con distintas features y distinto número  de ellas .\n",
    "\n",
    "## Descripcion del entrenamiento\n",
    "El entrenamiento de cada modelo se compone básicamente de tres pasos, sampleo bootstrap, escoger las features y ejecutar el entrenamiento llamando a la función de gradient descent que ya creamos.\n",
    "\n",
    "En el primer paso vamos a utilizar la función resample para hacer un sampleo del set de datos de entrenamiento, debemos definir el numero de samples que queremos utilizar.\n",
    "\n",
    "En el segundo paso, en un arreglo vamos a definir el nombre de las features que queremos utilizar para entrenar el modelo.\n",
    "En el tercer paso ejecutamos la función gradient descent.\n",
    "\n",
    "Por ultimo vamos a obtener el accuracy del modelo y vamos a imprimir la matriz de confusión, imprimiremos el precisión y el recall del modelo para entender mejor los resultados y tener una mejor idea de que tan bien clasifica nuestro modelo."
   ]
  },
  {
   "cell_type": "markdown",
   "metadata": {},
   "source": [
    "## Entrenamiento modelo 1"
   ]
  },
  {
   "cell_type": "markdown",
   "metadata": {},
   "source": [
    "#### Sampleo bootstrap"
   ]
  },
  {
   "cell_type": "code",
   "execution_count": 748,
   "metadata": {},
   "outputs": [],
   "source": [
    "X_train_m1, Y_train_m1 = resample(X_train, y_train, n_samples = 150)"
   ]
  },
  {
   "cell_type": "markdown",
   "metadata": {},
   "source": [
    "### Filtrar Features\n",
    "Solo seleccionar los features"
   ]
  },
  {
   "cell_type": "code",
   "execution_count": 749,
   "metadata": {},
   "outputs": [],
   "source": [
    "'''\n",
    "Ingresa en la lista el nombre de las fatrues que quieres utlizar en este modelo (~1 linea)\n",
    "'''\n",
    "features_filtro = ['mean radius', 'mean texture']"
   ]
  },
  {
   "cell_type": "code",
   "execution_count": 750,
   "metadata": {},
   "outputs": [],
   "source": [
    "X_train_m1 = helper.fitrar_nombre(X_train_m1,data.feature_names,features_filtro)\n",
    "X_test_features = helper.fitrar_nombre(X_test,data.feature_names,features_filtro)"
   ]
  },
  {
   "cell_type": "code",
   "execution_count": 751,
   "metadata": {},
   "outputs": [
    {
     "data": {
      "text/plain": [
       "(150, 2)"
      ]
     },
     "execution_count": 751,
     "metadata": {},
     "output_type": "execute_result"
    }
   ],
   "source": [
    "X_train_m1.shape"
   ]
  },
  {
   "cell_type": "code",
   "execution_count": 752,
   "metadata": {},
   "outputs": [
    {
     "data": {
      "text/plain": [
       "(143, 2)"
      ]
     },
     "execution_count": 752,
     "metadata": {},
     "output_type": "execute_result"
    }
   ],
   "source": [
    "X_test_features.shape"
   ]
  },
  {
   "cell_type": "code",
   "execution_count": 753,
   "metadata": {},
   "outputs": [],
   "source": [
    "## Numero de iteracions ##\n",
    "iterations = 300  # Define el numero de iteraciones #\n",
    "\n",
    "## Alpha ##\n",
    "alpha = 0.02 # Define el valor de alpha #\n",
    "\n",
    "#### No hay que cambiar el codigo despues de esta linea #####\n",
    "## Numero de feautres ##\n",
    "numero_features = X_train_m1.shape[1] + 1\n",
    "\n",
    "## Creamos un vector donde se almacenan los valores de Theta,\n",
    "## lo inicializamos con numeros aleatorios\n",
    "theta_vector = np.random.rand(numero_features)\n",
    "\n",
    "## Normaliza las features de X_train_features (~1 linea) ##\n",
    "X_train_m1 =  normalizar(X_train_m1)\n",
    "\n",
    "# Creando la Matriz X de features, \n",
    "# utilizamos np.ones para agregar el valor constante '1' que es el bias o feature 0\n",
    "X_train_features = np.ones((X_train_m1.shape[0], numero_features))\n",
    "X_train_features[:,:-1] = X_train_m1"
   ]
  },
  {
   "cell_type": "code",
   "execution_count": 754,
   "metadata": {
    "scrolled": true
   },
   "outputs": [
    {
     "name": "stdout",
     "output_type": "stream",
     "text": [
      "#####################\n",
      "TRAINING: [Iteracion:  0  Costo:  0.8242635056545118  Accuracy: 0.6266666666666667  F1 Score: 0.7704918032786885 Precision training: 0.6351351351351351 Recall training: <function recall at 0x05CD7B70> ]\n",
      "TEST: [Iteracion:  0 Accuracy: 0.6293706293706294  F1 Score: 0.7725321888412017 Precision Test: 0.6293706293706294 Recall Test: 1.0 ]\n",
      "#####################\n",
      "TRAINING: [Iteracion:  100  Costo:  0.5287862904854033  Accuracy: 0.7666666666666667  F1 Score: 0.8458149779735683 Precision training: 0.732824427480916 Recall training: <function recall at 0x05CD7B70> ]\n",
      "TEST: [Iteracion:  100 Accuracy: 0.7062937062937062  F1 Score: 0.8108108108108109 Precision Test: 0.6818181818181818 Recall Test: 1.0 ]\n",
      "#####################\n",
      "TRAINING: [Iteracion:  200  Costo:  0.4253172232487964  Accuracy: 0.8333333333333334  F1 Score: 0.8826291079812206 Precision training: 0.8034188034188035 Recall training: <function recall at 0x05CD7B70> ]\n",
      "TEST: [Iteracion:  200 Accuracy: 0.8461538461538461  F1 Score: 0.89 Precision Test: 0.8090909090909091 Recall Test: 0.9888888888888889 ]\n"
     ]
    }
   ],
   "source": [
    "modelo_1_theta_values, cost_vect, acc_vect, acc_vect_test = \\\n",
    "gradient_descent(X_train_features, Y_train_m1, theta_vector, alpha, iterations, X_test_features, y_test, 'modelo_1')"
   ]
  },
  {
   "cell_type": "code",
   "execution_count": 755,
   "metadata": {},
   "outputs": [
    {
     "data": {
      "image/png": "[encoded data removed]",
      "text/plain": [
       "<matplotlib.figure.Figure at 0x90f2bf0>"
      ]
     },
     "metadata": {},
     "output_type": "display_data"
    }
   ],
   "source": [
    "## Funcion para graficar el costo y  accuracy durante cada iteracion ##\n",
    "helper.training_graph(cost_vect, acc_vect, acc_vect_test)"
   ]
  },
  {
   "cell_type": "markdown",
   "metadata": {},
   "source": [
    "### Accuracy y Matriz de confusion Training Set\n",
    "\n",
    "![alt text](https://rasbt.github.io/mlxtend/user_guide/evaluate/confusion_matrix_files/confusion_matrix_1.png)"
   ]
  },
  {
   "cell_type": "code",
   "execution_count": 756,
   "metadata": {},
   "outputs": [
    {
     "name": "stdout",
     "output_type": "stream",
     "text": [
      "Accuracy: 84.66666666666667 %\n",
      "\n",
      "Matriz de confusion\n"
     ]
    },
    {
     "data": {
      "text/plain": [
       "array([[33, 21],\n",
       "       [ 2, 94]], dtype=int64)"
      ]
     },
     "execution_count": 756,
     "metadata": {},
     "output_type": "execute_result"
    }
   ],
   "source": [
    "y_hat = get_hipotesis(X_train_features, modelo_1_theta_values)\n",
    "y_predict = np.array([1 if (y > 0.5) else 0 for y in y_hat])\n",
    "\n",
    "print('Accuracy:', accuracy_score(Y_train_m1,y_predict) * 100 ,'%')\n",
    "print()\n",
    "print('Matriz de confusion')\n",
    "confusion_matrix(Y_train_m1, y_predict )"
   ]
  },
  {
   "cell_type": "markdown",
   "metadata": {},
   "source": [
    "#### Accuracy con el Test set"
   ]
  },
  {
   "cell_type": "code",
   "execution_count": 757,
   "metadata": {},
   "outputs": [],
   "source": [
    "y_predict = prediccion(X_test_features, modelo_1_theta_values, True)"
   ]
  },
  {
   "cell_type": "code",
   "execution_count": 758,
   "metadata": {},
   "outputs": [
    {
     "name": "stdout",
     "output_type": "stream",
     "text": [
      "Accuracy: 87.41258741258741 %\n"
     ]
    }
   ],
   "source": [
    "print('Accuracy:',accuracy_score(y_test, y_predict)* 100 ,'%')"
   ]
  },
  {
   "cell_type": "markdown",
   "metadata": {},
   "source": [
    "#### Matriz de confusion Test Set"
   ]
  },
  {
   "cell_type": "code",
   "execution_count": 759,
   "metadata": {},
   "outputs": [
    {
     "data": {
      "text/plain": [
       "array([[37, 16],\n",
       "       [ 2, 88]], dtype=int64)"
      ]
     },
     "execution_count": 759,
     "metadata": {},
     "output_type": "execute_result"
    }
   ],
   "source": [
    "confusion_matrix(y_test, y_predict)"
   ]
  },
  {
   "cell_type": "code",
   "execution_count": 760,
   "metadata": {},
   "outputs": [
    {
     "name": "stdout",
     "output_type": "stream",
     "text": [
      "precision:  0.8461538461538461\n",
      "recall:  0.9777777777777777\n"
     ]
    }
   ],
   "source": [
    "print('precision: ',precision_score(y_test, y_predict))\n",
    "\n",
    "print('recall: ', recall_score(y_test, y_predict))"
   ]
  },
  {
   "cell_type": "markdown",
   "metadata": {},
   "source": [
    "## Entrenamiento modelo 2"
   ]
  },
  {
   "cell_type": "markdown",
   "metadata": {},
   "source": [
    "#### Sampleo bootstrap"
   ]
  },
  {
   "cell_type": "code",
   "execution_count": 761,
   "metadata": {},
   "outputs": [],
   "source": [
    "'''\n",
    "Ingresa en la lista el nombre de las fatrues que quieres utlizar en este modelo (~1 linea)\n",
    "'''\n",
    "X_train_m2, Y_train_m2 = resample(X_train, y_train, n_samples = 400)"
   ]
  },
  {
   "cell_type": "markdown",
   "metadata": {},
   "source": [
    "### Filtrar Features\n",
    "Solo seleccionar los features"
   ]
  },
  {
   "cell_type": "code",
   "execution_count": 762,
   "metadata": {},
   "outputs": [],
   "source": [
    "features_filtro = ['mean perimeter', 'mean area','mean smoothness']"
   ]
  },
  {
   "cell_type": "code",
   "execution_count": 763,
   "metadata": {},
   "outputs": [],
   "source": [
    "X_train_m2 = helper.fitrar_nombre(X_train_m2,data.feature_names,features_filtro)\n",
    "X_test_features = helper.fitrar_nombre(X_test,data.feature_names,features_filtro)"
   ]
  },
  {
   "cell_type": "code",
   "execution_count": 764,
   "metadata": {},
   "outputs": [],
   "source": [
    "## Numero de iteracions ##\n",
    "iterations = 1000  # Define el numero de iteraciones #\n",
    "\n",
    "## Alpha ##\n",
    "alpha = 0.05 # Define el valor de alpha #\n",
    "\n",
    "#### No hay que cambiar el codigo despues de esta linea #####\n",
    "## Numero de feautres ##\n",
    "numero_features = X_train_m2.shape[1] + 1\n",
    "\n",
    "## Creamos un vector donde se almacenan los valores de Theta,\n",
    "## lo inicializamos con numeros aleatorios\n",
    "theta_vector = np.random.rand(numero_features)\n",
    "\n",
    "## Normaliza las features de X_train_features (~1 linea) ##\n",
    "X_train_m2 = normalizar(X_train_m2)\n",
    "\n",
    "# Creando la Matriz X de features, \n",
    "# utilizamos np.ones para agregar el valor constante '1' que es el bias o feature 0\n",
    "X_train_features = np.ones((X_train_m2.shape[0], numero_features))\n",
    "X_train_features[:,:-1] = X_train_m2"
   ]
  },
  {
   "cell_type": "code",
   "execution_count": 765,
   "metadata": {},
   "outputs": [
    {
     "name": "stdout",
     "output_type": "stream",
     "text": [
      "#####################\n",
      "TRAINING: [Iteracion:  0  Costo:  0.9798879590880216  Accuracy: 0.3125  F1 Score: 0.4510978043912176 Precision training: 0.4767932489451477 Recall training: <function recall at 0x05CD7B70> ]\n",
      "TEST: [Iteracion:  0 Accuracy: 0.34265734265734266  F1 Score: 0.4719101123595506 Precision Test: 0.4772727272727273 Recall Test: 0.4666666666666667 ]\n",
      "#####################\n",
      "TRAINING: [Iteracion:  100  Costo:  0.29846366755209247  Accuracy: 0.9  F1 Score: 0.927536231884058 Precision training: 0.8888888888888888 Recall training: <function recall at 0x05CD7B70> ]\n",
      "TEST: [Iteracion:  100 Accuracy: 0.8671328671328671  F1 Score: 0.9015544041450777 Precision Test: 0.8446601941747572 Recall Test: 0.9666666666666667 ]\n",
      "#####################\n",
      "TRAINING: [Iteracion:  200  Costo:  0.22412191211164526  Accuracy: 0.92  F1 Score: 0.940959409594096 Precision training: 0.9172661870503597 Recall training: <function recall at 0x05CD7B70> ]\n",
      "TEST: [Iteracion:  200 Accuracy: 0.8741258741258742  F1 Score: 0.9052631578947369 Precision Test: 0.86 Recall Test: 0.9555555555555556 ]\n",
      "#####################\n",
      "TRAINING: [Iteracion:  300  Costo:  0.1958536902230892  Accuracy: 0.9225  F1 Score: 0.942271880819367 Precision training: 0.9267399267399268 Recall training: <function recall at 0x05CD7B70> ]\n",
      "TEST: [Iteracion:  300 Accuracy: 0.8671328671328671  F1 Score: 0.8994708994708994 Precision Test: 0.8585858585858586 Recall Test: 0.9444444444444444 ]\n",
      "#####################\n",
      "TRAINING: [Iteracion:  400  Costo:  0.18083919077851035  Accuracy: 0.9325  F1 Score: 0.949343339587242 Precision training: 0.9405204460966543 Recall training: <function recall at 0x05CD7B70> ]\n",
      "TEST: [Iteracion:  400 Accuracy: 0.8741258741258742  F1 Score: 0.9042553191489361 Precision Test: 0.8673469387755102 Recall Test: 0.9444444444444444 ]\n",
      "#####################\n",
      "TRAINING: [Iteracion:  500  Costo:  0.17151215133618525  Accuracy: 0.9325  F1 Score: 0.949343339587242 Precision training: 0.9405204460966543 Recall training: <function recall at 0x05CD7B70> ]\n",
      "TEST: [Iteracion:  500 Accuracy: 0.8881118881118881  F1 Score: 0.9139784946236558 Precision Test: 0.8854166666666666 Recall Test: 0.9444444444444444 ]\n",
      "#####################\n",
      "TRAINING: [Iteracion:  600  Costo:  0.1651690306019955  Accuracy: 0.9325  F1 Score: 0.949343339587242 Precision training: 0.9405204460966543 Recall training: <function recall at 0x05CD7B70> ]\n",
      "TEST: [Iteracion:  600 Accuracy: 0.8951048951048951  F1 Score: 0.918918918918919 Precision Test: 0.8947368421052632 Recall Test: 0.9444444444444444 ]\n",
      "#####################\n",
      "TRAINING: [Iteracion:  700  Costo:  0.1605936841824426  Accuracy: 0.9325  F1 Score: 0.949343339587242 Precision training: 0.9405204460966543 Recall training: <function recall at 0x05CD7B70> ]\n",
      "TEST: [Iteracion:  700 Accuracy: 0.8951048951048951  F1 Score: 0.918918918918919 Precision Test: 0.8947368421052632 Recall Test: 0.9444444444444444 ]\n",
      "#####################\n",
      "TRAINING: [Iteracion:  800  Costo:  0.15715426113838338  Accuracy: 0.9325  F1 Score: 0.949343339587242 Precision training: 0.9405204460966543 Recall training: <function recall at 0x05CD7B70> ]\n",
      "TEST: [Iteracion:  800 Accuracy: 0.8881118881118881  F1 Score: 0.9130434782608695 Precision Test: 0.8936170212765957 Recall Test: 0.9333333333333333 ]\n",
      "#####################\n",
      "TRAINING: [Iteracion:  900  Costo:  0.15448838878660723  Accuracy: 0.9325  F1 Score: 0.949343339587242 Precision training: 0.9405204460966543 Recall training: <function recall at 0x05CD7B70> ]\n",
      "TEST: [Iteracion:  900 Accuracy: 0.8881118881118881  F1 Score: 0.9130434782608695 Precision Test: 0.8936170212765957 Recall Test: 0.9333333333333333 ]\n"
     ]
    }
   ],
   "source": [
    "## Llama a la funcion de gradient descent, recurda definir un nombre diferente para el modelo (~1 linea) ##\n",
    "modelo_2_theta_values, cost_vect, acc_vect, acc_vect_test = \\\n",
    "gradient_descent(X_train_features, Y_train_m2, theta_vector, alpha, iterations, X_test_features, y_test, 'modelo_2')\n",
    "### FIN ##"
   ]
  },
  {
   "cell_type": "code",
   "execution_count": 766,
   "metadata": {},
   "outputs": [
    {
     "data": {
      "image/png": "[encoded data removed]",
      "text/plain": [
       "<matplotlib.figure.Figure at 0xb1b7530>"
      ]
     },
     "metadata": {},
     "output_type": "display_data"
    }
   ],
   "source": [
    "## Funcion para graficar el costo y  accuracy durante cada iteracion ##\n",
    "helper.training_graph(cost_vect, acc_vect, acc_vect_test)"
   ]
  },
  {
   "cell_type": "markdown",
   "metadata": {},
   "source": [
    "#### Accuracy con el Test set [Modelo 2]"
   ]
  },
  {
   "cell_type": "code",
   "execution_count": 767,
   "metadata": {},
   "outputs": [],
   "source": [
    "y_predict = prediccion(X_test_features, modelo_2_theta_values, True)"
   ]
  },
  {
   "cell_type": "code",
   "execution_count": 768,
   "metadata": {},
   "outputs": [
    {
     "name": "stdout",
     "output_type": "stream",
     "text": [
      "Accuracy: 88.81118881118881 %\n"
     ]
    }
   ],
   "source": [
    "print('Accuracy:',accuracy_score(y_test, y_predict)* 100 ,'%')"
   ]
  },
  {
   "cell_type": "markdown",
   "metadata": {},
   "source": [
    "#### Matriz de confusion Test Set [Modelo 2]"
   ]
  },
  {
   "cell_type": "code",
   "execution_count": 769,
   "metadata": {},
   "outputs": [
    {
     "data": {
      "text/plain": [
       "array([[43, 10],\n",
       "       [ 6, 84]], dtype=int64)"
      ]
     },
     "execution_count": 769,
     "metadata": {},
     "output_type": "execute_result"
    }
   ],
   "source": [
    "confusion_matrix(y_test, y_predict)"
   ]
  },
  {
   "cell_type": "code",
   "execution_count": 770,
   "metadata": {},
   "outputs": [
    {
     "name": "stdout",
     "output_type": "stream",
     "text": [
      "precision:  0.8936170212765957\n",
      "recall:  0.9333333333333333\n"
     ]
    }
   ],
   "source": [
    "print('precision: ',precision_score(y_test, y_predict))\n",
    "\n",
    "print('recall: ', recall_score(y_test, y_predict))"
   ]
  },
  {
   "cell_type": "markdown",
   "metadata": {},
   "source": [
    "## Entrenamiento modelo 3"
   ]
  },
  {
   "cell_type": "markdown",
   "metadata": {},
   "source": [
    "#### Sampleo bootstrap"
   ]
  },
  {
   "cell_type": "code",
   "execution_count": 771,
   "metadata": {},
   "outputs": [],
   "source": [
    "X_train_m3, Y_train_m3 = resample(X_train, y_train, n_samples = 460)"
   ]
  },
  {
   "cell_type": "markdown",
   "metadata": {},
   "source": [
    "### Filtrar Features\n",
    "Solo seleccionar los features"
   ]
  },
  {
   "cell_type": "code",
   "execution_count": 772,
   "metadata": {},
   "outputs": [],
   "source": [
    "'''\n",
    "Ingresa en la lista el nombre de las fatrues que quieres utlizar en este modelo (~1 linea)\n",
    "'''\n",
    "features_filtro = ['mean radius', 'mean texture', 'mean perimeter', 'mean area']"
   ]
  },
  {
   "cell_type": "code",
   "execution_count": 773,
   "metadata": {},
   "outputs": [],
   "source": [
    "X_train_m3 = helper.fitrar_nombre(X_train_m3,data.feature_names,features_filtro)\n",
    "X_test_features = helper.fitrar_nombre(X_test,data.feature_names,features_filtro)"
   ]
  },
  {
   "cell_type": "code",
   "execution_count": 774,
   "metadata": {},
   "outputs": [],
   "source": [
    "## Numero de iteracions ##\n",
    "iterations = 1500  # Define el numero de iteraciones #\n",
    "\n",
    "## Alpha ##\n",
    "alpha = 0.02 # Define el valor de alpha #\n",
    "\n",
    "#### No hay que cambiar el codigo despues de esta linea #####\n",
    "## Numero de feautres ##\n",
    "numero_features = X_train_m3.shape[1] + 1\n",
    "\n",
    "## Creamos un vector donde se almacenan los valores de Theta,\n",
    "## lo inicializamos con numeros aleatorios\n",
    "theta_vector = np.random.rand(numero_features)\n",
    "\n",
    "## Normaliza las features de X_train_features (~1 linea) ##\n",
    "X_train_m3 = normalizar(X_train_m3)\n",
    "\n",
    "# Creando la Matriz X de features, \n",
    "# utilizamos np.ones para agregar el valor constante '1' que es el bias o feature 0\n",
    "X_train_features = np.ones((X_train_m3.shape[0], numero_features))\n",
    "X_train_features[:,:-1] = X_train_m3"
   ]
  },
  {
   "cell_type": "code",
   "execution_count": 775,
   "metadata": {},
   "outputs": [
    {
     "name": "stdout",
     "output_type": "stream",
     "text": [
      "#####################\n",
      "TRAINING: [Iteracion:  0  Costo:  1.895676707899429  Accuracy: 0.2217391304347826  F1 Score: 0.3490909090909091 Precision training: 0.3650190114068441 Recall training: <function recall at 0x05CD7B70> ]\n",
      "TEST: [Iteracion:  0 Accuracy: 0.20279720279720279  F1 Score: 0.32941176470588235 Precision Test: 0.35 Recall Test: 0.3111111111111111 ]\n",
      "#####################\n",
      "TRAINING: [Iteracion:  100  Costo:  0.4831650329630578  Accuracy: 0.7804347826086957  F1 Score: 0.8503703703703704 Precision training: 0.7396907216494846 Recall training: <function recall at 0x05CD7B70> ]\n",
      "TEST: [Iteracion:  100 Accuracy: 0.7692307692307693  F1 Score: 0.8450704225352113 Precision Test: 0.7317073170731707 Recall Test: 1.0 ]\n",
      "#####################\n",
      "TRAINING: [Iteracion:  200  Costo:  0.3344406762020035  Accuracy: 0.8673913043478261  F1 Score: 0.90302066772655 Precision training: 0.8304093567251462 Recall training: <function recall at 0x05CD7B70> ]\n",
      "TEST: [Iteracion:  200 Accuracy: 0.8881118881118881  F1 Score: 0.9183673469387755 Precision Test: 0.8490566037735849 Recall Test: 1.0 ]\n",
      "#####################\n",
      "TRAINING: [Iteracion:  300  Costo:  0.2949866340806949  Accuracy: 0.8956521739130435  F1 Score: 0.9207920792079208 Precision training: 0.8746081504702194 Recall training: <function recall at 0x05CD7B70> ]\n",
      "TEST: [Iteracion:  300 Accuracy: 0.8811188811188811  F1 Score: 0.9109947643979057 Precision Test: 0.8613861386138614 Recall Test: 0.9666666666666667 ]\n",
      "#####################\n",
      "TRAINING: [Iteracion:  400  Costo:  0.27673094652620356  Accuracy: 0.9021739130434783  F1 Score: 0.9246231155778896 Precision training: 0.8903225806451613 Recall training: <function recall at 0x05CD7B70> ]\n",
      "TEST: [Iteracion:  400 Accuracy: 0.8881118881118881  F1 Score: 0.9157894736842105 Precision Test: 0.87 Recall Test: 0.9666666666666667 ]\n",
      "#####################\n",
      "TRAINING: [Iteracion:  500  Costo:  0.2662552680003106  Accuracy: 0.8934782608695652  F1 Score: 0.9173693086003372 Precision training: 0.8888888888888888 Recall training: <function recall at 0x05CD7B70> ]\n",
      "TEST: [Iteracion:  500 Accuracy: 0.8881118881118881  F1 Score: 0.9157894736842105 Precision Test: 0.87 Recall Test: 0.9666666666666667 ]\n",
      "#####################\n",
      "TRAINING: [Iteracion:  600  Costo:  0.25951945457981973  Accuracy: 0.9  F1 Score: 0.9215017064846416 Precision training: 0.903010033444816 Recall training: <function recall at 0x05CD7B70> ]\n",
      "TEST: [Iteracion:  600 Accuracy: 0.8811188811188811  F1 Score: 0.9100529100529101 Precision Test: 0.8686868686868687 Recall Test: 0.9555555555555556 ]\n",
      "#####################\n",
      "TRAINING: [Iteracion:  700  Costo:  0.2548709735123106  Accuracy: 0.8978260869565218  F1 Score: 0.9196581196581196 Precision training: 0.9026845637583892 Recall training: <function recall at 0x05CD7B70> ]\n",
      "TEST: [Iteracion:  700 Accuracy: 0.8881118881118881  F1 Score: 0.9148936170212767 Precision Test: 0.8775510204081632 Recall Test: 0.9555555555555556 ]\n",
      "#####################\n",
      "TRAINING: [Iteracion:  800  Costo:  0.2515037915349292  Accuracy: 0.8978260869565218  F1 Score: 0.9196581196581196 Precision training: 0.9026845637583892 Recall training: <function recall at 0x05CD7B70> ]\n",
      "TEST: [Iteracion:  800 Accuracy: 0.8881118881118881  F1 Score: 0.9148936170212767 Precision Test: 0.8775510204081632 Recall Test: 0.9555555555555556 ]\n",
      "#####################\n",
      "TRAINING: [Iteracion:  900  Costo:  0.24897681282078207  Accuracy: 0.8978260869565218  F1 Score: 0.9196581196581196 Precision training: 0.9026845637583892 Recall training: <function recall at 0x05CD7B70> ]\n",
      "TEST: [Iteracion:  900 Accuracy: 0.8881118881118881  F1 Score: 0.9148936170212767 Precision Test: 0.8775510204081632 Recall Test: 0.9555555555555556 ]\n",
      "#####################\n",
      "TRAINING: [Iteracion:  1000  Costo:  0.24702818625253728  Accuracy: 0.8978260869565218  F1 Score: 0.9196581196581196 Precision training: 0.9026845637583892 Recall training: <function recall at 0x05CD7B70> ]\n",
      "TEST: [Iteracion:  1000 Accuracy: 0.8811188811188811  F1 Score: 0.9090909090909091 Precision Test: 0.8762886597938144 Recall Test: 0.9444444444444444 ]\n",
      "#####################\n",
      "TRAINING: [Iteracion:  1100  Costo:  0.24549274011861852  Accuracy: 0.8978260869565218  F1 Score: 0.9196581196581196 Precision training: 0.9026845637583892 Recall training: <function recall at 0x05CD7B70> ]\n",
      "TEST: [Iteracion:  1100 Accuracy: 0.8811188811188811  F1 Score: 0.9090909090909091 Precision Test: 0.8762886597938144 Recall Test: 0.9444444444444444 ]\n",
      "#####################\n",
      "TRAINING: [Iteracion:  1200  Costo:  0.24426126712597102  Accuracy: 0.8978260869565218  F1 Score: 0.9196581196581196 Precision training: 0.9026845637583892 Recall training: <function recall at 0x05CD7B70> ]\n",
      "TEST: [Iteracion:  1200 Accuracy: 0.8811188811188811  F1 Score: 0.9090909090909091 Precision Test: 0.8762886597938144 Recall Test: 0.9444444444444444 ]\n",
      "#####################\n",
      "TRAINING: [Iteracion:  1300  Costo:  0.24325879875348105  Accuracy: 0.8978260869565218  F1 Score: 0.9196581196581196 Precision training: 0.9026845637583892 Recall training: <function recall at 0x05CD7B70> ]\n",
      "TEST: [Iteracion:  1300 Accuracy: 0.8811188811188811  F1 Score: 0.9090909090909091 Precision Test: 0.8762886597938144 Recall Test: 0.9444444444444444 ]\n",
      "#####################\n",
      "TRAINING: [Iteracion:  1400  Costo:  0.24243226775285007  Accuracy: 0.8978260869565218  F1 Score: 0.9196581196581196 Precision training: 0.9026845637583892 Recall training: <function recall at 0x05CD7B70> ]\n",
      "TEST: [Iteracion:  1400 Accuracy: 0.8811188811188811  F1 Score: 0.9090909090909091 Precision Test: 0.8762886597938144 Recall Test: 0.9444444444444444 ]\n"
     ]
    }
   ],
   "source": [
    "## Llama a la funcion de gradient descent, recurda definir un nombre diferente para el modelo (~1 linea) ##\n",
    "modelo_3_theta_values, cost_vect, acc_vect, acc_vect_test = \\\n",
    "gradient_descent(X_train_features, Y_train_m3, theta_vector, alpha, iterations, X_test_features, y_test, 'modelo_3')\n",
    "### FIN "
   ]
  },
  {
   "cell_type": "code",
   "execution_count": 776,
   "metadata": {},
   "outputs": [
    {
     "data": {
      "image/png": "[encoded data removed]",
      "text/plain": [
       "<matplotlib.figure.Figure at 0x346a2d0>"
      ]
     },
     "metadata": {},
     "output_type": "display_data"
    }
   ],
   "source": [
    "## Funcion para graficar el costo y  accuracy durante cada iteracion\n",
    "helper.training_graph(cost_vect, acc_vect, acc_vect_test)"
   ]
  },
  {
   "cell_type": "markdown",
   "metadata": {},
   "source": [
    "#### Accuracy con el Test set [Modelo 3]"
   ]
  },
  {
   "cell_type": "code",
   "execution_count": 777,
   "metadata": {},
   "outputs": [],
   "source": [
    "y_predict = prediccion(X_test_features, modelo_3_theta_values, True)"
   ]
  },
  {
   "cell_type": "code",
   "execution_count": 778,
   "metadata": {},
   "outputs": [
    {
     "name": "stdout",
     "output_type": "stream",
     "text": [
      "Accuracy: 88.11188811188812 %\n"
     ]
    }
   ],
   "source": [
    "print('Accuracy:',accuracy_score(y_test, y_predict)* 100 ,'%')"
   ]
  },
  {
   "cell_type": "markdown",
   "metadata": {},
   "source": [
    "#### Matriz de confusion Test Set [Modelo 3]"
   ]
  },
  {
   "cell_type": "code",
   "execution_count": 779,
   "metadata": {
    "scrolled": true
   },
   "outputs": [
    {
     "data": {
      "text/plain": [
       "array([[41, 12],\n",
       "       [ 5, 85]], dtype=int64)"
      ]
     },
     "execution_count": 779,
     "metadata": {},
     "output_type": "execute_result"
    }
   ],
   "source": [
    "confusion_matrix(y_test, y_predict)"
   ]
  },
  {
   "cell_type": "code",
   "execution_count": 780,
   "metadata": {},
   "outputs": [
    {
     "name": "stdout",
     "output_type": "stream",
     "text": [
      "precision:  0.8762886597938144\n",
      "recall:  0.9444444444444444\n"
     ]
    }
   ],
   "source": [
    "print('precision: ',precision_score(y_test, y_predict))\n",
    "\n",
    "print('recall: ', recall_score(y_test, y_predict))"
   ]
  },
  {
   "cell_type": "markdown",
   "metadata": {},
   "source": [
    "## Entrenamiento modelo 4"
   ]
  },
  {
   "cell_type": "markdown",
   "metadata": {},
   "source": [
    "#### Sampleo bootstrap"
   ]
  },
  {
   "cell_type": "code",
   "execution_count": 781,
   "metadata": {},
   "outputs": [],
   "source": [
    "X_train_m4, Y_train_m4 = resample(X_train, y_train, n_samples = 460)"
   ]
  },
  {
   "cell_type": "markdown",
   "metadata": {},
   "source": [
    "### Filtrar Features\n",
    "Solo seleccionar los features"
   ]
  },
  {
   "cell_type": "code",
   "execution_count": 782,
   "metadata": {},
   "outputs": [],
   "source": [
    "'''\n",
    "Ingresa en la lista el nombre de las fatrues que quieres utlizar en este modelo (~1 linea)\n",
    "'''\n",
    "features_filtro = ['mean radius', 'mean texture', 'mean perimeter', 'mean area','mean smoothness']"
   ]
  },
  {
   "cell_type": "code",
   "execution_count": 783,
   "metadata": {},
   "outputs": [],
   "source": [
    "X_train_m4 = helper.fitrar_nombre(X_train_m4,data.feature_names,features_filtro)\n",
    "X_test_features = helper.fitrar_nombre(X_test,data.feature_names,features_filtro)"
   ]
  },
  {
   "cell_type": "code",
   "execution_count": 784,
   "metadata": {},
   "outputs": [],
   "source": [
    "## Numero de iteracions ##\n",
    "iterations = 1000 # Define el numero de iteraciones #\n",
    "\n",
    "## Alpha ##\n",
    "alpha = 0.03 # Define el valor de alpha #\n",
    "\n",
    "#### No hay que cambiar el codigo despues de esta linea #####\n",
    "## Numero de feautres ##\n",
    "numero_features = X_train_m4.shape[1] + 1\n",
    "\n",
    "## Creamos un vector donde se almacenan los valores de Theta,\n",
    "## lo inicializamos con numeros aleatorios\n",
    "theta_vector = np.random.rand(numero_features)\n",
    "\n",
    "## Normaliza las features de X_train_features (~1 linea) ##\n",
    "X_train_m4 = normalizar(X_train_m4)\n",
    "\n",
    "# Creando la Matriz X de features\n",
    "X_train_features = np.ones((X_train_m4.shape[0], numero_features))\n",
    "X_train_features[:,:-1] = X_train_m4"
   ]
  },
  {
   "cell_type": "code",
   "execution_count": 785,
   "metadata": {
    "scrolled": true
   },
   "outputs": [
    {
     "name": "stdout",
     "output_type": "stream",
     "text": [
      "#####################\n",
      "TRAINING: [Iteracion:  0  Costo:  1.1258554398331813  Accuracy: 0.1673913043478261  F1 Score: 0.23856858846918488 Precision training: 0.3191489361702128 Recall training: <function recall at 0x05CD7B70> ]\n",
      "TEST: [Iteracion:  0 Accuracy: 0.14685314685314685  F1 Score: 0.20779220779220778 Precision Test: 0.25 Recall Test: 0.17777777777777778 ]\n",
      "#####################\n",
      "TRAINING: [Iteracion:  100  Costo:  0.319665296152537  Accuracy: 0.9260869565217391  F1 Score: 0.9480122324159023 Precision training: 0.9144542772861357 Recall training: <function recall at 0x05CD7B70> ]\n",
      "TEST: [Iteracion:  100 Accuracy: 0.8671328671328671  F1 Score: 0.8994708994708994 Precision Test: 0.8585858585858586 Recall Test: 0.9444444444444444 ]\n",
      "#####################\n",
      "TRAINING: [Iteracion:  200  Costo:  0.2369418327978503  Accuracy: 0.9369565217391305  F1 Score: 0.9553158705701078 Precision training: 0.9281437125748503 Recall training: <function recall at 0x05CD7B70> ]\n",
      "TEST: [Iteracion:  200 Accuracy: 0.9020979020979021  F1 Score: 0.9255319148936171 Precision Test: 0.8877551020408163 Recall Test: 0.9666666666666667 ]\n",
      "#####################\n",
      "TRAINING: [Iteracion:  300  Costo:  0.20495222034112498  Accuracy: 0.9521739130434783  F1 Score: 0.9657320872274143 Precision training: 0.9480122324159022 Recall training: <function recall at 0x05CD7B70> ]\n",
      "TEST: [Iteracion:  300 Accuracy: 0.916083916083916  F1 Score: 0.9354838709677419 Precision Test: 0.90625 Recall Test: 0.9666666666666667 ]\n",
      "#####################\n",
      "TRAINING: [Iteracion:  400  Costo:  0.18761910384747174  Accuracy: 0.9543478260869566  F1 Score: 0.9672386895475819 Precision training: 0.950920245398773 Recall training: <function recall at 0x05CD7B70> ]\n",
      "TEST: [Iteracion:  400 Accuracy: 0.9230769230769231  F1 Score: 0.9405405405405406 Precision Test: 0.9157894736842105 Recall Test: 0.9666666666666667 ]\n",
      "#####################\n",
      "TRAINING: [Iteracion:  500  Costo:  0.17666993993356683  Accuracy: 0.9586956521739131  F1 Score: 0.9703588143525741 Precision training: 0.9539877300613497 Recall training: <function recall at 0x05CD7B70> ]\n",
      "TEST: [Iteracion:  500 Accuracy: 0.9230769230769231  F1 Score: 0.9405405405405406 Precision Test: 0.9157894736842105 Recall Test: 0.9666666666666667 ]\n",
      "#####################\n",
      "TRAINING: [Iteracion:  600  Costo:  0.1691134395250028  Accuracy: 0.9586956521739131  F1 Score: 0.9703588143525741 Precision training: 0.9539877300613497 Recall training: <function recall at 0x05CD7B70> ]\n",
      "TEST: [Iteracion:  600 Accuracy: 0.9230769230769231  F1 Score: 0.9405405405405406 Precision Test: 0.9157894736842105 Recall Test: 0.9666666666666667 ]\n",
      "#####################\n",
      "TRAINING: [Iteracion:  700  Costo:  0.16358764357949868  Accuracy: 0.9565217391304348  F1 Score: 0.96875 Precision training: 0.9538461538461539 Recall training: <function recall at 0x05CD7B70> ]\n",
      "TEST: [Iteracion:  700 Accuracy: 0.9230769230769231  F1 Score: 0.9405405405405406 Precision Test: 0.9157894736842105 Recall Test: 0.9666666666666667 ]\n",
      "#####################\n",
      "TRAINING: [Iteracion:  800  Costo:  0.15937802604799925  Accuracy: 0.9565217391304348  F1 Score: 0.96875 Precision training: 0.9538461538461539 Recall training: <function recall at 0x05CD7B70> ]\n",
      "TEST: [Iteracion:  800 Accuracy: 0.9230769230769231  F1 Score: 0.9405405405405406 Precision Test: 0.9157894736842105 Recall Test: 0.9666666666666667 ]\n",
      "#####################\n",
      "TRAINING: [Iteracion:  900  Costo:  0.15607170319422287  Accuracy: 0.9565217391304348  F1 Score: 0.96875 Precision training: 0.9538461538461539 Recall training: <function recall at 0x05CD7B70> ]\n",
      "TEST: [Iteracion:  900 Accuracy: 0.9230769230769231  F1 Score: 0.9405405405405406 Precision Test: 0.9157894736842105 Recall Test: 0.9666666666666667 ]\n"
     ]
    }
   ],
   "source": [
    "## Llama a la funcion de gradient descent, recurda definir un nombre diferente para el modelo (~1 linea) ##\n",
    "modelo_4_theta_values, cost_vect, acc_vect, acc_vect_test = \\\n",
    "gradient_descent(X_train_features, Y_train_m4, theta_vector, alpha, iterations, X_test_features, y_test, 'modelo_4')"
   ]
  },
  {
   "cell_type": "code",
   "execution_count": 786,
   "metadata": {},
   "outputs": [
    {
     "data": {
      "image/png": "[encoded data removed]",
      "text/plain": [
       "<matplotlib.figure.Figure at 0x9123e90>"
      ]
     },
     "metadata": {},
     "output_type": "display_data"
    }
   ],
   "source": [
    "## Funcion para graficar el costo y  accuracy durante cada iteracion ##\n",
    "helper.training_graph(cost_vect, acc_vect, acc_vect_test)"
   ]
  },
  {
   "cell_type": "markdown",
   "metadata": {},
   "source": [
    "#### Accuracy con el Test set [Modelo 4]"
   ]
  },
  {
   "cell_type": "code",
   "execution_count": 787,
   "metadata": {},
   "outputs": [],
   "source": [
    "y_predict = prediccion(X_test_features, modelo_4_theta_values, True)"
   ]
  },
  {
   "cell_type": "code",
   "execution_count": 788,
   "metadata": {
    "scrolled": false
   },
   "outputs": [
    {
     "name": "stdout",
     "output_type": "stream",
     "text": [
      "Accuracy: 92.3076923076923 %\n"
     ]
    }
   ],
   "source": [
    "print('Accuracy:',accuracy_score(y_test, y_predict)* 100 ,'%')"
   ]
  },
  {
   "cell_type": "markdown",
   "metadata": {},
   "source": [
    "#### Matriz de confusion Test Set [Modelo 4]"
   ]
  },
  {
   "cell_type": "code",
   "execution_count": 789,
   "metadata": {
    "scrolled": true
   },
   "outputs": [
    {
     "data": {
      "text/plain": [
       "array([[45,  8],\n",
       "       [ 3, 87]], dtype=int64)"
      ]
     },
     "execution_count": 789,
     "metadata": {},
     "output_type": "execute_result"
    }
   ],
   "source": [
    "confusion_matrix(y_test, y_predict)"
   ]
  },
  {
   "cell_type": "code",
   "execution_count": 790,
   "metadata": {},
   "outputs": [
    {
     "name": "stdout",
     "output_type": "stream",
     "text": [
      "precision:  0.9157894736842105\n",
      "recall:  0.9666666666666667\n"
     ]
    }
   ],
   "source": [
    "print('precision: ',precision_score(y_test, y_predict))\n",
    "\n",
    "print('recall: ', recall_score(y_test, y_predict))"
   ]
  },
  {
   "cell_type": "markdown",
   "metadata": {},
   "source": [
    "## Entrenamiento modelo 5"
   ]
  },
  {
   "cell_type": "markdown",
   "metadata": {},
   "source": [
    "#### Sampleo bootstrap"
   ]
  },
  {
   "cell_type": "code",
   "execution_count": 791,
   "metadata": {},
   "outputs": [],
   "source": [
    "X_train_m5, Y_train_m5 = resample(X_train, y_train, n_samples = 460)"
   ]
  },
  {
   "cell_type": "markdown",
   "metadata": {},
   "source": [
    "### Filtrar Features\n",
    "Solo seleccionar los features"
   ]
  },
  {
   "cell_type": "code",
   "execution_count": 792,
   "metadata": {},
   "outputs": [],
   "source": [
    "'''\n",
    "Ingresa en la lista el nombre de las fatrues que quieres utlizar en este modelo (~1 linea)\n",
    "'''\n",
    "features_filtro = ['mean radius', 'mean texture', 'mean perimeter', 'mean area','mean smoothness']"
   ]
  },
  {
   "cell_type": "code",
   "execution_count": 793,
   "metadata": {},
   "outputs": [],
   "source": [
    "X_train_m5 = helper.fitrar_nombre(X_train_m5,data.feature_names,features_filtro)\n",
    "X_test_features = helper.fitrar_nombre(X_test,data.feature_names,features_filtro)"
   ]
  },
  {
   "cell_type": "code",
   "execution_count": 794,
   "metadata": {},
   "outputs": [],
   "source": [
    "## Numero de iteracions ##\n",
    "iterations = 2000 # Define el numero de iteraciones #\n",
    "\n",
    "## Alpha ##\n",
    "alpha = 0.005 # Define el valor de alpha #\n",
    "\n",
    "#### No hay que cambiar el codigo despues de esta linea #####\n",
    "## Numero de feautres ##\n",
    "numero_features = X_train_m5.shape[1] + 1\n",
    "\n",
    "## Creamos un vector donde se almacenan los valores de Theta,\n",
    "## lo inicializamos con numeros aleatorios\n",
    "theta_vector = np.random.rand(numero_features)\n",
    "\n",
    "## Normaliza las features de X_train_features (~1 linea) ##\n",
    "X_train_m5 = normalizar(X_train_m5)\n",
    "\n",
    "# Creando la Matriz X de features\n",
    "X_train_features = np.ones((X_train_m5.shape[0], numero_features))\n",
    "X_train_features[:,:-1] = X_train_m5"
   ]
  },
  {
   "cell_type": "code",
   "execution_count": 795,
   "metadata": {
    "scrolled": true
   },
   "outputs": [
    {
     "name": "stdout",
     "output_type": "stream",
     "text": [
      "#####################\n",
      "TRAINING: [Iteracion:  0  Costo:  1.78866853108982  Accuracy: 0.1608695652173913  F1 Score: 0.26615969581749055 Precision training: 0.28 Recall training: <function recall at 0x05CD7B70> ]\n",
      "TEST: [Iteracion:  0 Accuracy: 0.20279720279720279  F1 Score: 0.3372093023255814 Precision Test: 0.35365853658536583 Recall Test: 0.32222222222222224 ]\n",
      "#####################\n",
      "TRAINING: [Iteracion:  100  Costo:  1.1797180579747248  Accuracy: 0.31521739130434784  F1 Score: 0.47933884297520657 Precision training: 0.44072948328267475 Recall training: <function recall at 0x05CD7B70> ]\n",
      "TEST: [Iteracion:  100 Accuracy: 0.3776223776223776  F1 Score: 0.5482233502538071 Precision Test: 0.5046728971962616 Recall Test: 0.6 ]\n",
      "#####################\n",
      "TRAINING: [Iteracion:  200  Costo:  0.7766629710338523  Accuracy: 0.5826086956521739  F1 Score: 0.7362637362637363 Precision training: 0.5929203539823009 Recall training: <function recall at 0x05CD7B70> ]\n",
      "TEST: [Iteracion:  200 Accuracy: 0.6153846153846154  F1 Score: 0.7619047619047619 Precision Test: 0.624113475177305 Recall Test: 0.9777777777777777 ]\n",
      "#####################\n",
      "TRAINING: [Iteracion:  300  Costo:  0.5614534917739836  Accuracy: 0.6891304347826087  F1 Score: 0.7942446043165469 Precision training: 0.6587112171837709 Recall training: <function recall at 0x05CD7B70> ]\n",
      "TEST: [Iteracion:  300 Accuracy: 0.7062937062937062  F1 Score: 0.8108108108108109 Precision Test: 0.6818181818181818 Recall Test: 1.0 ]\n",
      "#####################\n",
      "TRAINING: [Iteracion:  400  Costo:  0.453752851797079  Accuracy: 0.8217391304347826  F1 Score: 0.8706624605678234 Precision training: 0.770949720670391 Recall training: <function recall at 0x05CD7B70> ]\n",
      "TEST: [Iteracion:  400 Accuracy: 0.8111888111888111  F1 Score: 0.8695652173913044 Precision Test: 0.7692307692307693 Recall Test: 1.0 ]\n",
      "#####################\n",
      "TRAINING: [Iteracion:  500  Costo:  0.3932106523880504  Accuracy: 0.8630434782608696  F1 Score: 0.8975609756097562 Precision training: 0.8141592920353983 Recall training: <function recall at 0x05CD7B70> ]\n",
      "TEST: [Iteracion:  500 Accuracy: 0.8671328671328671  F1 Score: 0.9045226130653267 Precision Test: 0.8256880733944955 Recall Test: 1.0 ]\n",
      "#####################\n",
      "TRAINING: [Iteracion:  600  Costo:  0.35455486149206566  Accuracy: 0.8760869565217392  F1 Score: 0.9057851239669421 Precision training: 0.8328267477203647 Recall training: <function recall at 0x05CD7B70> ]\n",
      "TEST: [Iteracion:  600 Accuracy: 0.8951048951048951  F1 Score: 0.923076923076923 Precision Test: 0.8571428571428571 Recall Test: 1.0 ]\n",
      "#####################\n",
      "TRAINING: [Iteracion:  700  Costo:  0.3274864424998304  Accuracy: 0.8913043478260869  F1 Score: 0.9163879598662207 Precision training: 0.8509316770186336 Recall training: <function recall at 0x05CD7B70> ]\n",
      "TEST: [Iteracion:  700 Accuracy: 0.9090909090909091  F1 Score: 0.932642487046632 Precision Test: 0.8737864077669902 Recall Test: 1.0 ]\n",
      "#####################\n",
      "TRAINING: [Iteracion:  800  Costo:  0.3072704936944913  Accuracy: 0.8913043478260869  F1 Score: 0.9161073825503355 Precision training: 0.853125 Recall training: <function recall at 0x05CD7B70> ]\n",
      "TEST: [Iteracion:  800 Accuracy: 0.9230769230769231  F1 Score: 0.9417989417989419 Precision Test: 0.898989898989899 Recall Test: 0.9888888888888889 ]\n",
      "#####################\n",
      "TRAINING: [Iteracion:  900  Costo:  0.29145999267502665  Accuracy: 0.8869565217391304  F1 Score: 0.9124579124579125 Precision training: 0.8522012578616353 Recall training: <function recall at 0x05CD7B70> ]\n",
      "TEST: [Iteracion:  900 Accuracy: 0.916083916083916  F1 Score: 0.9361702127659575 Precision Test: 0.8979591836734694 Recall Test: 0.9777777777777777 ]\n",
      "#####################\n",
      "TRAINING: [Iteracion:  1000  Costo:  0.2786661906304152  Accuracy: 0.9065217391304348  F1 Score: 0.9264957264957265 Precision training: 0.8770226537216829 Recall training: <function recall at 0x05CD7B70> ]\n",
      "TEST: [Iteracion:  1000 Accuracy: 0.9090909090909091  F1 Score: 0.93048128342246 Precision Test: 0.8969072164948454 Recall Test: 0.9666666666666667 ]\n",
      "#####################\n",
      "TRAINING: [Iteracion:  1100  Costo:  0.2680409888833666  Accuracy: 0.9065217391304348  F1 Score: 0.9264957264957265 Precision training: 0.8770226537216829 Recall training: <function recall at 0x05CD7B70> ]\n",
      "TEST: [Iteracion:  1100 Accuracy: 0.916083916083916  F1 Score: 0.9354838709677419 Precision Test: 0.90625 Recall Test: 0.9666666666666667 ]\n",
      "#####################\n",
      "TRAINING: [Iteracion:  1200  Costo:  0.2590355253884314  Accuracy: 0.9173913043478261  F1 Score: 0.9344827586206896 Precision training: 0.8914473684210527 Recall training: <function recall at 0x05CD7B70> ]\n",
      "TEST: [Iteracion:  1200 Accuracy: 0.916083916083916  F1 Score: 0.9354838709677419 Precision Test: 0.90625 Recall Test: 0.9666666666666667 ]\n",
      "#####################\n",
      "TRAINING: [Iteracion:  1300  Costo:  0.25127761484620115  Accuracy: 0.9173913043478261  F1 Score: 0.9344827586206896 Precision training: 0.8914473684210527 Recall training: <function recall at 0x05CD7B70> ]\n",
      "TEST: [Iteracion:  1300 Accuracy: 0.9230769230769231  F1 Score: 0.9405405405405406 Precision Test: 0.9157894736842105 Recall Test: 0.9666666666666667 ]\n",
      "#####################\n",
      "TRAINING: [Iteracion:  1400  Costo:  0.2445050416002657  Accuracy: 0.9195652173913044  F1 Score: 0.9360967184801381 Precision training: 0.8943894389438944 Recall training: <function recall at 0x05CD7B70> ]\n",
      "TEST: [Iteracion:  1400 Accuracy: 0.9230769230769231  F1 Score: 0.9405405405405406 Precision Test: 0.9157894736842105 Recall Test: 0.9666666666666667 ]\n",
      "#####################\n",
      "TRAINING: [Iteracion:  1500  Costo:  0.23852710036615274  Accuracy: 0.9195652173913044  F1 Score: 0.9360967184801381 Precision training: 0.8943894389438944 Recall training: <function recall at 0x05CD7B70> ]\n",
      "TEST: [Iteracion:  1500 Accuracy: 0.9230769230769231  F1 Score: 0.9405405405405406 Precision Test: 0.9157894736842105 Recall Test: 0.9666666666666667 ]\n",
      "#####################\n",
      "TRAINING: [Iteracion:  1600  Costo:  0.23320132878139224  Accuracy: 0.9173913043478261  F1 Score: 0.9342560553633218 Precision training: 0.8940397350993378 Recall training: <function recall at 0x05CD7B70> ]\n",
      "TEST: [Iteracion:  1600 Accuracy: 0.9230769230769231  F1 Score: 0.9405405405405406 Precision Test: 0.9157894736842105 Recall Test: 0.9666666666666667 ]\n",
      "#####################\n",
      "TRAINING: [Iteracion:  1700  Costo:  0.2284188449069767  Accuracy: 0.9195652173913044  F1 Score: 0.9358752166377816 Precision training: 0.8970099667774086 Recall training: <function recall at 0x05CD7B70> ]\n",
      "TEST: [Iteracion:  1700 Accuracy: 0.9230769230769231  F1 Score: 0.9405405405405406 Precision Test: 0.9157894736842105 Recall Test: 0.9666666666666667 ]\n",
      "#####################\n",
      "TRAINING: [Iteracion:  1800  Costo:  0.22409477893812835  Accuracy: 0.9195652173913044  F1 Score: 0.9358752166377816 Precision training: 0.8970099667774086 Recall training: <function recall at 0x05CD7B70> ]\n",
      "TEST: [Iteracion:  1800 Accuracy: 0.9230769230769231  F1 Score: 0.9405405405405406 Precision Test: 0.9157894736842105 Recall Test: 0.9666666666666667 ]\n",
      "#####################\n",
      "TRAINING: [Iteracion:  1900  Costo:  0.22016183767112973  Accuracy: 0.9239130434782609  F1 Score: 0.9391304347826087 Precision training: 0.903010033444816 Recall training: <function recall at 0x05CD7B70> ]\n",
      "TEST: [Iteracion:  1900 Accuracy: 0.9090909090909091  F1 Score: 0.9289617486338798 Precision Test: 0.9139784946236559 Recall Test: 0.9444444444444444 ]\n"
     ]
    }
   ],
   "source": [
    "## Llama a la funcion de gradient descent, recurda definir un nombre diferente para el modelo (~1 linea) ##\n",
    "modelo_5_theta_values, cost_vect, acc_vect, acc_vect_test = \\\n",
    "gradient_descent(X_train_features, Y_train_m5, theta_vector, alpha, iterations, X_test_features, y_test, 'modelo_5')"
   ]
  },
  {
   "cell_type": "code",
   "execution_count": 796,
   "metadata": {},
   "outputs": [
    {
     "data": {
      "image/png": "[encoded data removed]",
      "text/plain": [
       "<matplotlib.figure.Figure at 0x3416870>"
      ]
     },
     "metadata": {},
     "output_type": "display_data"
    }
   ],
   "source": [
    "## Funcion para graficar el costo y  accuracy durante cada iteracion ##\n",
    "helper.training_graph(cost_vect, acc_vect, acc_vect_test)"
   ]
  },
  {
   "cell_type": "markdown",
   "metadata": {},
   "source": [
    "#### Accuracy con el Test set [Modelo 5]"
   ]
  },
  {
   "cell_type": "code",
   "execution_count": 797,
   "metadata": {},
   "outputs": [],
   "source": [
    "y_predict = prediccion(X_test_features, modelo_5_theta_values, True)"
   ]
  },
  {
   "cell_type": "code",
   "execution_count": 798,
   "metadata": {
    "scrolled": false
   },
   "outputs": [
    {
     "name": "stdout",
     "output_type": "stream",
     "text": [
      "Accuracy: 90.9090909090909 %\n"
     ]
    }
   ],
   "source": [
    "print('Accuracy:',accuracy_score(y_test, y_predict)* 100 ,'%')"
   ]
  },
  {
   "cell_type": "markdown",
   "metadata": {},
   "source": [
    "#### Matriz de confusion Test Set [Modelo 5]"
   ]
  },
  {
   "cell_type": "code",
   "execution_count": 799,
   "metadata": {
    "scrolled": true
   },
   "outputs": [
    {
     "data": {
      "text/plain": [
       "array([[45,  8],\n",
       "       [ 5, 85]], dtype=int64)"
      ]
     },
     "execution_count": 799,
     "metadata": {},
     "output_type": "execute_result"
    }
   ],
   "source": [
    "confusion_matrix(y_test, y_predict)"
   ]
  },
  {
   "cell_type": "code",
   "execution_count": 800,
   "metadata": {},
   "outputs": [
    {
     "name": "stdout",
     "output_type": "stream",
     "text": [
      "precision:  0.9139784946236559\n",
      "recall:  0.9444444444444444\n"
     ]
    }
   ],
   "source": [
    "print('precision: ',precision_score(y_test, y_predict))\n",
    "\n",
    "print('recall: ', recall_score(y_test, y_predict))"
   ]
  },
  {
   "cell_type": "markdown",
   "metadata": {},
   "source": [
    "# Comparacion de Modelos\n",
    "Es importante llevar un registro de los resultados de nuestros modelos y los hyperparametros que utilizamos, para ir comparando y ajustando los modelos. En nuestra función de gradient descent esta implementado un registro a bitacora, que almacena cada ejecucion de la funcion.\n",
    "\n",
    "Este registro almacena datos que nos van a servir para comprar los modelos y tambien almacena los valores theta del modelo, por lo que podemos guardar los modelos y utlizarlos despues.\n",
    "A continuacion vamos a desplegar en la siguiente celda y nos va ayudar a tomar una decisión de cual es el mejor modelo.\n",
    "\n",
    "Es recomendable que, luego de analizar los resultados del registro ejecutemos de nuevo alguno de los modelos cambiando los hyperparametros o numero de ejemplos y ver con cuales obtenemos mejores resultados.\n",
    "\n",
    "Podemos ejecutar la funcion `helper.guardar_log_book(log_book)` para almacenar en disco los modelos.\n",
    "\n",
    "Para el ultimo paso donde exportamos el modelo debemos utilizar la funcion `helper.filter_log_book(log_book, nombre_modelo)` para obtener el mejor modelo y exportalo."
   ]
  },
  {
   "cell_type": "code",
   "execution_count": 801,
   "metadata": {},
   "outputs": [
    {
     "data": {
      "text/html": [
       "<div>\n",
       "<style scoped>\n",
       "    .dataframe tbody tr th:only-of-type {\n",
       "        vertical-align: middle;\n",
       "    }\n",
       "\n",
       "    .dataframe tbody tr th {\n",
       "        vertical-align: top;\n",
       "    }\n",
       "\n",
       "    .dataframe thead th {\n",
       "        text-align: right;\n",
       "    }\n",
       "</style>\n",
       "<table border=\"1\" class=\"dataframe\">\n",
       "  <thead>\n",
       "    <tr style=\"text-align: right;\">\n",
       "      <th></th>\n",
       "      <th>Nombre Modelo</th>\n",
       "      <th>Numero de features</th>\n",
       "      <th>Numero de ejemplos</th>\n",
       "      <th>Alpha</th>\n",
       "      <th>Numero de Iteraciones</th>\n",
       "      <th>Accuracy Training</th>\n",
       "      <th>Accuracy Test</th>\n",
       "      <th>F1 score Test</th>\n",
       "      <th>Precision Test</th>\n",
       "      <th>Recall Test</th>\n",
       "    </tr>\n",
       "  </thead>\n",
       "  <tbody>\n",
       "    <tr>\n",
       "      <th>0</th>\n",
       "      <td>modelo_1_161823964213</td>\n",
       "      <td>2</td>\n",
       "      <td>150</td>\n",
       "      <td>0.020</td>\n",
       "      <td>300</td>\n",
       "      <td>0.913333</td>\n",
       "      <td>0.867133</td>\n",
       "      <td>0.888889</td>\n",
       "      <td>0.938272</td>\n",
       "      <td>0.844444</td>\n",
       "    </tr>\n",
       "    <tr>\n",
       "      <th>1</th>\n",
       "      <td>modelo_2_161823863806</td>\n",
       "      <td>3</td>\n",
       "      <td>400</td>\n",
       "      <td>0.050</td>\n",
       "      <td>1000</td>\n",
       "      <td>0.937500</td>\n",
       "      <td>0.888112</td>\n",
       "      <td>0.910112</td>\n",
       "      <td>0.920455</td>\n",
       "      <td>0.900000</td>\n",
       "    </tr>\n",
       "    <tr>\n",
       "      <th>2</th>\n",
       "      <td>modelo_3_161823825531</td>\n",
       "      <td>4</td>\n",
       "      <td>460</td>\n",
       "      <td>0.020</td>\n",
       "      <td>1500</td>\n",
       "      <td>0.873913</td>\n",
       "      <td>0.909091</td>\n",
       "      <td>0.927374</td>\n",
       "      <td>0.932584</td>\n",
       "      <td>0.922222</td>\n",
       "    </tr>\n",
       "    <tr>\n",
       "      <th>3</th>\n",
       "      <td>modelo_4_161824283829</td>\n",
       "      <td>5</td>\n",
       "      <td>460</td>\n",
       "      <td>0.030</td>\n",
       "      <td>1000</td>\n",
       "      <td>0.932609</td>\n",
       "      <td>0.916084</td>\n",
       "      <td>0.931818</td>\n",
       "      <td>0.953488</td>\n",
       "      <td>0.911111</td>\n",
       "    </tr>\n",
       "    <tr>\n",
       "      <th>4</th>\n",
       "      <td>modelo_5_161824075436</td>\n",
       "      <td>5</td>\n",
       "      <td>460</td>\n",
       "      <td>0.005</td>\n",
       "      <td>2000</td>\n",
       "      <td>0.943478</td>\n",
       "      <td>0.916084</td>\n",
       "      <td>0.931818</td>\n",
       "      <td>0.953488</td>\n",
       "      <td>0.911111</td>\n",
       "    </tr>\n",
       "    <tr>\n",
       "      <th>5</th>\n",
       "      <td>modelo_1_161834611933</td>\n",
       "      <td>2</td>\n",
       "      <td>150</td>\n",
       "      <td>0.020</td>\n",
       "      <td>300</td>\n",
       "      <td>0.853333</td>\n",
       "      <td>0.853147</td>\n",
       "      <td>0.895522</td>\n",
       "      <td>0.810811</td>\n",
       "      <td>1.000000</td>\n",
       "    </tr>\n",
       "    <tr>\n",
       "      <th>6</th>\n",
       "      <td>modelo_2_161834547554</td>\n",
       "      <td>3</td>\n",
       "      <td>400</td>\n",
       "      <td>0.050</td>\n",
       "      <td>1000</td>\n",
       "      <td>0.897500</td>\n",
       "      <td>0.867133</td>\n",
       "      <td>0.899471</td>\n",
       "      <td>0.858586</td>\n",
       "      <td>0.944444</td>\n",
       "    </tr>\n",
       "    <tr>\n",
       "      <th>7</th>\n",
       "      <td>modelo_3_161834581038</td>\n",
       "      <td>4</td>\n",
       "      <td>460</td>\n",
       "      <td>0.020</td>\n",
       "      <td>1500</td>\n",
       "      <td>0.895652</td>\n",
       "      <td>0.902098</td>\n",
       "      <td>0.922222</td>\n",
       "      <td>0.922222</td>\n",
       "      <td>0.922222</td>\n",
       "    </tr>\n",
       "    <tr>\n",
       "      <th>8</th>\n",
       "      <td>modelo_4_161834643344</td>\n",
       "      <td>5</td>\n",
       "      <td>460</td>\n",
       "      <td>0.030</td>\n",
       "      <td>1000</td>\n",
       "      <td>0.947826</td>\n",
       "      <td>0.916084</td>\n",
       "      <td>0.932584</td>\n",
       "      <td>0.943182</td>\n",
       "      <td>0.922222</td>\n",
       "    </tr>\n",
       "    <tr>\n",
       "      <th>9</th>\n",
       "      <td>modelo_5_161835466952</td>\n",
       "      <td>5</td>\n",
       "      <td>460</td>\n",
       "      <td>0.005</td>\n",
       "      <td>2000</td>\n",
       "      <td>0.921739</td>\n",
       "      <td>0.909091</td>\n",
       "      <td>0.930481</td>\n",
       "      <td>0.896907</td>\n",
       "      <td>0.966667</td>\n",
       "    </tr>\n",
       "    <tr>\n",
       "      <th>10</th>\n",
       "      <td>modelo_1_162012550341</td>\n",
       "      <td>2</td>\n",
       "      <td>150</td>\n",
       "      <td>0.020</td>\n",
       "      <td>300</td>\n",
       "      <td>0.913333</td>\n",
       "      <td>0.881119</td>\n",
       "      <td>0.913706</td>\n",
       "      <td>0.841121</td>\n",
       "      <td>1.000000</td>\n",
       "    </tr>\n",
       "    <tr>\n",
       "      <th>11</th>\n",
       "      <td>modelo_2_162012435806</td>\n",
       "      <td>3</td>\n",
       "      <td>400</td>\n",
       "      <td>0.050</td>\n",
       "      <td>1000</td>\n",
       "      <td>0.900000</td>\n",
       "      <td>0.895105</td>\n",
       "      <td>0.918919</td>\n",
       "      <td>0.894737</td>\n",
       "      <td>0.944444</td>\n",
       "    </tr>\n",
       "    <tr>\n",
       "      <th>12</th>\n",
       "      <td>modelo_3_162012895848</td>\n",
       "      <td>4</td>\n",
       "      <td>460</td>\n",
       "      <td>0.020</td>\n",
       "      <td>1500</td>\n",
       "      <td>0.900000</td>\n",
       "      <td>0.902098</td>\n",
       "      <td>0.923913</td>\n",
       "      <td>0.904255</td>\n",
       "      <td>0.944444</td>\n",
       "    </tr>\n",
       "    <tr>\n",
       "      <th>13</th>\n",
       "      <td>modelo_4_162012197340</td>\n",
       "      <td>5</td>\n",
       "      <td>460</td>\n",
       "      <td>0.030</td>\n",
       "      <td>1000</td>\n",
       "      <td>0.963043</td>\n",
       "      <td>0.923077</td>\n",
       "      <td>0.939891</td>\n",
       "      <td>0.924731</td>\n",
       "      <td>0.955556</td>\n",
       "    </tr>\n",
       "    <tr>\n",
       "      <th>14</th>\n",
       "      <td>modelo_5_162012273430</td>\n",
       "      <td>5</td>\n",
       "      <td>460</td>\n",
       "      <td>0.005</td>\n",
       "      <td>2000</td>\n",
       "      <td>0.902174</td>\n",
       "      <td>0.923077</td>\n",
       "      <td>0.940541</td>\n",
       "      <td>0.915789</td>\n",
       "      <td>0.966667</td>\n",
       "    </tr>\n",
       "    <tr>\n",
       "      <th>15</th>\n",
       "      <td>modelo_1_162017950764</td>\n",
       "      <td>2</td>\n",
       "      <td>150</td>\n",
       "      <td>0.020</td>\n",
       "      <td>300</td>\n",
       "      <td>0.866667</td>\n",
       "      <td>0.867133</td>\n",
       "      <td>0.902564</td>\n",
       "      <td>0.838095</td>\n",
       "      <td>0.977778</td>\n",
       "    </tr>\n",
       "    <tr>\n",
       "      <th>16</th>\n",
       "      <td>modelo_2_162017076727</td>\n",
       "      <td>3</td>\n",
       "      <td>400</td>\n",
       "      <td>0.050</td>\n",
       "      <td>1000</td>\n",
       "      <td>0.927500</td>\n",
       "      <td>0.888112</td>\n",
       "      <td>0.912088</td>\n",
       "      <td>0.902174</td>\n",
       "      <td>0.922222</td>\n",
       "    </tr>\n",
       "    <tr>\n",
       "      <th>17</th>\n",
       "      <td>modelo_3_162018073258</td>\n",
       "      <td>4</td>\n",
       "      <td>460</td>\n",
       "      <td>0.020</td>\n",
       "      <td>1500</td>\n",
       "      <td>0.897826</td>\n",
       "      <td>0.895105</td>\n",
       "      <td>0.918033</td>\n",
       "      <td>0.903226</td>\n",
       "      <td>0.933333</td>\n",
       "    </tr>\n",
       "    <tr>\n",
       "      <th>18</th>\n",
       "      <td>modelo_4_162018569041</td>\n",
       "      <td>5</td>\n",
       "      <td>460</td>\n",
       "      <td>0.030</td>\n",
       "      <td>1000</td>\n",
       "      <td>0.958696</td>\n",
       "      <td>0.916084</td>\n",
       "      <td>0.934783</td>\n",
       "      <td>0.914894</td>\n",
       "      <td>0.955556</td>\n",
       "    </tr>\n",
       "    <tr>\n",
       "      <th>19</th>\n",
       "      <td>modelo_5_162018550613</td>\n",
       "      <td>5</td>\n",
       "      <td>460</td>\n",
       "      <td>0.005</td>\n",
       "      <td>2000</td>\n",
       "      <td>0.919565</td>\n",
       "      <td>0.916084</td>\n",
       "      <td>0.936842</td>\n",
       "      <td>0.890000</td>\n",
       "      <td>0.988889</td>\n",
       "    </tr>\n",
       "    <tr>\n",
       "      <th>20</th>\n",
       "      <td>modelo_1_162026246823</td>\n",
       "      <td>2</td>\n",
       "      <td>150</td>\n",
       "      <td>0.020</td>\n",
       "      <td>300</td>\n",
       "      <td>0.846667</td>\n",
       "      <td>0.874126</td>\n",
       "      <td>0.907216</td>\n",
       "      <td>0.846154</td>\n",
       "      <td>0.977778</td>\n",
       "    </tr>\n",
       "    <tr>\n",
       "      <th>21</th>\n",
       "      <td>modelo_2_162026605919</td>\n",
       "      <td>3</td>\n",
       "      <td>400</td>\n",
       "      <td>0.050</td>\n",
       "      <td>1000</td>\n",
       "      <td>0.932500</td>\n",
       "      <td>0.888112</td>\n",
       "      <td>0.913043</td>\n",
       "      <td>0.893617</td>\n",
       "      <td>0.933333</td>\n",
       "    </tr>\n",
       "    <tr>\n",
       "      <th>22</th>\n",
       "      <td>modelo_3_162026367935</td>\n",
       "      <td>4</td>\n",
       "      <td>460</td>\n",
       "      <td>0.020</td>\n",
       "      <td>1500</td>\n",
       "      <td>0.897826</td>\n",
       "      <td>0.881119</td>\n",
       "      <td>0.909091</td>\n",
       "      <td>0.876289</td>\n",
       "      <td>0.944444</td>\n",
       "    </tr>\n",
       "    <tr>\n",
       "      <th>23</th>\n",
       "      <td>modelo_4_162026901137</td>\n",
       "      <td>5</td>\n",
       "      <td>460</td>\n",
       "      <td>0.030</td>\n",
       "      <td>1000</td>\n",
       "      <td>0.960870</td>\n",
       "      <td>0.923077</td>\n",
       "      <td>0.940541</td>\n",
       "      <td>0.915789</td>\n",
       "      <td>0.966667</td>\n",
       "    </tr>\n",
       "    <tr>\n",
       "      <th>24</th>\n",
       "      <td>modelo_5_162026926682</td>\n",
       "      <td>5</td>\n",
       "      <td>460</td>\n",
       "      <td>0.005</td>\n",
       "      <td>2000</td>\n",
       "      <td>0.923913</td>\n",
       "      <td>0.909091</td>\n",
       "      <td>0.928962</td>\n",
       "      <td>0.913978</td>\n",
       "      <td>0.944444</td>\n",
       "    </tr>\n",
       "  </tbody>\n",
       "</table>\n",
       "</div>"
      ],
      "text/plain": [
       "            Nombre Modelo Numero de features Numero de ejemplos  Alpha  \\\n",
       "0   modelo_1_161823964213                  2                150  0.020   \n",
       "1   modelo_2_161823863806                  3                400  0.050   \n",
       "2   modelo_3_161823825531                  4                460  0.020   \n",
       "3   modelo_4_161824283829                  5                460  0.030   \n",
       "4   modelo_5_161824075436                  5                460  0.005   \n",
       "5   modelo_1_161834611933                  2                150  0.020   \n",
       "6   modelo_2_161834547554                  3                400  0.050   \n",
       "7   modelo_3_161834581038                  4                460  0.020   \n",
       "8   modelo_4_161834643344                  5                460  0.030   \n",
       "9   modelo_5_161835466952                  5                460  0.005   \n",
       "10  modelo_1_162012550341                  2                150  0.020   \n",
       "11  modelo_2_162012435806                  3                400  0.050   \n",
       "12  modelo_3_162012895848                  4                460  0.020   \n",
       "13  modelo_4_162012197340                  5                460  0.030   \n",
       "14  modelo_5_162012273430                  5                460  0.005   \n",
       "15  modelo_1_162017950764                  2                150  0.020   \n",
       "16  modelo_2_162017076727                  3                400  0.050   \n",
       "17  modelo_3_162018073258                  4                460  0.020   \n",
       "18  modelo_4_162018569041                  5                460  0.030   \n",
       "19  modelo_5_162018550613                  5                460  0.005   \n",
       "20  modelo_1_162026246823                  2                150  0.020   \n",
       "21  modelo_2_162026605919                  3                400  0.050   \n",
       "22  modelo_3_162026367935                  4                460  0.020   \n",
       "23  modelo_4_162026901137                  5                460  0.030   \n",
       "24  modelo_5_162026926682                  5                460  0.005   \n",
       "\n",
       "   Numero de Iteraciones  Accuracy Training  Accuracy Test  F1 score Test  \\\n",
       "0                    300           0.913333       0.867133       0.888889   \n",
       "1                   1000           0.937500       0.888112       0.910112   \n",
       "2                   1500           0.873913       0.909091       0.927374   \n",
       "3                   1000           0.932609       0.916084       0.931818   \n",
       "4                   2000           0.943478       0.916084       0.931818   \n",
       "5                    300           0.853333       0.853147       0.895522   \n",
       "6                   1000           0.897500       0.867133       0.899471   \n",
       "7                   1500           0.895652       0.902098       0.922222   \n",
       "8                   1000           0.947826       0.916084       0.932584   \n",
       "9                   2000           0.921739       0.909091       0.930481   \n",
       "10                   300           0.913333       0.881119       0.913706   \n",
       "11                  1000           0.900000       0.895105       0.918919   \n",
       "12                  1500           0.900000       0.902098       0.923913   \n",
       "13                  1000           0.963043       0.923077       0.939891   \n",
       "14                  2000           0.902174       0.923077       0.940541   \n",
       "15                   300           0.866667       0.867133       0.902564   \n",
       "16                  1000           0.927500       0.888112       0.912088   \n",
       "17                  1500           0.897826       0.895105       0.918033   \n",
       "18                  1000           0.958696       0.916084       0.934783   \n",
       "19                  2000           0.919565       0.916084       0.936842   \n",
       "20                   300           0.846667       0.874126       0.907216   \n",
       "21                  1000           0.932500       0.888112       0.913043   \n",
       "22                  1500           0.897826       0.881119       0.909091   \n",
       "23                  1000           0.960870       0.923077       0.940541   \n",
       "24                  2000           0.923913       0.909091       0.928962   \n",
       "\n",
       "    Precision Test  Recall Test  \n",
       "0         0.938272     0.844444  \n",
       "1         0.920455     0.900000  \n",
       "2         0.932584     0.922222  \n",
       "3         0.953488     0.911111  \n",
       "4         0.953488     0.911111  \n",
       "5         0.810811     1.000000  \n",
       "6         0.858586     0.944444  \n",
       "7         0.922222     0.922222  \n",
       "8         0.943182     0.922222  \n",
       "9         0.896907     0.966667  \n",
       "10        0.841121     1.000000  \n",
       "11        0.894737     0.944444  \n",
       "12        0.904255     0.944444  \n",
       "13        0.924731     0.955556  \n",
       "14        0.915789     0.966667  \n",
       "15        0.838095     0.977778  \n",
       "16        0.902174     0.922222  \n",
       "17        0.903226     0.933333  \n",
       "18        0.914894     0.955556  \n",
       "19        0.890000     0.988889  \n",
       "20        0.846154     0.977778  \n",
       "21        0.893617     0.933333  \n",
       "22        0.876289     0.944444  \n",
       "23        0.915789     0.966667  \n",
       "24        0.913978     0.944444  "
      ]
     },
     "execution_count": 801,
     "metadata": {},
     "output_type": "execute_result"
    }
   ],
   "source": [
    "helper.print_log_book(log_book)"
   ]
  },
  {
   "cell_type": "markdown",
   "metadata": {},
   "source": [
    "### Guardando la bitacora"
   ]
  },
  {
   "cell_type": "code",
   "execution_count": 802,
   "metadata": {},
   "outputs": [],
   "source": [
    "helper.guardar_log_book(log_book)"
   ]
  },
  {
   "cell_type": "markdown",
   "metadata": {},
   "source": [
    "## Exportar el modelo\n",
    "\n",
    "Vamos a exportar el modelo para poder hacer deploy, ** el modelo exportado debe tener las cinco primeras feautures **. Por lo cual de todos tus experimentos, selecciona el mejor modelo que cumpla con usar las 5 features ya mencionadas.\n",
    "\n",
    "Selecciona tu mejor modelo:"
   ]
  },
  {
   "cell_type": "markdown",
   "metadata": {},
   "source": [
    "### Seleccionamos el mejor modelo\n",
    "\n",
    "Para seleccionar un modelo utilizamos la funcion `helper.filter_log_book()`.\n",
    "\n",
    "Esta funcion recibe de parametros la bitacora y el nombre del modelo que elegiste como el mejor\n",
    "\n",
    "`helper.filter_log_book(log_book, <nombre de nuestro mejor modelo>)`"
   ]
  },
  {
   "cell_type": "code",
   "execution_count": 803,
   "metadata": {},
   "outputs": [
    {
     "name": "stdout",
     "output_type": "stream",
     "text": [
      "[-1.2126470693033253, -0.8536069127348836, -1.266973801480538, -1.0108927168530055, -1.275135332681712, 0.7262031977258467]\n"
     ]
    }
   ],
   "source": [
    "### INICIO: TU CODIGO AQUI:  (~1 linea)###\n",
    "modelo = helper.filter_log_book(log_book, \"modelo_4_162018569041\")\n",
    "\n",
    "print(modelo)"
   ]
  },
  {
   "cell_type": "markdown",
   "metadata": {},
   "source": [
    "Se va a utilizar el siguiente codigo para guardar el modelo elegido en un archivo.\n",
    "\n",
    "Esto genera 2 archivos, en un archivo _model.csv se tienen los parametros de el modelo elegido.\n",
    "\n",
    "El segundo archivo llamado _momentos.csv guarda la media y desviacion estandar de cada features, esto sera utilizado\n",
    "en la aplicacion hecha por el profesor para aplicar normalizacion al realizar predicciones.\n",
    "\n",
    "No hay que cambiar nada de codigo, solo hay que ejecutar la celda para exportar nuestro modelo y luego enviar los archivos .csv al profesor"
   ]
  },
  {
   "cell_type": "code",
   "execution_count": null,
   "metadata": {},
   "outputs": [],
   "source": []
  },
  {
   "cell_type": "code",
   "execution_count": 804,
   "metadata": {},
   "outputs": [
    {
     "name": "stdout",
     "output_type": "stream",
     "text": [
      "El modelo ha sido exportado [ 20150394_momentos.csv ]\n"
     ]
    }
   ],
   "source": [
    "import csv\n",
    "\n",
    "def exportar_modelo(model,carnet):\n",
    "    norm_std, norm_media = helper.get_normalizacion_vales(X_train[:,0:5])\n",
    "    with open(carnet + '_model.csv', 'w') as csvfile:\n",
    "        filewriter = csv.writer(csvfile, delimiter=',',quotechar='|', quoting=csv.QUOTE_MINIMAL)\n",
    "        filewriter.writerow(model)\n",
    "        \n",
    "    with open(carnet + '_momentos.csv', 'w') as csvfile:\n",
    "        filewriter = csv.writer(csvfile, delimiter=',',quotechar='|', quoting=csv.QUOTE_MINIMAL)\n",
    "        filewriter.writerow(norm_std)\n",
    "        filewriter.writerow(norm_media)\n",
    "        \n",
    "    print('El modelo ha sido exportado [',csvfile.name,']')\n",
    "    \n",
    "exportar_modelo(modelo,carnet)"
   ]
  },
  {
   "cell_type": "markdown",
   "metadata": {},
   "source": [
    "<img src=\"images/ai_cancer.png\" width=\"700\">"
   ]
  },
  {
   "cell_type": "markdown",
   "metadata": {},
   "source": [
    "# Una vez elegido y exportado tu modelo , debes enviar los archivos .csv resultantes al profesor por correo"
   ]
  },
  {
   "cell_type": "code",
   "execution_count": null,
   "metadata": {},
   "outputs": [],
   "source": []
  }
 ],
 "metadata": {
  "kernelspec": {
   "display_name": "Python 3",
   "language": "python",
   "name": "python3"
  },
  "language_info": {
   "codemirror_mode": {
    "name": "ipython",
    "version": 3
   },
   "file_extension": ".py",
   "mimetype": "text/x-python",
   "name": "python",
   "nbconvert_exporter": "python",
   "pygments_lexer": "ipython3",
   "version": "3.6.4"
  }
 },
 "nbformat": 4,
 "nbformat_minor": 2
}
