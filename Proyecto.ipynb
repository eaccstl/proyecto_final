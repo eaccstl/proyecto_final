{
 "cells": [
  {
   "cell_type": "markdown",
   "metadata": {},
   "source": [
    "# Proyecto\n",
    "\n",
    "\n",
    "En este proyecto vamos a hacer machine learning aplicado al ámbito medico ,específicamente diagnostico medico.\n",
    "Vamos a crear una aplicación que ayuda a diagnosticar si un tumor de seno es cancerígeno (maligno) o no (benigno)   .\n",
    "Para lograr esto vamos a utilizar un set de datos recopilado por diversos médicos , el cual contiene características de tumores de seno y el diagnostico final . Este es un problema de clasificación binaria ya que solo tenemos dos clases(maligno o benigno), se va a implementar regresión logística para obtener la probabilidad de que el tumor sea maligno.\n",
    "\n",
    "<img src=\"images/ai_cancer.png\" width=\"300\">\n",
    "\n",
    "Según lo visto en la clase en este proyecto el estudiante hará  todo el proceso de entrenamiento, evaluación y selección del modelo de machine learning(pasos 1 al 5 del diagrama de flujo de ejemplo) ,luego de seleccionar el mejor va a exportar el modelo (como fue explicado en la clase deployment/despliegue de modelos y va a entregarlo al profesor) ya que  este será utilizado dentro de una aplicación móvil (desarrollada por el profesor, paso 6 del diagrama )\n",
    "\n",
    "\n",
    "<img src=\"images/diagrama.png\" width=\"700\">"
   ]
  },
  {
   "cell_type": "code",
   "execution_count": 495,
   "metadata": {},
   "outputs": [],
   "source": [
    "from sklearn.datasets import load_breast_cancer\n",
    "from sklearn.model_selection import train_test_split\n",
    "from sklearn.linear_model import LogisticRegression\n",
    "import numpy as np\n",
    "from sklearn.utils import resample\n",
    "from sklearn.metrics import accuracy_score, confusion_matrix, precision_score, recall_score, f1_score\n",
    "import datetime\n",
    "import helper"
   ]
  },
  {
   "cell_type": "markdown",
   "metadata": {},
   "source": [
    "## Registro de Experimentos\n",
    "En machine learning y ciencia de datos es importante tener un registro de los resultados de cada experimento realizado, así como la configuración del sistema(tal como learning-rate, numero de iteraciones, cantidad de observaciones y features, etc) que llevo a determinados resultados, esto porque el proceso puede llegar a ser muy iterativo y nos es útil saber en todo momento que caso tuvo los mejores resultados. Por esta razón en este proyecto utilizamos una bitácora o log-book científico en el cual tenemos la configuración de nuestros modelos y los resultados(métricas de evaluación) de cada uno."
   ]
  },
  {
   "cell_type": "code",
   "execution_count": 496,
   "metadata": {},
   "outputs": [],
   "source": [
    "log_book = helper.load_log_book()"
   ]
  },
  {
   "cell_type": "markdown",
   "metadata": {},
   "source": [
    "Una vez la bitacora contenga informacion ,puedes consultarla en cualquier celda usando:\n",
    "\n",
    "helper.print_log_book(log_book)"
   ]
  },
  {
   "cell_type": "markdown",
   "metadata": {},
   "source": [
    "Para guardar la bitacora (una vez has capturado el resultado de los experimentos que realizaremos) usaremos el siguiente codigo(hay mas detalles mas adelante)\n",
    "\n",
    "helper.guardar_log_book(log_book)"
   ]
  },
  {
   "cell_type": "markdown",
   "metadata": {},
   "source": [
    "## Carnet estudiante"
   ]
  },
  {
   "cell_type": "markdown",
   "metadata": {},
   "source": [
    " La aplicación móvil resultante tendrá un modelo por estudiante, por lo cual es importante identificar a que estudiante pertenece cada modelo, por esta razón  en el proceso de exportar el modelo el archivo resultante tendrá en su nombre el carnet del estudiante. \n",
    " \n",
    " En una variable deben ingresar su numero de carnet, para que al exportar el modelo el archivo se llame `carnet+\"model.csv\"`. Por ejemplo 200818835model.csv"
   ]
  },
  {
   "cell_type": "code",
   "execution_count": 497,
   "metadata": {},
   "outputs": [],
   "source": [
    "carnet = \"20150394\""
   ]
  },
  {
   "cell_type": "markdown",
   "metadata": {},
   "source": [
    "## Breast Cancer Data Set\n",
    "\n",
    "El dataset que usaremos contiene varias características(features) , más adelante encontraras instrucciones de cómo trabajar con estas. En el siguiente enlace puedes acceder a mayor información y detalles del dataset.\n",
    "\n",
    "[Link al set de datos](http://scikit-learn.org/stable/modules/generated/sklearn.datasets.load_breast_cancer.html#sklearn.datasets.load_breast_cancer)\n",
    "\n",
    "#### Data Set Information:\n",
    "\n",
    "Features are computed from a digitized image of a fine needle aspirate (FNA) of a breast mass. They describe characteristics of the cell nuclei present in the image. A few of the images can be found at [Web Link] \n",
    "\n",
    "Separating plane described above was obtained using Multisurface Method-Tree (MSM-T) [K. P. Bennett, \"Decision Tree Construction Via Linear Programming.\" Proceedings of the 4th Midwest Artificial Intelligence and Cognitive Science Society, pp. 97-101, 1992], a classification method which uses linear programming to construct a decision tree. Relevant features were selected using an exhaustive search in the space of 1-4 features and 1-3 separating planes. \n",
    "\n",
    "The actual linear program used to obtain the separating plane in the 3-dimensional space is that described in: [K. P. Bennett and O. L. Mangasarian: \"Robust Linear Programming Discrimination of Two Linearly Inseparable Sets\", Optimization Methods and Software 1, 1992, 23-34]. "
   ]
  },
  {
   "cell_type": "code",
   "execution_count": 498,
   "metadata": {},
   "outputs": [],
   "source": [
    "data = load_breast_cancer()"
   ]
  },
  {
   "cell_type": "markdown",
   "metadata": {},
   "source": [
    "Este es un problema de clasificacion binario por que que existen solo dos posibles valores(predecimos tumores cancerigenos de seno)"
   ]
  },
  {
   "cell_type": "code",
   "execution_count": 499,
   "metadata": {},
   "outputs": [
    {
     "data": {
      "text/plain": [
       "array(['malignant', 'benign'], dtype='<U9')"
      ]
     },
     "execution_count": 499,
     "metadata": {},
     "output_type": "execute_result"
    }
   ],
   "source": [
    "data.target_names"
   ]
  },
  {
   "cell_type": "markdown",
   "metadata": {},
   "source": [
    "El data set tiene varios features, por lo  que debemos experimentar con diferentes features y analizar los resultados, en esta celda vamos a imprimir los nombres de las features que poseemos.\n",
    "\n",
    "En este [link](https://goo.gl/U2Uwz2) podemos encontrar mas información sobre las features.\n",
    "\n",
    "Nota: Aunque a lo largo del proyecto, usaremos distintas features para entrenar diversos modelos y entender cómo funciona el proceso de ML y el impacto del uso de diversas features, en el resultado final (el modelo que será exportado e integrado a la aplicación móvil) solo usaremos las primeras 5 features.\n",
    "\n"
   ]
  },
  {
   "cell_type": "code",
   "execution_count": 500,
   "metadata": {},
   "outputs": [
    {
     "data": {
      "text/plain": [
       "array(['mean radius', 'mean texture', 'mean perimeter', 'mean area',\n",
       "       'mean smoothness', 'mean compactness', 'mean concavity',\n",
       "       'mean concave points', 'mean symmetry', 'mean fractal dimension',\n",
       "       'radius error', 'texture error', 'perimeter error', 'area error',\n",
       "       'smoothness error', 'compactness error', 'concavity error',\n",
       "       'concave points error', 'symmetry error',\n",
       "       'fractal dimension error', 'worst radius', 'worst texture',\n",
       "       'worst perimeter', 'worst area', 'worst smoothness',\n",
       "       'worst compactness', 'worst concavity', 'worst concave points',\n",
       "       'worst symmetry', 'worst fractal dimension'], dtype='<U23')"
      ]
     },
     "execution_count": 500,
     "metadata": {},
     "output_type": "execute_result"
    }
   ],
   "source": [
    "data.feature_names"
   ]
  },
  {
   "cell_type": "markdown",
   "metadata": {},
   "source": [
    "muestra de las primeras 5 labels/etiquetas"
   ]
  },
  {
   "cell_type": "code",
   "execution_count": 501,
   "metadata": {},
   "outputs": [
    {
     "data": {
      "text/plain": [
       "array([0, 0, 0, 0, 0])"
      ]
     },
     "execution_count": 501,
     "metadata": {},
     "output_type": "execute_result"
    }
   ],
   "source": [
    "data.target[0:5]"
   ]
  },
  {
   "cell_type": "markdown",
   "metadata": {},
   "source": [
    "las features para estos 5 casos de ejemplo"
   ]
  },
  {
   "cell_type": "code",
   "execution_count": 502,
   "metadata": {},
   "outputs": [
    {
     "data": {
      "text/plain": [
       "array([[1.799e+01, 1.038e+01, 1.228e+02, 1.001e+03, 1.184e-01, 2.776e-01,\n",
       "        3.001e-01, 1.471e-01, 2.419e-01, 7.871e-02, 1.095e+00, 9.053e-01,\n",
       "        8.589e+00, 1.534e+02, 6.399e-03, 4.904e-02, 5.373e-02, 1.587e-02,\n",
       "        3.003e-02, 6.193e-03, 2.538e+01, 1.733e+01, 1.846e+02, 2.019e+03,\n",
       "        1.622e-01, 6.656e-01, 7.119e-01, 2.654e-01, 4.601e-01, 1.189e-01],\n",
       "       [2.057e+01, 1.777e+01, 1.329e+02, 1.326e+03, 8.474e-02, 7.864e-02,\n",
       "        8.690e-02, 7.017e-02, 1.812e-01, 5.667e-02, 5.435e-01, 7.339e-01,\n",
       "        3.398e+00, 7.408e+01, 5.225e-03, 1.308e-02, 1.860e-02, 1.340e-02,\n",
       "        1.389e-02, 3.532e-03, 2.499e+01, 2.341e+01, 1.588e+02, 1.956e+03,\n",
       "        1.238e-01, 1.866e-01, 2.416e-01, 1.860e-01, 2.750e-01, 8.902e-02],\n",
       "       [1.969e+01, 2.125e+01, 1.300e+02, 1.203e+03, 1.096e-01, 1.599e-01,\n",
       "        1.974e-01, 1.279e-01, 2.069e-01, 5.999e-02, 7.456e-01, 7.869e-01,\n",
       "        4.585e+00, 9.403e+01, 6.150e-03, 4.006e-02, 3.832e-02, 2.058e-02,\n",
       "        2.250e-02, 4.571e-03, 2.357e+01, 2.553e+01, 1.525e+02, 1.709e+03,\n",
       "        1.444e-01, 4.245e-01, 4.504e-01, 2.430e-01, 3.613e-01, 8.758e-02],\n",
       "       [1.142e+01, 2.038e+01, 7.758e+01, 3.861e+02, 1.425e-01, 2.839e-01,\n",
       "        2.414e-01, 1.052e-01, 2.597e-01, 9.744e-02, 4.956e-01, 1.156e+00,\n",
       "        3.445e+00, 2.723e+01, 9.110e-03, 7.458e-02, 5.661e-02, 1.867e-02,\n",
       "        5.963e-02, 9.208e-03, 1.491e+01, 2.650e+01, 9.887e+01, 5.677e+02,\n",
       "        2.098e-01, 8.663e-01, 6.869e-01, 2.575e-01, 6.638e-01, 1.730e-01],\n",
       "       [2.029e+01, 1.434e+01, 1.351e+02, 1.297e+03, 1.003e-01, 1.328e-01,\n",
       "        1.980e-01, 1.043e-01, 1.809e-01, 5.883e-02, 7.572e-01, 7.813e-01,\n",
       "        5.438e+00, 9.444e+01, 1.149e-02, 2.461e-02, 5.688e-02, 1.885e-02,\n",
       "        1.756e-02, 5.115e-03, 2.254e+01, 1.667e+01, 1.522e+02, 1.575e+03,\n",
       "        1.374e-01, 2.050e-01, 4.000e-01, 1.625e-01, 2.364e-01, 7.678e-02]])"
      ]
     },
     "execution_count": 502,
     "metadata": {},
     "output_type": "execute_result"
    }
   ],
   "source": [
    "data.data[0:5,]"
   ]
  },
  {
   "cell_type": "markdown",
   "metadata": {},
   "source": [
    "# Implementación de Regresión Logística "
   ]
  },
  {
   "cell_type": "markdown",
   "metadata": {},
   "source": [
    "## Hipótesis\n",
    "Función Sigmoid:\n",
    "\n",
    "$sig(t) = {\\frac {1} {1 + e^{-t}}}$\n",
    "\n",
    "Combinamos la función sigmoid/lógistica con la  hipótesis conocida (aprendida en regresión lineal) y tenemos la nueva hipótesis para clasificación con regresión lógistica:\n",
    "\n",
    "$z = \\theta_{0} + \\theta_{1}x_{1} + \\theta_{2}x_{2} + \\ldots + \\theta_{n}x_{n}$\n",
    "\n",
    "$g(z) = {\\frac {1} {1 + e^{-z}}}$\n",
    "\n",
    "** Hipótesis para clasificación con regresión logística: **\n",
    "\n",
    "$h_{\\theta}(x) = {\\frac {1} {1 + e^{-(\\theta_{0} + \\theta_{1}x_{1} + \\theta_{2}x_{2} + \\ldots + \\theta_{n}x_{n})}}}$"
   ]
  },
  {
   "cell_type": "code",
   "execution_count": 503,
   "metadata": {},
   "outputs": [],
   "source": [
    "## Sigmoid \n",
    "\n",
    "def sigmoid(z):\n",
    "    ### INICIO: TU CODIGO AQUI:  (~1 linea)###\n",
    "    s = 1/ (1 + np.exp(-z))\n",
    "    ### FIN ##\n",
    "    \n",
    "    return s"
   ]
  },
  {
   "cell_type": "code",
   "execution_count": 504,
   "metadata": {},
   "outputs": [
    {
     "name": "stdout",
     "output_type": "stream",
     "text": [
      "sigmoid(0) = 0.5\n",
      "sigmoid(9.2) = 0.9998989708060922\n"
     ]
    }
   ],
   "source": [
    "### Validando nuestra funcion sigmoid\n",
    "print (\"sigmoid(0) = \" + str(sigmoid(0)))\n",
    "print (\"sigmoid(9.2) = \" + str(sigmoid(9.2)))"
   ]
  },
  {
   "cell_type": "markdown",
   "metadata": {},
   "source": [
    "#### Resultados esperados\n",
    "\n",
    "**sigmoid(0)** = 0.5\n",
    "\n",
    "**sigmoid(9.2)** = 0.999898970806\n"
   ]
  },
  {
   "cell_type": "markdown",
   "metadata": {},
   "source": [
    "Implementado la hipótesis/modelo para clasificación con regresión logística\n",
    "\n",
    "** Hipótesis para clasificación con regresión logística: **\n",
    "\n",
    "$h_{\\theta}(x) = {\\frac {1} {1 + e^{-(\\theta_{0} + \\theta_{1}x_{1} + \\theta_{2}x_{2} + \\ldots + \\theta_{n}x_{n})}}}$"
   ]
  },
  {
   "cell_type": "code",
   "execution_count": 505,
   "metadata": {},
   "outputs": [],
   "source": [
    "def get_hipotesis(features, theta_values):\n",
    "    ## Calculo de la hipotesis de froma vectorizada,producto punto entre el vector de features y el vector de parametros theta ##\n",
    "    z = features.dot(theta_values)\n",
    "    \n",
    "    ### INICIO: TU CODIGO AQUI:  (~1 linea)###\n",
    "    h = sigmoid(z)\n",
    "    ### FIN ##\n",
    "    \n",
    "    return h"
   ]
  },
  {
   "cell_type": "markdown",
   "metadata": {},
   "source": [
    "# Métricas de evaluación\n",
    "\n",
    "Tal como lo vimos en la clase 22: evaluación , utilizamos diversas métricas para evaluar y reportar la exactitud y rendimiento de nuestros modelos de machine learning. En clasificación usamos el costo: cross-entropy para entrenar, pero evaluamos y reportamos diversas métricas mas ."
   ]
  },
  {
   "cell_type": "markdown",
   "metadata": {},
   "source": [
    "## Costo\n",
    "\n",
    "El proceso de gradient descent busca minimizar la siguiente función de costo en función de los parámetros theta, y así encontrar los parámetros que producen una hipótesis optima. \n",
    "\n",
    "El costo mide que tan buena o mala es una hipótesis por lo cual esperamos que este disminuya durante el entrenamiento.\n",
    "\n",
    "$J(\\Theta) = - {\\frac {1}{m}}\\sum _{i=1}^{m} y \\log(h(x)) + (1-y)\\log(1-h(x))$\n",
    "\n",
    "Utiliza la funcion log de numpy, Ejemplo:\n",
    "`np.log(y)`"
   ]
  },
  {
   "cell_type": "code",
   "execution_count": 506,
   "metadata": {},
   "outputs": [],
   "source": [
    "def costo(X, theta_vector, y):\n",
    "    m = len(y)\n",
    "    \n",
    "    ### INICIO: TU CODIGO AQUI:  (~2 lineas)###\n",
    "    y_hat =  get_hipotesis(X,theta_vector)\n",
    "    \n",
    "    costo = -(np.sum(y*(np.log(y_hat))+((1-y)*np.log(1-y_hat))))/m\n",
    "    ### FIN ##\n",
    "    \n",
    "    return costo"
   ]
  },
  {
   "cell_type": "markdown",
   "metadata": {},
   "source": [
    "## Accuracy Score\n",
    "\n",
    "Implementa la funcion de accuracy utlizando sklearn(puedes utilizar como referencia la clase 22: evaluación )"
   ]
  },
  {
   "cell_type": "code",
   "execution_count": 507,
   "metadata": {},
   "outputs": [],
   "source": [
    "def accuracy(X, theta_vector, y):\n",
    "\n",
    "    hipotesis = get_hipotesis(X, theta_vector)\n",
    "    \n",
    "    # Convertimos el resultado probabilistico a deterministico (0 1)\n",
    "    y_pred = [1 if (y >= 0.5) else 0 for y in hipotesis ]\n",
    "    \n",
    "    ### INICIO: TU CODIGO AQUI:  (~1 linea)###\n",
    "    acc_score = accuracy_score(y, y_pred)\n",
    "    ### FIN ##\n",
    "    \n",
    "    return acc_score"
   ]
  },
  {
   "cell_type": "markdown",
   "metadata": {},
   "source": [
    "## F1 Score\n",
    "\n",
    "Implementa la funcion de f1_score utlizando sklearn(puedes utilizar como referencia la clase 22: evaluación )"
   ]
  },
  {
   "cell_type": "code",
   "execution_count": 508,
   "metadata": {},
   "outputs": [],
   "source": [
    "def f1(X, theta_vector, y):\n",
    "\n",
    "    hipotesis = get_hipotesis(X, theta_vector)\n",
    "\n",
    "    # Convertimos el resultado probabilistico a deterministico (0 1)    \n",
    "    y_pred = [1 if (y >= 0.5) else 0 for y in hipotesis ]\n",
    "    \n",
    "    ## INICIO: TU CODIGO AQUI:  (~1 linea)###\n",
    "    f1 = f1_score(y, y_pred)\n",
    "    ### FIN ##\n",
    "    \n",
    "    return f1"
   ]
  },
  {
   "cell_type": "markdown",
   "metadata": {},
   "source": [
    "## Precision Score\n",
    "\n",
    "Implementa la funcion de precision_score utlizando sklearn(puedes utilizar como referencia la clase 22: evaluación )"
   ]
  },
  {
   "cell_type": "code",
   "execution_count": 509,
   "metadata": {},
   "outputs": [],
   "source": [
    "def precision(X, theta_vector, y):\n",
    "\n",
    "    hipotesis = get_hipotesis(X, theta_vector)\n",
    "\n",
    "    # Convertimos el resultado probabilistico a deterministico (0 1)    \n",
    "    y_pred = [1 if (y >= 0.5) else 0 for y in hipotesis ]\n",
    "    \n",
    "    ## INICIO: TU CODIGO AQUI:  (~1 linea)###\n",
    "    precision = precision_score(y, y_pred)\n",
    "    ### FIN ##\n",
    "    \n",
    "    return precision"
   ]
  },
  {
   "cell_type": "markdown",
   "metadata": {},
   "source": [
    "## Recall Score\n",
    "\n",
    "Implementa la funcion de recall_score utlizando sklearn(puedes utilizar como referencia la clase 22: evaluación )"
   ]
  },
  {
   "cell_type": "code",
   "execution_count": 510,
   "metadata": {},
   "outputs": [],
   "source": [
    "def recall(X, theta_vector, y):\n",
    "\n",
    "    hipotesis = get_hipotesis(X, theta_vector)\n",
    "\n",
    "    # Convertimos el resultado probabilistico a deterministico (0 1)    \n",
    "    y_pred = [1 if (y >= 0.5) else 0 for y in hipotesis ]\n",
    "    \n",
    "    ## INICIO: TU CODIGO AQUI:  (~1 linea)###\n",
    "    reacall = recall_score(y, y_pred)\n",
    "    ### FIN ##\n",
    "    \n",
    "    return recall"
   ]
  },
  {
   "cell_type": "markdown",
   "metadata": {},
   "source": [
    "# Pre-procesamiento\n",
    "\n",
    "En Machine learning, la fase de pre-procesamiento(incluyendo feature engineering) de datos puede llegar a abarcar el 70% o más del tiempo de un proyecto , pero este es un tema que se profundiza en otros cursos del área de ciencia de datos por lo cual en este proyecto solo vamos a realizar como pre-procesamiento una normalización de features."
   ]
  },
  {
   "cell_type": "markdown",
   "metadata": {},
   "source": [
    "### Estandarización o Z-score Normalizacion \n",
    "\n",
    "El objetivo de la normalización es ayudar a gradient descent a encontrar el mínimo del costo mas rápido y fácilmente , esto se logra a través de convertir las features de manera que tengan media = 0 y desviación estándar de 1 , similar a una distribución de probabilidad normal(gaussiana).\n",
    "\n",
    "Lo calculamos utilizando:\n",
    "\n",
    "$z = {\\frac {x - \\mu} {\\sigma}}$\n",
    "\n",
    "Donde $\\mu$ es la media y $\\sigma$ es la desviacion estandard\n",
    "\n",
    "##### Comentario opcional:\n",
    "el Z-score en el nombre concuerda con el uso de \"z-scores\" en estadística cuando se hace estadística inferencial(prueba de hipótesis e intervalos de confianza)\n",
    "\n",
    "Implementa la funcion de normalizacion sin utlizar sklearn solo puedes utilizar numpy.\n",
    "\n",
    "Para utilizar la columna de features, utilizamos `features[:,i]`"
   ]
  },
  {
   "cell_type": "code",
   "execution_count": 511,
   "metadata": {},
   "outputs": [],
   "source": [
    "def normalizar(features):\n",
    "    std = 1\n",
    "    media = 0\n",
    "    \n",
    "    # Utilizamos el ciclo, para normalizar cada feature(una iteracion por feature)\n",
    "    for i in list(range(0, features.shape[1])):\n",
    "        ### INICIO: TU CODIGO AQUI:  (~3 lineas)###\n",
    "        std = np.std(features[:,i])\n",
    "        media = np.mean(features[:,i])\n",
    "        features[:,i] =  (features[:,i]-media)/std\n",
    "        ### FIN ##\n",
    "    return features"
   ]
  },
  {
   "cell_type": "markdown",
   "metadata": {},
   "source": [
    "## Prediccion\n",
    "\n",
    "Una vez entrenado, el modelo de ML se utiliza para realizar predicciones ,en este proyecto realizaremos predicciones en un train y un test set(no usaremos cross-validation set)  .Una  vez exportado y entregado el modelo al profesor, el modelo realizara predicciones dentro de una aplicación móvil . \n",
    "\n",
    "La siguiente función la vamos a utilizar para realizar predicciones a lo largo del proyecto(y así poder medir contra los datos reales para realizar evaluación), no hay que cambiar nada del código, solo ejecuta la celda."
   ]
  },
  {
   "cell_type": "code",
   "execution_count": 512,
   "metadata": {},
   "outputs": [],
   "source": [
    "def prediccion(x, theta_vector, normalizar_valores):\n",
    "    numero_features = x.shape[1] + 1\n",
    "    \n",
    "    if (normalizar_valores):\n",
    "        x = normalizar(x)\n",
    "    \n",
    "    x_features = np.ones((x.shape[0], numero_features))\n",
    "    x_features[:,:-1] = x\n",
    "\n",
    "    \n",
    "    y_hat = get_hipotesis(x_features, theta_vector)\n",
    "    \n",
    "    return np.array([1 if (y >= 0.5) else 0 for y in y_hat])"
   ]
  },
  {
   "cell_type": "markdown",
   "metadata": {
    "collapsed": true
   },
   "source": [
    "## Gradient Descent\n",
    "\n",
    "Gradient descent es el algoritmo o método de optimización matemática que nos permite realizar el “entrenamiento” de nuestro modelos, ya que minimiza el costo y nos devuelve los parámetros del modelo óptimos.\n",
    "\n",
    "En la siguiente celda, debes implementar gradient descent tal como visto en clase y practicado en las tareas .\n",
    "\n",
    "Lo definimos e implementamos dentro de una función de Python para que podamos ejecutarlo(“llamarlo”) múltiples veces con distintos parámetros, sin tener que volver a programarlo cada vez , esto nos será útil para experimentar y entrenar varios modelos.\n",
    "\n",
    "Repetir{\n",
    "\n",
    "$\\theta_{j} := \\theta _{j} - \\alpha {\\frac {1}{m}} \\sum _{i=1}^{m}(h_{\\theta}(x^{(i)})-y^{(i)})x^{(i)}_{j}$\n",
    "\n",
    "}\n",
    "        \n",
    "Simultaneamente para cada $j = 0,\\ldots,n $"
   ]
  },
  {
   "cell_type": "code",
   "execution_count": 513,
   "metadata": {},
   "outputs": [],
   "source": [
    "def gradient_descent(X, y, theta_vector, alpha, iterations, X_test, y_test, nombre_modelo):\n",
    "    global log_book\n",
    "    m = len(y)  #numero de ejemplos de entrenamiento\n",
    "\n",
    "    ## Las siguientes 3 lineas de codigo crean listas vacias para almacenar el costo y accuracy obtenido en cada iteracion\n",
    "    ## Se espera que el costo disminuya y el accuracy aumente\n",
    "    cost_vect = []\n",
    "    accuracy_vect = []\n",
    "    accuracy_vect_test = []\n",
    "    \n",
    "    for iteration in range(iterations):\n",
    "        '''\n",
    "        IMPLELEMTA TU CODIGO AQUI, llama a la funcion para calcular la hipotesis,es decir calcular h(x)\n",
    "        que se implemento mas arriba. Parametros matriz de features X y el vector\n",
    "        con los valores Theta (~1 linea)\n",
    "        '''\n",
    "        hipotesis = get_hipotesis(X,theta_vector)\n",
    "\n",
    "\n",
    "        theta_vector_temp = [] # vector que guarda los parametros theta temporales\n",
    "        \n",
    "        # Utilizamos un ciclo para realizar la actualizacion de gradient descent una vez para cada parametro\n",
    "        # En cada iteracion \"i\" guarda el numero de parametro theta, y la varaible \"theta\" guarda el parametro como tal\n",
    "        for i, theta in enumerate(theta_vector):\n",
    "            '''\n",
    "            IMPLELEMTA TU CODIGO AQUI, adentro de este ciclo vamos a calcular\n",
    "            elnuevo valor de Theta[i], utilizando la formula de la celda de arriba\n",
    "            Recuerda que para multiplicar por utilizamos X[:,i]  (~1 linea)\n",
    "            '''\n",
    "            nuevo_theta = theta - ((alpha / m )*np.sum((hipotesis-y)*(X[:,i]))) \n",
    "\n",
    "            ### aqui agregamos el nuevo valor the theta[i] a un vector temporal\n",
    "            theta_vector_temp.append(nuevo_theta)\n",
    "\n",
    "\n",
    "        ## Actualizamos el vector theta con los nuevos valores\n",
    "        theta_vector = theta_vector_temp\n",
    "\n",
    "        # En las sigiuentes lineas calculamos las metricas de evaluacion en cada iteracion(aplicadas al train-set)\n",
    "        '''\n",
    "        IMPLEMENTA TU CODIGO AQUI, llama a la funcion de costo (~1 linea)\n",
    "        '''\n",
    "        cost = costo(X, theta_vector, y)\n",
    "        \n",
    "        '''\n",
    "        IMPLEMENTA TU CODIGO AQUI, utiliza Accuracy que se definio arriba (~1 linea)\n",
    "        '''\n",
    "        acc_score = accuracy(X, theta_vector, y)\n",
    "        \n",
    "        '''\n",
    "        IMPLEMENTA TU CODIGO AQUI, utiliza f1 score que se definio arriba (~1 linea)\n",
    "        '''\n",
    "        f1_training = f1(X, theta_vector, y)\n",
    "\n",
    "        '''\n",
    "        IMPLEMENTA TU CODIGO AQUI, utiliza precision score que se definio arriba (~1 linea)\n",
    "        '''\n",
    "        precision_training = precision(X, theta_vector, y)\n",
    "        \n",
    "        '''\n",
    "        IMPLEMENTA TU CODIGO AQUI, utiliza recall score que se definio arriba (~1 linea)\n",
    "        '''\n",
    "        recall_training = recall(X, theta_vector, y)\n",
    "        \n",
    "        \n",
    "        ## En las siguientes lineas calculamos las metricas de evaluacion aplicadas al test-set, este codigo no hay que cambiarlo ####\n",
    "        y_predict = prediccion(X_test, theta_vector, True)\n",
    "        acc_test = accuracy_score(y_predict, y_test)\n",
    "        accuracy_vect_test.append(acc_test)\n",
    "        f1_score_test = f1_score(y_predict, y_test)\n",
    "        precision_test = precision_score(y_test, y_predict)\n",
    "        recall_test = recall_score(y_test, y_predict)\n",
    "        \n",
    "        ## Guardando el valor del costo para graficarlo, este codigo no hay que cambiarlo ##\n",
    "        cost_vect.append(cost)\n",
    "        accuracy_vect.append(acc_score)\n",
    "        \n",
    "        n =  100 ### Ingresa aqui cada cuantas iteraciones quieres que se imprima el valor de las metricas ###\n",
    "        \n",
    "        ## Este codigo no hay que modificarlo ##\n",
    "        if(iteration % n == 0):\n",
    "            print('#####################')\n",
    "            print('TRAINING: [Iteracion: ', iteration,' Costo: ', cost, \\\n",
    "                  ' Accuracy:', acc_score,' F1 Score:',f1_training, \\\n",
    "                  'Precision training:', precision_training, 'Recall training:', recall_training,']')\n",
    "            print('TEST: [Iteracion: ', iteration,'Accuracy:', acc_test, \\\n",
    "                  ' F1 Score:', f1_score_test, 'Precision Test:', precision_test,'Recall Test:', recall_test,']')\n",
    "        \n",
    "    ## Log book, este codigo no hay que cambiarlo, sirve para guardar en la bitacora los resultados del experimento ##\n",
    "    nombre_modelo = nombre_modelo + '_'+datetime.datetime.now().strftime(\"%d%H%M%f\")\n",
    "    numero_features = X.shape[1] - 1\n",
    "    experiment = np.array([nombre_modelo, numero_features, m, alpha, iterations, accuracy_vect[-1], \\\n",
    "                           accuracy_vect_test[-1], f1_score_test, precision_test, \\\n",
    "                           recall_test,theta_vector], dtype=object)\n",
    "    log_book = np.vstack([log_book, experiment])\n",
    "        \n",
    "    return theta_vector, cost_vect, accuracy_vect,accuracy_vect_test\n"
   ]
  },
  {
   "cell_type": "markdown",
   "metadata": {},
   "source": [
    "## Dividimos la data en training y test set"
   ]
  },
  {
   "cell_type": "markdown",
   "metadata": {},
   "source": [
    "Tal como visto en la clase 23, nos sirve para evaluar objetivamente el rendimiento de nuestros modelos en datos que nunca ha visto durante su entrenamiento"
   ]
  },
  {
   "cell_type": "code",
   "execution_count": 514,
   "metadata": {},
   "outputs": [],
   "source": [
    "X_train, X_test, y_train, y_test = train_test_split(data.data, data.target, stratify=data.target, random_state=42)"
   ]
  },
  {
   "cell_type": "code",
   "execution_count": 515,
   "metadata": {},
   "outputs": [
    {
     "data": {
      "text/plain": [
       "(426, 30)"
      ]
     },
     "execution_count": 515,
     "metadata": {},
     "output_type": "execute_result"
    }
   ],
   "source": [
    "X_train.shape"
   ]
  },
  {
   "cell_type": "markdown",
   "metadata": {},
   "source": [
    "# Entrenamiento\n",
    "\n",
    "## Features a utilizar\n",
    "A continuación, vamos a entrenar varios modelos, vamos a utilizar las funciones que creamos previamente.\n",
    "Es importante experimentar con diferentes features,diverso tamaño del training set, y diversos hyper-parametros(learning rate e iteraciones)\n",
    "\n",
    "En este proyecto como máximo vamos a utilizar 5 features(pero en algunos experimentos usaremos menos) de manera obligatoria, pero de forma opcional se recomienda experimentar con más y diversas combinaciones ,esto para practicar y obtener experiencia con ML. \n",
    "\n",
    "También vamos a utilizar diferente número de ejemplos en el set de datos, diferente número de iteraciones y diferente learning rate . Todas estas distintas configuraciones serán almacenadas en el log-book(bitácora) automáticamente .\n",
    "\n",
    "En este proyecto solo vamos a utilizar las primeras 5 features  en este orden:\n",
    "\n",
    "`['mean radius', 'mean texture', 'mean perimeter', 'mean area','mean smoothness']`\n",
    "\n",
    "La razón por las que usaremos estas 5 features específicamente(y en este orden) en el modelo final(el que será exportado) es que estas features son las que serán utilizadas en la aplicación móvil en la cual integraremos el modelo(y tendremos en la interfaz de usuario de la aplicación componentes para ingresar valores para estas features),ero como se mencionó se recomienda experimentar y evaluar resultados con distintas features y distinto número  de ellas .\n",
    "\n",
    "## Descripcion del entrenamiento\n",
    "El entrenamiento de cada modelo se compone básicamente de tres pasos, sampleo bootstrap, escoger las features y ejecutar el entrenamiento llamando a la función de gradient descent que ya creamos.\n",
    "\n",
    "En el primer paso vamos a utilizar la función resample para hacer un sampleo del set de datos de entrenamiento, debemos definir el numero de samples que queremos utilizar.\n",
    "\n",
    "En el segundo paso, en un arreglo vamos a definir el nombre de las features que queremos utilizar para entrenar el modelo.\n",
    "En el tercer paso ejecutamos la función gradient descent.\n",
    "\n",
    "Por ultimo vamos a obtener el accuracy del modelo y vamos a imprimir la matriz de confusión, imprimiremos el precisión y el recall del modelo para entender mejor los resultados y tener una mejor idea de que tan bien clasifica nuestro modelo."
   ]
  },
  {
   "cell_type": "markdown",
   "metadata": {},
   "source": [
    "## Entrenamiento modelo 1"
   ]
  },
  {
   "cell_type": "markdown",
   "metadata": {},
   "source": [
    "#### Sampleo bootstrap"
   ]
  },
  {
   "cell_type": "code",
   "execution_count": 516,
   "metadata": {},
   "outputs": [],
   "source": [
    "X_train_m1, Y_train_m1 = resample(X_train, y_train, n_samples = 150)"
   ]
  },
  {
   "cell_type": "markdown",
   "metadata": {},
   "source": [
    "### Filtrar Features\n",
    "Solo seleccionar los features"
   ]
  },
  {
   "cell_type": "code",
   "execution_count": 517,
   "metadata": {},
   "outputs": [],
   "source": [
    "'''\n",
    "Ingresa en la lista el nombre de las fatrues que quieres utlizar en este modelo (~1 linea)\n",
    "'''\n",
    "features_filtro = ['mean radius', 'mean texture']"
   ]
  },
  {
   "cell_type": "code",
   "execution_count": 518,
   "metadata": {},
   "outputs": [],
   "source": [
    "X_train_m1 = helper.fitrar_nombre(X_train_m1,data.feature_names,features_filtro)\n",
    "X_test_features = helper.fitrar_nombre(X_test,data.feature_names,features_filtro)"
   ]
  },
  {
   "cell_type": "code",
   "execution_count": 519,
   "metadata": {},
   "outputs": [
    {
     "data": {
      "text/plain": [
       "(150, 2)"
      ]
     },
     "execution_count": 519,
     "metadata": {},
     "output_type": "execute_result"
    }
   ],
   "source": [
    "X_train_m1.shape"
   ]
  },
  {
   "cell_type": "code",
   "execution_count": 520,
   "metadata": {},
   "outputs": [
    {
     "data": {
      "text/plain": [
       "(143, 2)"
      ]
     },
     "execution_count": 520,
     "metadata": {},
     "output_type": "execute_result"
    }
   ],
   "source": [
    "X_test_features.shape"
   ]
  },
  {
   "cell_type": "code",
   "execution_count": 521,
   "metadata": {},
   "outputs": [],
   "source": [
    "## Numero de iteracions ##\n",
    "iterations = 300  # Define el numero de iteraciones #\n",
    "\n",
    "## Alpha ##\n",
    "alpha = 0.02 # Define el valor de alpha #\n",
    "\n",
    "#### No hay que cambiar el codigo despues de esta linea #####\n",
    "## Numero de feautres ##\n",
    "numero_features = X_train_m1.shape[1] + 1\n",
    "\n",
    "## Creamos un vector donde se almacenan los valores de Theta,\n",
    "## lo inicializamos con numeros aleatorios\n",
    "theta_vector = np.random.rand(numero_features)\n",
    "\n",
    "## Normaliza las features de X_train_features (~1 linea) ##\n",
    "X_train_m1 =  normalizar(X_train_m1)\n",
    "\n",
    "# Creando la Matriz X de features, \n",
    "# utilizamos np.ones para agregar el valor constante '1' que es el bias o feature 0\n",
    "X_train_features = np.ones((X_train_m1.shape[0], numero_features))\n",
    "X_train_features[:,:-1] = X_train_m1"
   ]
  },
  {
   "cell_type": "code",
   "execution_count": 522,
   "metadata": {
    "scrolled": true
   },
   "outputs": [
    {
     "name": "stdout",
     "output_type": "stream",
     "text": [
      "#####################\n",
      "TRAINING: [Iteracion:  0  Costo:  1.1944233848448509  Accuracy: 0.3933333333333333  F1 Score: 0.5560975609756098 Precision training: 0.5277777777777778 Recall training: <function recall at 0x033D8468> ]\n",
      "TEST: [Iteracion:  0 Accuracy: 0.3006993006993007  F1 Score: 0.4623655913978495 Precision Test: 0.4479166666666667 Recall Test: 0.4777777777777778 ]\n",
      "#####################\n",
      "TRAINING: [Iteracion:  100  Costo:  0.6889545445802789  Accuracy: 0.6466666666666666  F1 Score: 0.7854251012145749 Precision training: 0.6466666666666666 Recall training: <function recall at 0x033D8468> ]\n",
      "TEST: [Iteracion:  100 Accuracy: 0.6293706293706294  F1 Score: 0.7725321888412017 Precision Test: 0.6293706293706294 Recall Test: 1.0 ]\n",
      "#####################\n",
      "TRAINING: [Iteracion:  200  Costo:  0.48912446732231224  Accuracy: 0.82  F1 Score: 0.8778280542986425 Precision training: 0.782258064516129 Recall training: <function recall at 0x033D8468> ]\n",
      "TEST: [Iteracion:  200 Accuracy: 0.7692307692307693  F1 Score: 0.8450704225352113 Precision Test: 0.7317073170731707 Recall Test: 1.0 ]\n"
     ]
    }
   ],
   "source": [
    "modelo_1_theta_values, cost_vect, acc_vect, acc_vect_test = \\\n",
    "gradient_descent(X_train_features, Y_train_m1, theta_vector, alpha, iterations, X_test_features, y_test, 'modelo_1')"
   ]
  },
  {
   "cell_type": "code",
   "execution_count": 523,
   "metadata": {},
   "outputs": [
    {
     "data": {
      "image/png": "[encoded data removed]",
      "text/plain": [
       "<matplotlib.figure.Figure at 0x5cb5d90>"
      ]
     },
     "metadata": {},
     "output_type": "display_data"
    }
   ],
   "source": [
    "## Funcion para graficar el costo y  accuracy durante cada iteracion ##\n",
    "helper.training_graph(cost_vect, acc_vect, acc_vect_test)"
   ]
  },
  {
   "cell_type": "markdown",
   "metadata": {},
   "source": [
    "### Accuracy y Matriz de confusion Training Set\n",
    "\n",
    "![alt text](https://rasbt.github.io/mlxtend/user_guide/evaluate/confusion_matrix_files/confusion_matrix_1.png)"
   ]
  },
  {
   "cell_type": "code",
   "execution_count": 524,
   "metadata": {},
   "outputs": [
    {
     "name": "stdout",
     "output_type": "stream",
     "text": [
      "Accuracy: 85.33333333333334 %\n",
      "\n",
      "Matriz de confusion\n"
     ]
    },
    {
     "data": {
      "text/plain": [
       "array([[32, 21],\n",
       "       [ 1, 96]], dtype=int64)"
      ]
     },
     "execution_count": 524,
     "metadata": {},
     "output_type": "execute_result"
    }
   ],
   "source": [
    "y_hat = get_hipotesis(X_train_features, modelo_1_theta_values)\n",
    "y_predict = np.array([1 if (y > 0.5) else 0 for y in y_hat])\n",
    "\n",
    "print('Accuracy:', accuracy_score(Y_train_m1,y_predict) * 100 ,'%')\n",
    "print()\n",
    "print('Matriz de confusion')\n",
    "confusion_matrix(Y_train_m1, y_predict )"
   ]
  },
  {
   "cell_type": "markdown",
   "metadata": {},
   "source": [
    "#### Accuracy con el Test set"
   ]
  },
  {
   "cell_type": "code",
   "execution_count": 525,
   "metadata": {},
   "outputs": [],
   "source": [
    "y_predict = prediccion(X_test_features, modelo_1_theta_values, True)"
   ]
  },
  {
   "cell_type": "code",
   "execution_count": 526,
   "metadata": {},
   "outputs": [
    {
     "name": "stdout",
     "output_type": "stream",
     "text": [
      "Accuracy: 85.3146853146853 %\n"
     ]
    }
   ],
   "source": [
    "print('Accuracy:',accuracy_score(y_test, y_predict)* 100 ,'%')"
   ]
  },
  {
   "cell_type": "markdown",
   "metadata": {},
   "source": [
    "#### Matriz de confusion Test Set"
   ]
  },
  {
   "cell_type": "code",
   "execution_count": 527,
   "metadata": {},
   "outputs": [
    {
     "data": {
      "text/plain": [
       "array([[32, 21],\n",
       "       [ 0, 90]], dtype=int64)"
      ]
     },
     "execution_count": 527,
     "metadata": {},
     "output_type": "execute_result"
    }
   ],
   "source": [
    "confusion_matrix(y_test, y_predict)"
   ]
  },
  {
   "cell_type": "code",
   "execution_count": 528,
   "metadata": {},
   "outputs": [
    {
     "name": "stdout",
     "output_type": "stream",
     "text": [
      "precision:  0.8108108108108109\n",
      "recall:  1.0\n"
     ]
    }
   ],
   "source": [
    "print('precision: ',precision_score(y_test, y_predict))\n",
    "\n",
    "print('recall: ', recall_score(y_test, y_predict))"
   ]
  },
  {
   "cell_type": "markdown",
   "metadata": {},
   "source": [
    "## Entrenamiento modelo 2"
   ]
  },
  {
   "cell_type": "markdown",
   "metadata": {},
   "source": [
    "#### Sampleo bootstrap"
   ]
  },
  {
   "cell_type": "code",
   "execution_count": 529,
   "metadata": {},
   "outputs": [],
   "source": [
    "'''\n",
    "Ingresa en la lista el nombre de las fatrues que quieres utlizar en este modelo (~1 linea)\n",
    "'''\n",
    "X_train_m2, Y_train_m2 = resample(X_train, y_train, n_samples = 400)"
   ]
  },
  {
   "cell_type": "markdown",
   "metadata": {},
   "source": [
    "### Filtrar Features\n",
    "Solo seleccionar los features"
   ]
  },
  {
   "cell_type": "code",
   "execution_count": 530,
   "metadata": {},
   "outputs": [],
   "source": [
    "features_filtro = ['mean perimeter', 'mean area','mean smoothness']"
   ]
  },
  {
   "cell_type": "code",
   "execution_count": 531,
   "metadata": {},
   "outputs": [],
   "source": [
    "X_train_m2 = helper.fitrar_nombre(X_train_m2,data.feature_names,features_filtro)\n",
    "X_test_features = helper.fitrar_nombre(X_test,data.feature_names,features_filtro)"
   ]
  },
  {
   "cell_type": "code",
   "execution_count": 532,
   "metadata": {},
   "outputs": [],
   "source": [
    "## Numero de iteracions ##\n",
    "iterations = 1000  # Define el numero de iteraciones #\n",
    "\n",
    "## Alpha ##\n",
    "alpha = 0.05 # Define el valor de alpha #\n",
    "\n",
    "#### No hay que cambiar el codigo despues de esta linea #####\n",
    "## Numero de feautres ##\n",
    "numero_features = X_train_m2.shape[1] + 1\n",
    "\n",
    "## Creamos un vector donde se almacenan los valores de Theta,\n",
    "## lo inicializamos con numeros aleatorios\n",
    "theta_vector = np.random.rand(numero_features)\n",
    "\n",
    "## Normaliza las features de X_train_features (~1 linea) ##\n",
    "X_train_m2 = normalizar(X_train_m2)\n",
    "\n",
    "# Creando la Matriz X de features, \n",
    "# utilizamos np.ones para agregar el valor constante '1' que es el bias o feature 0\n",
    "X_train_features = np.ones((X_train_m2.shape[0], numero_features))\n",
    "X_train_features[:,:-1] = X_train_m2"
   ]
  },
  {
   "cell_type": "code",
   "execution_count": 533,
   "metadata": {},
   "outputs": [
    {
     "name": "stdout",
     "output_type": "stream",
     "text": [
      "#####################\n",
      "TRAINING: [Iteracion:  0  Costo:  1.5130654822018164  Accuracy: 0.2175  F1 Score: 0.34381551362683443 Precision training: 0.39805825242718446 Recall training: <function recall at 0x033D8468> ]\n",
      "TEST: [Iteracion:  0 Accuracy: 0.18181818181818182  F1 Score: 0.2909090909090909 Precision Test: 0.32 Recall Test: 0.26666666666666666 ]\n",
      "#####################\n",
      "TRAINING: [Iteracion:  100  Costo:  0.3289939615068391  Accuracy: 0.88  F1 Score: 0.9166666666666666 Precision training: 0.8655737704918033 Recall training: <function recall at 0x033D8468> ]\n",
      "TEST: [Iteracion:  100 Accuracy: 0.8601398601398601  F1 Score: 0.8969072164948454 Precision Test: 0.8365384615384616 Recall Test: 0.9666666666666667 ]\n",
      "#####################\n",
      "TRAINING: [Iteracion:  200  Costo:  0.260694938913212  Accuracy: 0.8925  F1 Score: 0.923076923076923 Precision training: 0.8958333333333334 Recall training: <function recall at 0x033D8468> ]\n",
      "TEST: [Iteracion:  200 Accuracy: 0.8671328671328671  F1 Score: 0.900523560209424 Precision Test: 0.8514851485148515 Recall Test: 0.9555555555555556 ]\n",
      "#####################\n",
      "TRAINING: [Iteracion:  300  Costo:  0.2393239316731979  Accuracy: 0.89  F1 Score: 0.921146953405018 Precision training: 0.8954703832752613 Recall training: <function recall at 0x033D8468> ]\n",
      "TEST: [Iteracion:  300 Accuracy: 0.8741258741258742  F1 Score: 0.9052631578947369 Precision Test: 0.86 Recall Test: 0.9555555555555556 ]\n",
      "#####################\n",
      "TRAINING: [Iteracion:  400  Costo:  0.22924997815861467  Accuracy: 0.89  F1 Score: 0.921146953405018 Precision training: 0.8954703832752613 Recall training: <function recall at 0x033D8468> ]\n",
      "TEST: [Iteracion:  400 Accuracy: 0.8671328671328671  F1 Score: 0.8994708994708994 Precision Test: 0.8585858585858586 Recall Test: 0.9444444444444444 ]\n",
      "#####################\n",
      "TRAINING: [Iteracion:  500  Costo:  0.22361107424140314  Accuracy: 0.89  F1 Score: 0.921146953405018 Precision training: 0.8954703832752613 Recall training: <function recall at 0x033D8468> ]\n",
      "TEST: [Iteracion:  500 Accuracy: 0.8671328671328671  F1 Score: 0.8994708994708994 Precision Test: 0.8585858585858586 Recall Test: 0.9444444444444444 ]\n",
      "#####################\n",
      "TRAINING: [Iteracion:  600  Costo:  0.220136842823063  Accuracy: 0.8925  F1 Score: 0.9228007181328546 Precision training: 0.8986013986013986 Recall training: <function recall at 0x033D8468> ]\n",
      "TEST: [Iteracion:  600 Accuracy: 0.8671328671328671  F1 Score: 0.8994708994708994 Precision Test: 0.8585858585858586 Recall Test: 0.9444444444444444 ]\n",
      "#####################\n",
      "TRAINING: [Iteracion:  700  Costo:  0.21786079570317876  Accuracy: 0.8925  F1 Score: 0.9228007181328546 Precision training: 0.8986013986013986 Recall training: <function recall at 0x033D8468> ]\n",
      "TEST: [Iteracion:  700 Accuracy: 0.8671328671328671  F1 Score: 0.8994708994708994 Precision Test: 0.8585858585858586 Recall Test: 0.9444444444444444 ]\n",
      "#####################\n",
      "TRAINING: [Iteracion:  800  Costo:  0.21630482323330405  Accuracy: 0.8975  F1 Score: 0.9261261261261261 Precision training: 0.9049295774647887 Recall training: <function recall at 0x033D8468> ]\n",
      "TEST: [Iteracion:  800 Accuracy: 0.8671328671328671  F1 Score: 0.8994708994708994 Precision Test: 0.8585858585858586 Recall Test: 0.9444444444444444 ]\n",
      "#####################\n",
      "TRAINING: [Iteracion:  900  Costo:  0.21520740053941323  Accuracy: 0.8975  F1 Score: 0.9261261261261261 Precision training: 0.9049295774647887 Recall training: <function recall at 0x033D8468> ]\n",
      "TEST: [Iteracion:  900 Accuracy: 0.8671328671328671  F1 Score: 0.8994708994708994 Precision Test: 0.8585858585858586 Recall Test: 0.9444444444444444 ]\n"
     ]
    }
   ],
   "source": [
    "## Llama a la funcion de gradient descent, recurda definir un nombre diferente para el modelo (~1 linea) ##\n",
    "modelo_2_theta_values, cost_vect, acc_vect, acc_vect_test = \\\n",
    "gradient_descent(X_train_features, Y_train_m2, theta_vector, alpha, iterations, X_test_features, y_test, 'modelo_2')\n",
    "### FIN ##"
   ]
  },
  {
   "cell_type": "code",
   "execution_count": 534,
   "metadata": {},
   "outputs": [
    {
     "data": {
      "image/png": "[encoded data removed]",
      "text/plain": [
       "<matplotlib.figure.Figure at 0x8fa4510>"
      ]
     },
     "metadata": {},
     "output_type": "display_data"
    }
   ],
   "source": [
    "## Funcion para graficar el costo y  accuracy durante cada iteracion ##\n",
    "helper.training_graph(cost_vect, acc_vect, acc_vect_test)"
   ]
  },
  {
   "cell_type": "markdown",
   "metadata": {},
   "source": [
    "#### Accuracy con el Test set [Modelo 2]"
   ]
  },
  {
   "cell_type": "code",
   "execution_count": 535,
   "metadata": {},
   "outputs": [],
   "source": [
    "y_predict = prediccion(X_test_features, modelo_2_theta_values, True)"
   ]
  },
  {
   "cell_type": "code",
   "execution_count": 536,
   "metadata": {},
   "outputs": [
    {
     "name": "stdout",
     "output_type": "stream",
     "text": [
      "Accuracy: 86.7132867132867 %\n"
     ]
    }
   ],
   "source": [
    "print('Accuracy:',accuracy_score(y_test, y_predict)* 100 ,'%')"
   ]
  },
  {
   "cell_type": "markdown",
   "metadata": {},
   "source": [
    "#### Matriz de confusion Test Set [Modelo 2]"
   ]
  },
  {
   "cell_type": "code",
   "execution_count": 537,
   "metadata": {},
   "outputs": [
    {
     "data": {
      "text/plain": [
       "array([[39, 14],\n",
       "       [ 5, 85]], dtype=int64)"
      ]
     },
     "execution_count": 537,
     "metadata": {},
     "output_type": "execute_result"
    }
   ],
   "source": [
    "confusion_matrix(y_test, y_predict)"
   ]
  },
  {
   "cell_type": "code",
   "execution_count": 538,
   "metadata": {},
   "outputs": [
    {
     "name": "stdout",
     "output_type": "stream",
     "text": [
      "precision:  0.8585858585858586\n",
      "recall:  0.9444444444444444\n"
     ]
    }
   ],
   "source": [
    "print('precision: ',precision_score(y_test, y_predict))\n",
    "\n",
    "print('recall: ', recall_score(y_test, y_predict))"
   ]
  },
  {
   "cell_type": "markdown",
   "metadata": {},
   "source": [
    "## Entrenamiento modelo 3"
   ]
  },
  {
   "cell_type": "markdown",
   "metadata": {},
   "source": [
    "#### Sampleo bootstrap"
   ]
  },
  {
   "cell_type": "code",
   "execution_count": 539,
   "metadata": {},
   "outputs": [],
   "source": [
    "X_train_m3, Y_train_m3 = resample(X_train, y_train, n_samples = 460)"
   ]
  },
  {
   "cell_type": "markdown",
   "metadata": {},
   "source": [
    "### Filtrar Features\n",
    "Solo seleccionar los features"
   ]
  },
  {
   "cell_type": "code",
   "execution_count": 540,
   "metadata": {},
   "outputs": [],
   "source": [
    "'''\n",
    "Ingresa en la lista el nombre de las fatrues que quieres utlizar en este modelo (~1 linea)\n",
    "'''\n",
    "features_filtro = ['mean radius', 'mean texture', 'mean perimeter', 'mean area']"
   ]
  },
  {
   "cell_type": "code",
   "execution_count": 541,
   "metadata": {},
   "outputs": [],
   "source": [
    "X_train_m3 = helper.fitrar_nombre(X_train_m3,data.feature_names,features_filtro)\n",
    "X_test_features = helper.fitrar_nombre(X_test,data.feature_names,features_filtro)"
   ]
  },
  {
   "cell_type": "code",
   "execution_count": 542,
   "metadata": {},
   "outputs": [],
   "source": [
    "## Numero de iteracions ##\n",
    "iterations = 1500  # Define el numero de iteraciones #\n",
    "\n",
    "## Alpha ##\n",
    "alpha = 0.02 # Define el valor de alpha #\n",
    "\n",
    "#### No hay que cambiar el codigo despues de esta linea #####\n",
    "## Numero de feautres ##\n",
    "numero_features = X_train_m3.shape[1] + 1\n",
    "\n",
    "## Creamos un vector donde se almacenan los valores de Theta,\n",
    "## lo inicializamos con numeros aleatorios\n",
    "theta_vector = np.random.rand(numero_features)\n",
    "\n",
    "## Normaliza las features de X_train_features (~1 linea) ##\n",
    "X_train_m3 = normalizar(X_train_m3)\n",
    "\n",
    "# Creando la Matriz X de features, \n",
    "# utilizamos np.ones para agregar el valor constante '1' que es el bias o feature 0\n",
    "X_train_features = np.ones((X_train_m3.shape[0], numero_features))\n",
    "X_train_features[:,:-1] = X_train_m3"
   ]
  },
  {
   "cell_type": "code",
   "execution_count": 543,
   "metadata": {},
   "outputs": [
    {
     "name": "stdout",
     "output_type": "stream",
     "text": [
      "#####################\n",
      "TRAINING: [Iteracion:  0  Costo:  1.2458976660942351  Accuracy: 0.24347826086956523  F1 Score: 0.3763440860215053 Precision training: 0.36971830985915494 Recall training: <function recall at 0x033D8468> ]\n",
      "TEST: [Iteracion:  0 Accuracy: 0.2867132867132867  F1 Score: 0.4395604395604396 Precision Test: 0.43478260869565216 Recall Test: 0.4444444444444444 ]\n",
      "#####################\n",
      "TRAINING: [Iteracion:  100  Costo:  0.4202369565492221  Accuracy: 0.8304347826086956  F1 Score: 0.8745980707395499 Precision training: 0.7816091954022989 Recall training: <function recall at 0x033D8468> ]\n",
      "TEST: [Iteracion:  100 Accuracy: 0.8671328671328671  F1 Score: 0.9035532994923858 Precision Test: 0.8317757009345794 Recall Test: 0.9888888888888889 ]\n",
      "#####################\n",
      "TRAINING: [Iteracion:  200  Costo:  0.32305731181318376  Accuracy: 0.8934782608695652  F1 Score: 0.9173693086003372 Precision training: 0.8526645768025078 Recall training: <function recall at 0x033D8468> ]\n",
      "TEST: [Iteracion:  200 Accuracy: 0.8811188811188811  F1 Score: 0.9100529100529101 Precision Test: 0.8686868686868687 Recall Test: 0.9555555555555556 ]\n",
      "#####################\n",
      "TRAINING: [Iteracion:  300  Costo:  0.289684843836493  Accuracy: 0.8891304347826087  F1 Score: 0.9128205128205128 Precision training: 0.8585209003215434 Recall training: <function recall at 0x033D8468> ]\n",
      "TEST: [Iteracion:  300 Accuracy: 0.8881118881118881  F1 Score: 0.9139784946236558 Precision Test: 0.8854166666666666 Recall Test: 0.9444444444444444 ]\n",
      "#####################\n",
      "TRAINING: [Iteracion:  400  Costo:  0.27282667620063866  Accuracy: 0.8913043478260869  F1 Score: 0.9143835616438357 Precision training: 0.8612903225806452 Recall training: <function recall at 0x033D8468> ]\n",
      "TEST: [Iteracion:  400 Accuracy: 0.8881118881118881  F1 Score: 0.9139784946236558 Precision Test: 0.8854166666666666 Recall Test: 0.9444444444444444 ]\n",
      "#####################\n",
      "TRAINING: [Iteracion:  500  Costo:  0.2627364519113788  Accuracy: 0.8978260869565218  F1 Score: 0.919104991394148 Precision training: 0.8697068403908795 Recall training: <function recall at 0x033D8468> ]\n",
      "TEST: [Iteracion:  500 Accuracy: 0.8881118881118881  F1 Score: 0.9130434782608695 Precision Test: 0.8936170212765957 Recall Test: 0.9333333333333333 ]\n",
      "#####################\n",
      "TRAINING: [Iteracion:  600  Costo:  0.2560833786448408  Accuracy: 0.8978260869565218  F1 Score: 0.9188255613126081 Precision training: 0.8721311475409836 Recall training: <function recall at 0x033D8468> ]\n",
      "TEST: [Iteracion:  600 Accuracy: 0.8881118881118881  F1 Score: 0.9130434782608695 Precision Test: 0.8936170212765957 Recall Test: 0.9333333333333333 ]\n",
      "#####################\n",
      "TRAINING: [Iteracion:  700  Costo:  0.25141092196273757  Accuracy: 0.8956521739130435  F1 Score: 0.9169550173010381 Precision training: 0.8717105263157895 Recall training: <function recall at 0x033D8468> ]\n",
      "TEST: [Iteracion:  700 Accuracy: 0.8881118881118881  F1 Score: 0.9120879120879122 Precision Test: 0.9021739130434783 Recall Test: 0.9222222222222223 ]\n",
      "#####################\n",
      "TRAINING: [Iteracion:  800  Costo:  0.24797981971073826  Accuracy: 0.8956521739130435  F1 Score: 0.9169550173010381 Precision training: 0.8717105263157895 Recall training: <function recall at 0x033D8468> ]\n",
      "TEST: [Iteracion:  800 Accuracy: 0.8951048951048951  F1 Score: 0.9171270718232044 Precision Test: 0.9120879120879121 Recall Test: 0.9222222222222223 ]\n",
      "#####################\n",
      "TRAINING: [Iteracion:  900  Costo:  0.24537506422661715  Accuracy: 0.8956521739130435  F1 Score: 0.9169550173010381 Precision training: 0.8717105263157895 Recall training: <function recall at 0x033D8468> ]\n",
      "TEST: [Iteracion:  900 Accuracy: 0.8951048951048951  F1 Score: 0.9171270718232044 Precision Test: 0.9120879120879121 Recall Test: 0.9222222222222223 ]\n",
      "#####################\n",
      "TRAINING: [Iteracion:  1000  Costo:  0.24334597886953638  Accuracy: 0.8956521739130435  F1 Score: 0.9169550173010381 Precision training: 0.8717105263157895 Recall training: <function recall at 0x033D8468> ]\n",
      "TEST: [Iteracion:  1000 Accuracy: 0.8951048951048951  F1 Score: 0.9171270718232044 Precision Test: 0.9120879120879121 Recall Test: 0.9222222222222223 ]\n",
      "#####################\n",
      "TRAINING: [Iteracion:  1100  Costo:  0.24173244864639243  Accuracy: 0.8956521739130435  F1 Score: 0.9169550173010381 Precision training: 0.8717105263157895 Recall training: <function recall at 0x033D8468> ]\n",
      "TEST: [Iteracion:  1100 Accuracy: 0.8951048951048951  F1 Score: 0.9171270718232044 Precision Test: 0.9120879120879121 Recall Test: 0.9222222222222223 ]\n",
      "#####################\n",
      "TRAINING: [Iteracion:  1200  Costo:  0.24042758435788805  Accuracy: 0.8913043478260869  F1 Score: 0.9131944444444444 Precision training: 0.8708609271523179 Recall training: <function recall at 0x033D8468> ]\n",
      "TEST: [Iteracion:  1200 Accuracy: 0.8951048951048951  F1 Score: 0.9171270718232044 Precision Test: 0.9120879120879121 Recall Test: 0.9222222222222223 ]\n",
      "#####################\n",
      "TRAINING: [Iteracion:  1300  Costo:  0.2393574220333393  Accuracy: 0.8913043478260869  F1 Score: 0.9131944444444444 Precision training: 0.8708609271523179 Recall training: <function recall at 0x033D8468> ]\n",
      "TEST: [Iteracion:  1300 Accuracy: 0.9020979020979021  F1 Score: 0.9222222222222223 Precision Test: 0.9222222222222223 Recall Test: 0.9222222222222223 ]\n",
      "#####################\n",
      "TRAINING: [Iteracion:  1400  Costo:  0.2384692347189234  Accuracy: 0.8913043478260869  F1 Score: 0.9131944444444444 Precision training: 0.8708609271523179 Recall training: <function recall at 0x033D8468> ]\n",
      "TEST: [Iteracion:  1400 Accuracy: 0.9020979020979021  F1 Score: 0.9222222222222223 Precision Test: 0.9222222222222223 Recall Test: 0.9222222222222223 ]\n"
     ]
    }
   ],
   "source": [
    "## Llama a la funcion de gradient descent, recurda definir un nombre diferente para el modelo (~1 linea) ##\n",
    "modelo_3_theta_values, cost_vect, acc_vect, acc_vect_test = \\\n",
    "gradient_descent(X_train_features, Y_train_m3, theta_vector, alpha, iterations, X_test_features, y_test, 'modelo_3')\n",
    "### FIN "
   ]
  },
  {
   "cell_type": "code",
   "execution_count": 544,
   "metadata": {},
   "outputs": [
    {
     "data": {
      "image/png": "[encoded data removed]",
      "text/plain": [
       "<matplotlib.figure.Figure at 0x8fc1950>"
      ]
     },
     "metadata": {},
     "output_type": "display_data"
    }
   ],
   "source": [
    "## Funcion para graficar el costo y  accuracy durante cada iteracion\n",
    "helper.training_graph(cost_vect, acc_vect, acc_vect_test)"
   ]
  },
  {
   "cell_type": "markdown",
   "metadata": {},
   "source": [
    "#### Accuracy con el Test set [Modelo 3]"
   ]
  },
  {
   "cell_type": "code",
   "execution_count": 545,
   "metadata": {},
   "outputs": [],
   "source": [
    "y_predict = prediccion(X_test_features, modelo_3_theta_values, True)"
   ]
  },
  {
   "cell_type": "code",
   "execution_count": 546,
   "metadata": {},
   "outputs": [
    {
     "name": "stdout",
     "output_type": "stream",
     "text": [
      "Accuracy: 90.20979020979021 %\n"
     ]
    }
   ],
   "source": [
    "print('Accuracy:',accuracy_score(y_test, y_predict)* 100 ,'%')"
   ]
  },
  {
   "cell_type": "markdown",
   "metadata": {},
   "source": [
    "#### Matriz de confusion Test Set [Modelo 3]"
   ]
  },
  {
   "cell_type": "code",
   "execution_count": 547,
   "metadata": {
    "scrolled": true
   },
   "outputs": [
    {
     "data": {
      "text/plain": [
       "array([[46,  7],\n",
       "       [ 7, 83]], dtype=int64)"
      ]
     },
     "execution_count": 547,
     "metadata": {},
     "output_type": "execute_result"
    }
   ],
   "source": [
    "confusion_matrix(y_test, y_predict)"
   ]
  },
  {
   "cell_type": "code",
   "execution_count": 548,
   "metadata": {},
   "outputs": [
    {
     "name": "stdout",
     "output_type": "stream",
     "text": [
      "precision:  0.9222222222222223\n",
      "recall:  0.9222222222222223\n"
     ]
    }
   ],
   "source": [
    "print('precision: ',precision_score(y_test, y_predict))\n",
    "\n",
    "print('recall: ', recall_score(y_test, y_predict))"
   ]
  },
  {
   "cell_type": "markdown",
   "metadata": {},
   "source": [
    "## Entrenamiento modelo 4"
   ]
  },
  {
   "cell_type": "markdown",
   "metadata": {},
   "source": [
    "#### Sampleo bootstrap"
   ]
  },
  {
   "cell_type": "code",
   "execution_count": 549,
   "metadata": {},
   "outputs": [],
   "source": [
    "X_train_m4, Y_train_m4 = resample(X_train, y_train, n_samples = 460)"
   ]
  },
  {
   "cell_type": "markdown",
   "metadata": {},
   "source": [
    "### Filtrar Features\n",
    "Solo seleccionar los features"
   ]
  },
  {
   "cell_type": "code",
   "execution_count": 550,
   "metadata": {},
   "outputs": [],
   "source": [
    "'''\n",
    "Ingresa en la lista el nombre de las fatrues que quieres utlizar en este modelo (~1 linea)\n",
    "'''\n",
    "features_filtro = ['mean radius', 'mean texture', 'mean perimeter', 'mean area','mean smoothness']"
   ]
  },
  {
   "cell_type": "code",
   "execution_count": 551,
   "metadata": {},
   "outputs": [],
   "source": [
    "X_train_m4 = helper.fitrar_nombre(X_train_m4,data.feature_names,features_filtro)\n",
    "X_test_features = helper.fitrar_nombre(X_test,data.feature_names,features_filtro)"
   ]
  },
  {
   "cell_type": "code",
   "execution_count": 552,
   "metadata": {},
   "outputs": [],
   "source": [
    "## Numero de iteracions ##\n",
    "iterations = 1000 # Define el numero de iteraciones #\n",
    "\n",
    "## Alpha ##\n",
    "alpha = 0.03 # Define el valor de alpha #\n",
    "\n",
    "#### No hay que cambiar el codigo despues de esta linea #####\n",
    "## Numero de feautres ##\n",
    "numero_features = X_train_m4.shape[1] + 1\n",
    "\n",
    "## Creamos un vector donde se almacenan los valores de Theta,\n",
    "## lo inicializamos con numeros aleatorios\n",
    "theta_vector = np.random.rand(numero_features)\n",
    "\n",
    "## Normaliza las features de X_train_features (~1 linea) ##\n",
    "X_train_m4 = normalizar(X_train_m4)\n",
    "\n",
    "# Creando la Matriz X de features\n",
    "X_train_features = np.ones((X_train_m4.shape[0], numero_features))\n",
    "X_train_features[:,:-1] = X_train_m4"
   ]
  },
  {
   "cell_type": "code",
   "execution_count": 553,
   "metadata": {
    "scrolled": true
   },
   "outputs": [
    {
     "name": "stdout",
     "output_type": "stream",
     "text": [
      "#####################\n",
      "TRAINING: [Iteracion:  0  Costo:  1.9999588727085913  Accuracy: 0.1282608695652174  F1 Score: 0.21218074656188604 Precision training: 0.23580786026200873 Recall training: <function recall at 0x033D8468> ]\n",
      "TEST: [Iteracion:  0 Accuracy: 0.20279720279720279  F1 Score: 0.32941176470588235 Precision Test: 0.35 Recall Test: 0.3111111111111111 ]\n",
      "#####################\n",
      "TRAINING: [Iteracion:  100  Costo:  0.3629584334573091  Accuracy: 0.8695652173913043  F1 Score: 0.9032258064516129 Precision training: 0.8235294117647058 Recall training: <function recall at 0x033D8468> ]\n",
      "TEST: [Iteracion:  100 Accuracy: 0.8741258741258742  F1 Score: 0.9090909090909091 Precision Test: 0.8333333333333334 Recall Test: 1.0 ]\n",
      "#####################\n",
      "TRAINING: [Iteracion:  200  Costo:  0.24815661488967325  Accuracy: 0.9239130434782609  F1 Score: 0.9411764705882353 Precision training: 0.8888888888888888 Recall training: <function recall at 0x033D8468> ]\n",
      "TEST: [Iteracion:  200 Accuracy: 0.916083916083916  F1 Score: 0.9361702127659575 Precision Test: 0.8979591836734694 Recall Test: 0.9777777777777777 ]\n",
      "#####################\n",
      "TRAINING: [Iteracion:  300  Costo:  0.21048156343411636  Accuracy: 0.9369565217391305  F1 Score: 0.9505962521294719 Precision training: 0.9087947882736156 Recall training: <function recall at 0x033D8468> ]\n",
      "TEST: [Iteracion:  300 Accuracy: 0.9230769230769231  F1 Score: 0.9405405405405406 Precision Test: 0.9157894736842105 Recall Test: 0.9666666666666667 ]\n",
      "#####################\n",
      "TRAINING: [Iteracion:  400  Costo:  0.1912840586248099  Accuracy: 0.9369565217391305  F1 Score: 0.9504273504273504 Precision training: 0.9114754098360656 Recall training: <function recall at 0x033D8468> ]\n",
      "TEST: [Iteracion:  400 Accuracy: 0.9090909090909091  F1 Score: 0.9289617486338798 Precision Test: 0.9139784946236559 Recall Test: 0.9444444444444444 ]\n",
      "#####################\n",
      "TRAINING: [Iteracion:  500  Costo:  0.1795948660694316  Accuracy: 0.9326086956521739  F1 Score: 0.9462738301559792 Precision training: 0.9191919191919192 Recall training: <function recall at 0x033D8468> ]\n",
      "TEST: [Iteracion:  500 Accuracy: 0.9090909090909091  F1 Score: 0.9289617486338798 Precision Test: 0.9139784946236559 Recall Test: 0.9444444444444444 ]\n",
      "#####################\n",
      "TRAINING: [Iteracion:  600  Costo:  0.1717376152787037  Accuracy: 0.9391304347826087  F1 Score: 0.951219512195122 Precision training: 0.9285714285714286 Recall training: <function recall at 0x033D8468> ]\n",
      "TEST: [Iteracion:  600 Accuracy: 0.9090909090909091  F1 Score: 0.9289617486338798 Precision Test: 0.9139784946236559 Recall Test: 0.9444444444444444 ]\n",
      "#####################\n",
      "TRAINING: [Iteracion:  700  Costo:  0.16610877463092072  Accuracy: 0.9456521739130435  F1 Score: 0.9562171628721542 Precision training: 0.9381443298969072 Recall training: <function recall at 0x033D8468> ]\n",
      "TEST: [Iteracion:  700 Accuracy: 0.9090909090909091  F1 Score: 0.9281767955801106 Precision Test: 0.9230769230769231 Recall Test: 0.9333333333333333 ]\n",
      "#####################\n",
      "TRAINING: [Iteracion:  800  Costo:  0.161891879225424  Accuracy: 0.9478260869565217  F1 Score: 0.9578947368421052 Precision training: 0.9413793103448276 Recall training: <function recall at 0x033D8468> ]\n",
      "TEST: [Iteracion:  800 Accuracy: 0.9020979020979021  F1 Score: 0.9222222222222223 Precision Test: 0.9222222222222223 Recall Test: 0.9222222222222223 ]\n",
      "#####################\n",
      "TRAINING: [Iteracion:  900  Costo:  0.15862605599410742  Accuracy: 0.9478260869565217  F1 Score: 0.9578947368421052 Precision training: 0.9413793103448276 Recall training: <function recall at 0x033D8468> ]\n",
      "TEST: [Iteracion:  900 Accuracy: 0.9090909090909091  F1 Score: 0.9273743016759777 Precision Test: 0.9325842696629213 Recall Test: 0.9222222222222223 ]\n"
     ]
    }
   ],
   "source": [
    "## Llama a la funcion de gradient descent, recurda definir un nombre diferente para el modelo (~1 linea) ##\n",
    "modelo_4_theta_values, cost_vect, acc_vect, acc_vect_test = \\\n",
    "gradient_descent(X_train_features, Y_train_m4, theta_vector, alpha, iterations, X_test_features, y_test, 'modelo_4')"
   ]
  },
  {
   "cell_type": "code",
   "execution_count": 554,
   "metadata": {},
   "outputs": [
    {
     "data": {
      "image/png": "[encoded data removed]",
      "text/plain": [
       "<matplotlib.figure.Figure at 0x8fc1590>"
      ]
     },
     "metadata": {},
     "output_type": "display_data"
    }
   ],
   "source": [
    "## Funcion para graficar el costo y  accuracy durante cada iteracion ##\n",
    "helper.training_graph(cost_vect, acc_vect, acc_vect_test)"
   ]
  },
  {
   "cell_type": "markdown",
   "metadata": {},
   "source": [
    "#### Accuracy con el Test set [Modelo 4]"
   ]
  },
  {
   "cell_type": "code",
   "execution_count": 555,
   "metadata": {},
   "outputs": [],
   "source": [
    "y_predict = prediccion(X_test_features, modelo_4_theta_values, True)"
   ]
  },
  {
   "cell_type": "code",
   "execution_count": 556,
   "metadata": {
    "scrolled": false
   },
   "outputs": [
    {
     "name": "stdout",
     "output_type": "stream",
     "text": [
      "Accuracy: 91.6083916083916 %\n"
     ]
    }
   ],
   "source": [
    "print('Accuracy:',accuracy_score(y_test, y_predict)* 100 ,'%')"
   ]
  },
  {
   "cell_type": "markdown",
   "metadata": {},
   "source": [
    "#### Matriz de confusion Test Set [Modelo 4]"
   ]
  },
  {
   "cell_type": "code",
   "execution_count": 557,
   "metadata": {
    "scrolled": true
   },
   "outputs": [
    {
     "data": {
      "text/plain": [
       "array([[48,  5],\n",
       "       [ 7, 83]], dtype=int64)"
      ]
     },
     "execution_count": 557,
     "metadata": {},
     "output_type": "execute_result"
    }
   ],
   "source": [
    "confusion_matrix(y_test, y_predict)"
   ]
  },
  {
   "cell_type": "code",
   "execution_count": 558,
   "metadata": {},
   "outputs": [
    {
     "name": "stdout",
     "output_type": "stream",
     "text": [
      "precision:  0.9431818181818182\n",
      "recall:  0.9222222222222223\n"
     ]
    }
   ],
   "source": [
    "print('precision: ',precision_score(y_test, y_predict))\n",
    "\n",
    "print('recall: ', recall_score(y_test, y_predict))"
   ]
  },
  {
   "cell_type": "markdown",
   "metadata": {},
   "source": [
    "## Entrenamiento modelo 5"
   ]
  },
  {
   "cell_type": "markdown",
   "metadata": {},
   "source": [
    "#### Sampleo bootstrap"
   ]
  },
  {
   "cell_type": "code",
   "execution_count": 559,
   "metadata": {},
   "outputs": [],
   "source": [
    "X_train_m5, Y_train_m5 = resample(X_train, y_train, n_samples = 460)"
   ]
  },
  {
   "cell_type": "markdown",
   "metadata": {},
   "source": [
    "### Filtrar Features\n",
    "Solo seleccionar los features"
   ]
  },
  {
   "cell_type": "code",
   "execution_count": 560,
   "metadata": {},
   "outputs": [],
   "source": [
    "'''\n",
    "Ingresa en la lista el nombre de las fatrues que quieres utlizar en este modelo (~1 linea)\n",
    "'''\n",
    "features_filtro = ['mean radius', 'mean texture', 'mean perimeter', 'mean area','mean smoothness']"
   ]
  },
  {
   "cell_type": "code",
   "execution_count": 561,
   "metadata": {},
   "outputs": [],
   "source": [
    "X_train_m5 = helper.fitrar_nombre(X_train_m5,data.feature_names,features_filtro)\n",
    "X_test_features = helper.fitrar_nombre(X_test,data.feature_names,features_filtro)"
   ]
  },
  {
   "cell_type": "code",
   "execution_count": 562,
   "metadata": {},
   "outputs": [],
   "source": [
    "## Numero de iteracions ##\n",
    "iterations = 2000 # Define el numero de iteraciones #\n",
    "\n",
    "## Alpha ##\n",
    "alpha = 0.005 # Define el valor de alpha #\n",
    "\n",
    "#### No hay que cambiar el codigo despues de esta linea #####\n",
    "## Numero de feautres ##\n",
    "numero_features = X_train_m5.shape[1] + 1\n",
    "\n",
    "## Creamos un vector donde se almacenan los valores de Theta,\n",
    "## lo inicializamos con numeros aleatorios\n",
    "theta_vector = np.random.rand(numero_features)\n",
    "\n",
    "## Normaliza las features de X_train_features (~1 linea) ##\n",
    "X_train_m5 = normalizar(X_train_m5)\n",
    "\n",
    "# Creando la Matriz X de features\n",
    "X_train_features = np.ones((X_train_m5.shape[0], numero_features))\n",
    "X_train_features[:,:-1] = X_train_m5"
   ]
  },
  {
   "cell_type": "code",
   "execution_count": 563,
   "metadata": {
    "scrolled": true
   },
   "outputs": [
    {
     "name": "stdout",
     "output_type": "stream",
     "text": [
      "#####################\n",
      "TRAINING: [Iteracion:  0  Costo:  1.8649247122416985  Accuracy: 0.13260869565217392  F1 Score: 0.2161100196463654 Precision training: 0.26570048309178745 Recall training: <function recall at 0x033D8468> ]\n",
      "TEST: [Iteracion:  0 Accuracy: 0.11888111888111888  F1 Score: 0.18181818181818185 Precision Test: 0.21875 Recall Test: 0.15555555555555556 ]\n",
      "#####################\n",
      "TRAINING: [Iteracion:  100  Costo:  1.2796560978652485  Accuracy: 0.2  F1 Score: 0.3159851301115242 Precision training: 0.3601694915254237 Recall training: <function recall at 0x033D8468> ]\n",
      "TEST: [Iteracion:  100 Accuracy: 0.2097902097902098  F1 Score: 0.3233532934131736 Precision Test: 0.35064935064935066 Recall Test: 0.3 ]\n",
      "#####################\n",
      "TRAINING: [Iteracion:  200  Costo:  0.8746998856081029  Accuracy: 0.33695652173913043  F1 Score: 0.4891122278056952 Precision training: 0.49491525423728816 Recall training: <function recall at 0x033D8468> ]\n",
      "TEST: [Iteracion:  200 Accuracy: 0.42657342657342656  F1 Score: 0.5638297872340425 Precision Test: 0.5408163265306123 Recall Test: 0.5888888888888889 ]\n",
      "#####################\n",
      "TRAINING: [Iteracion:  300  Costo:  0.6463734532761464  Accuracy: 0.6282608695652174  F1 Score: 0.7290015847860539 Precision training: 0.6990881458966566 Recall training: <function recall at 0x033D8468> ]\n",
      "TEST: [Iteracion:  300 Accuracy: 0.6223776223776224  F1 Score: 0.7127659574468085 Precision Test: 0.6836734693877551 Recall Test: 0.7444444444444445 ]\n",
      "#####################\n",
      "TRAINING: [Iteracion:  400  Costo:  0.5239301935236041  Accuracy: 0.7760869565217391  F1 Score: 0.8351999999999999 Precision training: 0.8080495356037152 Recall training: <function recall at 0x033D8468> ]\n",
      "TEST: [Iteracion:  400 Accuracy: 0.7622377622377622  F1 Score: 0.8247422680412372 Precision Test: 0.7692307692307693 Recall Test: 0.8888888888888888 ]\n",
      "#####################\n",
      "TRAINING: [Iteracion:  500  Costo:  0.4508706395750039  Accuracy: 0.8347826086956521  F1 Score: 0.8793650793650795 Precision training: 0.8445121951219512 Recall training: <function recall at 0x033D8468> ]\n",
      "TEST: [Iteracion:  500 Accuracy: 0.8251748251748252  F1 Score: 0.8730964467005076 Precision Test: 0.8037383177570093 Recall Test: 0.9555555555555556 ]\n",
      "#####################\n",
      "TRAINING: [Iteracion:  600  Costo:  0.4024865322374538  Accuracy: 0.8652173913043478  F1 Score: 0.9022082018927445 Precision training: 0.8614457831325302 Recall training: <function recall at 0x033D8468> ]\n",
      "TEST: [Iteracion:  600 Accuracy: 0.8531468531468531  F1 Score: 0.8923076923076922 Precision Test: 0.8285714285714286 Recall Test: 0.9666666666666667 ]\n",
      "#####################\n",
      "TRAINING: [Iteracion:  700  Costo:  0.36795009876166784  Accuracy: 0.8869565217391304  F1 Score: 0.9174603174603174 Precision training: 0.8810975609756098 Recall training: <function recall at 0x033D8468> ]\n",
      "TEST: [Iteracion:  700 Accuracy: 0.8741258741258742  F1 Score: 0.90625 Precision Test: 0.8529411764705882 Recall Test: 0.9666666666666667 ]\n",
      "#####################\n",
      "TRAINING: [Iteracion:  800  Costo:  0.34195030998311116  Accuracy: 0.8956521739130435  F1 Score: 0.9238095238095239 Precision training: 0.8871951219512195 Recall training: <function recall at 0x033D8468> ]\n",
      "TEST: [Iteracion:  800 Accuracy: 0.8811188811188811  F1 Score: 0.9109947643979057 Precision Test: 0.8613861386138614 Recall Test: 0.9666666666666667 ]\n",
      "#####################\n",
      "TRAINING: [Iteracion:  900  Costo:  0.3215981475231984  Accuracy: 0.9  F1 Score: 0.9267515923566878 Precision training: 0.8926380368098159 Recall training: <function recall at 0x033D8468> ]\n",
      "TEST: [Iteracion:  900 Accuracy: 0.8811188811188811  F1 Score: 0.9109947643979057 Precision Test: 0.8613861386138614 Recall Test: 0.9666666666666667 ]\n",
      "#####################\n",
      "TRAINING: [Iteracion:  1000  Costo:  0.3051879345997394  Accuracy: 0.9021739130434783  F1 Score: 0.9282296650717703 Precision training: 0.8953846153846153 Recall training: <function recall at 0x033D8468> ]\n",
      "TEST: [Iteracion:  1000 Accuracy: 0.8741258741258742  F1 Score: 0.9052631578947369 Precision Test: 0.86 Recall Test: 0.9555555555555556 ]\n",
      "#####################\n",
      "TRAINING: [Iteracion:  1100  Costo:  0.29164622088378517  Accuracy: 0.9021739130434783  F1 Score: 0.9282296650717703 Precision training: 0.8953846153846153 Recall training: <function recall at 0x033D8468> ]\n",
      "TEST: [Iteracion:  1100 Accuracy: 0.8811188811188811  F1 Score: 0.9100529100529101 Precision Test: 0.8686868686868687 Recall Test: 0.9555555555555556 ]\n",
      "#####################\n",
      "TRAINING: [Iteracion:  1200  Costo:  0.2802623740434195  Accuracy: 0.9021739130434783  F1 Score: 0.9282296650717703 Precision training: 0.8953846153846153 Recall training: <function recall at 0x033D8468> ]\n",
      "TEST: [Iteracion:  1200 Accuracy: 0.8881118881118881  F1 Score: 0.9148936170212767 Precision Test: 0.8775510204081632 Recall Test: 0.9555555555555556 ]\n",
      "#####################\n",
      "TRAINING: [Iteracion:  1300  Costo:  0.27054628704047323  Accuracy: 0.9043478260869565  F1 Score: 0.9290322580645162 Precision training: 0.9056603773584906 Recall training: <function recall at 0x033D8468> ]\n",
      "TEST: [Iteracion:  1300 Accuracy: 0.8951048951048951  F1 Score: 0.9197860962566844 Precision Test: 0.8865979381443299 Recall Test: 0.9555555555555556 ]\n",
      "#####################\n",
      "TRAINING: [Iteracion:  1400  Costo:  0.2621483353624944  Accuracy: 0.9065217391304348  F1 Score: 0.9305331179321487 Precision training: 0.9085173501577287 Recall training: <function recall at 0x033D8468> ]\n",
      "TEST: [Iteracion:  1400 Accuracy: 0.8951048951048951  F1 Score: 0.9197860962566844 Precision Test: 0.8865979381443299 Recall Test: 0.9555555555555556 ]\n",
      "#####################\n",
      "TRAINING: [Iteracion:  1500  Costo:  0.25481195206030116  Accuracy: 0.908695652173913  F1 Score: 0.932258064516129 Precision training: 0.9088050314465409 Recall training: <function recall at 0x033D8468> ]\n",
      "TEST: [Iteracion:  1500 Accuracy: 0.8951048951048951  F1 Score: 0.9197860962566844 Precision Test: 0.8865979381443299 Recall Test: 0.9555555555555556 ]\n",
      "#####################\n",
      "TRAINING: [Iteracion:  1600  Costo:  0.24834428115798926  Accuracy: 0.9173913043478261  F1 Score: 0.9383116883116883 Precision training: 0.9203821656050956 Recall training: <function recall at 0x033D8468> ]\n",
      "TEST: [Iteracion:  1600 Accuracy: 0.8951048951048951  F1 Score: 0.9197860962566844 Precision Test: 0.8865979381443299 Recall Test: 0.9555555555555556 ]\n",
      "#####################\n",
      "TRAINING: [Iteracion:  1700  Costo:  0.24259733550624954  Accuracy: 0.9173913043478261  F1 Score: 0.9383116883116883 Precision training: 0.9203821656050956 Recall training: <function recall at 0x033D8468> ]\n",
      "TEST: [Iteracion:  1700 Accuracy: 0.9020979020979021  F1 Score: 0.924731182795699 Precision Test: 0.8958333333333334 Recall Test: 0.9555555555555556 ]\n",
      "#####################\n",
      "TRAINING: [Iteracion:  1800  Costo:  0.23745550899620538  Accuracy: 0.9173913043478261  F1 Score: 0.9383116883116883 Precision training: 0.9203821656050956 Recall training: <function recall at 0x033D8468> ]\n",
      "TEST: [Iteracion:  1800 Accuracy: 0.9020979020979021  F1 Score: 0.924731182795699 Precision Test: 0.8958333333333334 Recall Test: 0.9555555555555556 ]\n",
      "#####################\n",
      "TRAINING: [Iteracion:  1900  Costo:  0.23282706859168417  Accuracy: 0.9173913043478261  F1 Score: 0.9383116883116883 Precision training: 0.9203821656050956 Recall training: <function recall at 0x033D8468> ]\n",
      "TEST: [Iteracion:  1900 Accuracy: 0.9090909090909091  F1 Score: 0.93048128342246 Precision Test: 0.8969072164948454 Recall Test: 0.9666666666666667 ]\n"
     ]
    }
   ],
   "source": [
    "## Llama a la funcion de gradient descent, recurda definir un nombre diferente para el modelo (~1 linea) ##\n",
    "modelo_5_theta_values, cost_vect, acc_vect, acc_vect_test = \\\n",
    "gradient_descent(X_train_features, Y_train_m5, theta_vector, alpha, iterations, X_test_features, y_test, 'modelo_5')"
   ]
  },
  {
   "cell_type": "code",
   "execution_count": 564,
   "metadata": {},
   "outputs": [
    {
     "data": {
      "image/png": "[encoded data removed]",
      "text/plain": [
       "<matplotlib.figure.Figure at 0x9006670>"
      ]
     },
     "metadata": {},
     "output_type": "display_data"
    }
   ],
   "source": [
    "## Funcion para graficar el costo y  accuracy durante cada iteracion ##\n",
    "helper.training_graph(cost_vect, acc_vect, acc_vect_test)"
   ]
  },
  {
   "cell_type": "markdown",
   "metadata": {},
   "source": [
    "#### Accuracy con el Test set [Modelo 5]"
   ]
  },
  {
   "cell_type": "code",
   "execution_count": 565,
   "metadata": {},
   "outputs": [],
   "source": [
    "y_predict = prediccion(X_test_features, modelo_4_theta_values, True)"
   ]
  },
  {
   "cell_type": "code",
   "execution_count": 566,
   "metadata": {
    "scrolled": false
   },
   "outputs": [
    {
     "name": "stdout",
     "output_type": "stream",
     "text": [
      "Accuracy: 91.6083916083916 %\n"
     ]
    }
   ],
   "source": [
    "print('Accuracy:',accuracy_score(y_test, y_predict)* 100 ,'%')"
   ]
  },
  {
   "cell_type": "markdown",
   "metadata": {},
   "source": [
    "#### Matriz de confusion Test Set [Modelo 5]"
   ]
  },
  {
   "cell_type": "code",
   "execution_count": 567,
   "metadata": {
    "scrolled": true
   },
   "outputs": [
    {
     "data": {
      "text/plain": [
       "array([[48,  5],\n",
       "       [ 7, 83]], dtype=int64)"
      ]
     },
     "execution_count": 567,
     "metadata": {},
     "output_type": "execute_result"
    }
   ],
   "source": [
    "confusion_matrix(y_test, y_predict)"
   ]
  },
  {
   "cell_type": "code",
   "execution_count": 568,
   "metadata": {},
   "outputs": [
    {
     "name": "stdout",
     "output_type": "stream",
     "text": [
      "precision:  0.9431818181818182\n",
      "recall:  0.9222222222222223\n"
     ]
    }
   ],
   "source": [
    "print('precision: ',precision_score(y_test, y_predict))\n",
    "\n",
    "print('recall: ', recall_score(y_test, y_predict))"
   ]
  },
  {
   "cell_type": "markdown",
   "metadata": {},
   "source": [
    "# Comparacion de Modelos\n",
    "Es importante llevar un registro de los resultados de nuestros modelos y los hyperparametros que utilizamos, para ir comparando y ajustando los modelos. En nuestra función de gradient descent esta implementado un registro a bitacora, que almacena cada ejecucion de la funcion.\n",
    "\n",
    "Este registro almacena datos que nos van a servir para comprar los modelos y tambien almacena los valores theta del modelo, por lo que podemos guardar los modelos y utlizarlos despues.\n",
    "A continuacion vamos a desplegar en la siguiente celda y nos va ayudar a tomar una decisión de cual es el mejor modelo.\n",
    "\n",
    "Es recomendable que, luego de analizar los resultados del registro ejecutemos de nuevo alguno de los modelos cambiando los hyperparametros o numero de ejemplos y ver con cuales obtenemos mejores resultados.\n",
    "\n",
    "Podemos ejecutar la funcion `helper.guardar_log_book(log_book)` para almacenar en disco los modelos.\n",
    "\n",
    "Para el ultimo paso donde exportamos el modelo debemos utilizar la funcion `helper.filter_log_book(log_book, nombre_modelo)` para obtener el mejor modelo y exportalo."
   ]
  },
  {
   "cell_type": "code",
   "execution_count": 569,
   "metadata": {},
   "outputs": [
    {
     "data": {
      "text/html": [
       "<div>\n",
       "<style scoped>\n",
       "    .dataframe tbody tr th:only-of-type {\n",
       "        vertical-align: middle;\n",
       "    }\n",
       "\n",
       "    .dataframe tbody tr th {\n",
       "        vertical-align: top;\n",
       "    }\n",
       "\n",
       "    .dataframe thead th {\n",
       "        text-align: right;\n",
       "    }\n",
       "</style>\n",
       "<table border=\"1\" class=\"dataframe\">\n",
       "  <thead>\n",
       "    <tr style=\"text-align: right;\">\n",
       "      <th></th>\n",
       "      <th>Nombre Modelo</th>\n",
       "      <th>Numero de features</th>\n",
       "      <th>Numero de ejemplos</th>\n",
       "      <th>Alpha</th>\n",
       "      <th>Numero de Iteraciones</th>\n",
       "      <th>Accuracy Training</th>\n",
       "      <th>Accuracy Test</th>\n",
       "      <th>F1 score Test</th>\n",
       "      <th>Precision Test</th>\n",
       "      <th>Recall Test</th>\n",
       "    </tr>\n",
       "  </thead>\n",
       "  <tbody>\n",
       "    <tr>\n",
       "      <th>0</th>\n",
       "      <td>modelo_1_161823964213</td>\n",
       "      <td>2</td>\n",
       "      <td>150</td>\n",
       "      <td>0.020</td>\n",
       "      <td>300</td>\n",
       "      <td>0.913333</td>\n",
       "      <td>0.867133</td>\n",
       "      <td>0.888889</td>\n",
       "      <td>0.938272</td>\n",
       "      <td>0.844444</td>\n",
       "    </tr>\n",
       "    <tr>\n",
       "      <th>1</th>\n",
       "      <td>modelo_2_161823863806</td>\n",
       "      <td>3</td>\n",
       "      <td>400</td>\n",
       "      <td>0.050</td>\n",
       "      <td>1000</td>\n",
       "      <td>0.937500</td>\n",
       "      <td>0.888112</td>\n",
       "      <td>0.910112</td>\n",
       "      <td>0.920455</td>\n",
       "      <td>0.900000</td>\n",
       "    </tr>\n",
       "    <tr>\n",
       "      <th>2</th>\n",
       "      <td>modelo_3_161823825531</td>\n",
       "      <td>4</td>\n",
       "      <td>460</td>\n",
       "      <td>0.020</td>\n",
       "      <td>1500</td>\n",
       "      <td>0.873913</td>\n",
       "      <td>0.909091</td>\n",
       "      <td>0.927374</td>\n",
       "      <td>0.932584</td>\n",
       "      <td>0.922222</td>\n",
       "    </tr>\n",
       "    <tr>\n",
       "      <th>3</th>\n",
       "      <td>modelo_4_161824283829</td>\n",
       "      <td>5</td>\n",
       "      <td>460</td>\n",
       "      <td>0.030</td>\n",
       "      <td>1000</td>\n",
       "      <td>0.932609</td>\n",
       "      <td>0.916084</td>\n",
       "      <td>0.931818</td>\n",
       "      <td>0.953488</td>\n",
       "      <td>0.911111</td>\n",
       "    </tr>\n",
       "    <tr>\n",
       "      <th>4</th>\n",
       "      <td>modelo_5_161824075436</td>\n",
       "      <td>5</td>\n",
       "      <td>460</td>\n",
       "      <td>0.005</td>\n",
       "      <td>2000</td>\n",
       "      <td>0.943478</td>\n",
       "      <td>0.916084</td>\n",
       "      <td>0.931818</td>\n",
       "      <td>0.953488</td>\n",
       "      <td>0.911111</td>\n",
       "    </tr>\n",
       "    <tr>\n",
       "      <th>5</th>\n",
       "      <td>modelo_1_161834611933</td>\n",
       "      <td>2</td>\n",
       "      <td>150</td>\n",
       "      <td>0.020</td>\n",
       "      <td>300</td>\n",
       "      <td>0.853333</td>\n",
       "      <td>0.853147</td>\n",
       "      <td>0.895522</td>\n",
       "      <td>0.810811</td>\n",
       "      <td>1.000000</td>\n",
       "    </tr>\n",
       "    <tr>\n",
       "      <th>6</th>\n",
       "      <td>modelo_2_161834547554</td>\n",
       "      <td>3</td>\n",
       "      <td>400</td>\n",
       "      <td>0.050</td>\n",
       "      <td>1000</td>\n",
       "      <td>0.897500</td>\n",
       "      <td>0.867133</td>\n",
       "      <td>0.899471</td>\n",
       "      <td>0.858586</td>\n",
       "      <td>0.944444</td>\n",
       "    </tr>\n",
       "    <tr>\n",
       "      <th>7</th>\n",
       "      <td>modelo_3_161834581038</td>\n",
       "      <td>4</td>\n",
       "      <td>460</td>\n",
       "      <td>0.020</td>\n",
       "      <td>1500</td>\n",
       "      <td>0.895652</td>\n",
       "      <td>0.902098</td>\n",
       "      <td>0.922222</td>\n",
       "      <td>0.922222</td>\n",
       "      <td>0.922222</td>\n",
       "    </tr>\n",
       "    <tr>\n",
       "      <th>8</th>\n",
       "      <td>modelo_4_161834643344</td>\n",
       "      <td>5</td>\n",
       "      <td>460</td>\n",
       "      <td>0.030</td>\n",
       "      <td>1000</td>\n",
       "      <td>0.947826</td>\n",
       "      <td>0.916084</td>\n",
       "      <td>0.932584</td>\n",
       "      <td>0.943182</td>\n",
       "      <td>0.922222</td>\n",
       "    </tr>\n",
       "    <tr>\n",
       "      <th>9</th>\n",
       "      <td>modelo_5_161835466952</td>\n",
       "      <td>5</td>\n",
       "      <td>460</td>\n",
       "      <td>0.005</td>\n",
       "      <td>2000</td>\n",
       "      <td>0.921739</td>\n",
       "      <td>0.909091</td>\n",
       "      <td>0.930481</td>\n",
       "      <td>0.896907</td>\n",
       "      <td>0.966667</td>\n",
       "    </tr>\n",
       "  </tbody>\n",
       "</table>\n",
       "</div>"
      ],
      "text/plain": [
       "           Nombre Modelo Numero de features Numero de ejemplos  Alpha  \\\n",
       "0  modelo_1_161823964213                  2                150  0.020   \n",
       "1  modelo_2_161823863806                  3                400  0.050   \n",
       "2  modelo_3_161823825531                  4                460  0.020   \n",
       "3  modelo_4_161824283829                  5                460  0.030   \n",
       "4  modelo_5_161824075436                  5                460  0.005   \n",
       "5  modelo_1_161834611933                  2                150  0.020   \n",
       "6  modelo_2_161834547554                  3                400  0.050   \n",
       "7  modelo_3_161834581038                  4                460  0.020   \n",
       "8  modelo_4_161834643344                  5                460  0.030   \n",
       "9  modelo_5_161835466952                  5                460  0.005   \n",
       "\n",
       "  Numero de Iteraciones  Accuracy Training  Accuracy Test  F1 score Test  \\\n",
       "0                   300           0.913333       0.867133       0.888889   \n",
       "1                  1000           0.937500       0.888112       0.910112   \n",
       "2                  1500           0.873913       0.909091       0.927374   \n",
       "3                  1000           0.932609       0.916084       0.931818   \n",
       "4                  2000           0.943478       0.916084       0.931818   \n",
       "5                   300           0.853333       0.853147       0.895522   \n",
       "6                  1000           0.897500       0.867133       0.899471   \n",
       "7                  1500           0.895652       0.902098       0.922222   \n",
       "8                  1000           0.947826       0.916084       0.932584   \n",
       "9                  2000           0.921739       0.909091       0.930481   \n",
       "\n",
       "   Precision Test  Recall Test  \n",
       "0        0.938272     0.844444  \n",
       "1        0.920455     0.900000  \n",
       "2        0.932584     0.922222  \n",
       "3        0.953488     0.911111  \n",
       "4        0.953488     0.911111  \n",
       "5        0.810811     1.000000  \n",
       "6        0.858586     0.944444  \n",
       "7        0.922222     0.922222  \n",
       "8        0.943182     0.922222  \n",
       "9        0.896907     0.966667  "
      ]
     },
     "execution_count": 569,
     "metadata": {},
     "output_type": "execute_result"
    }
   ],
   "source": [
    "helper.print_log_book(log_book)"
   ]
  },
  {
   "cell_type": "markdown",
   "metadata": {},
   "source": [
    "### Guardando la bitacora"
   ]
  },
  {
   "cell_type": "code",
   "execution_count": 570,
   "metadata": {},
   "outputs": [],
   "source": [
    "helper.guardar_log_book(log_book)"
   ]
  },
  {
   "cell_type": "markdown",
   "metadata": {},
   "source": [
    "## Exportar el modelo\n",
    "\n",
    "Vamos a exportar el modelo para poder hacer deploy, ** el modelo exportado debe tener las cinco primeras feautures **. Por lo cual de todos tus experimentos, selecciona el mejor modelo que cumpla con usar las 5 features ya mencionadas.\n",
    "\n",
    "Selecciona tu mejor modelo:"
   ]
  },
  {
   "cell_type": "markdown",
   "metadata": {},
   "source": [
    "### Seleccionamos el mejor modelo\n",
    "\n",
    "Para seleccionar un modelo utilizamos la funcion `helper.filter_log_book()`.\n",
    "\n",
    "Esta funcion recibe de parametros la bitacora y el nombre del modelo que elegiste como el mejor\n",
    "\n",
    "`helper.filter_log_book(log_book, <nombre de nuestro mejor modelo>)`"
   ]
  },
  {
   "cell_type": "code",
   "execution_count": 571,
   "metadata": {},
   "outputs": [
    {
     "ename": "NameError",
     "evalue": "name 'x_train' is not defined",
     "output_type": "error",
     "traceback": [
      "\u001b[1;31m---------------------------------------------------------------------------\u001b[0m",
      "\u001b[1;31mNameError\u001b[0m                                 Traceback (most recent call last)",
      "\u001b[1;32m<ipython-input-571-6ae65ce0acde>\u001b[0m in \u001b[0;36m<module>\u001b[1;34m()\u001b[0m\n\u001b[0;32m      1\u001b[0m \u001b[1;31m### INICIO: TU CODIGO AQUI:  (~1 linea)###\u001b[0m\u001b[1;33m\u001b[0m\u001b[1;33m\u001b[0m\u001b[0m\n\u001b[1;32m----> 2\u001b[1;33m \u001b[0mmodelo\u001b[0m \u001b[1;33m=\u001b[0m \u001b[0mhelper\u001b[0m\u001b[1;33m.\u001b[0m\u001b[0mfilter_log_book\u001b[0m\u001b[1;33m(\u001b[0m\u001b[0mlog_book\u001b[0m\u001b[1;33m,\u001b[0m \u001b[0mx_train\u001b[0m\u001b[1;33m)\u001b[0m\u001b[1;33m\u001b[0m\u001b[0m\n\u001b[0m\u001b[0;32m      3\u001b[0m \u001b[1;33m\u001b[0m\u001b[0m\n\u001b[0;32m      4\u001b[0m \u001b[0mprint\u001b[0m\u001b[1;33m(\u001b[0m\u001b[0mmodelo\u001b[0m\u001b[1;33m)\u001b[0m\u001b[1;33m\u001b[0m\u001b[0m\n",
      "\u001b[1;31mNameError\u001b[0m: name 'x_train' is not defined"
     ]
    }
   ],
   "source": [
    "### INICIO: TU CODIGO AQUI:  (~1 linea)###\n",
    "modelo = helper.filter_log_book(log_book, x_train)\n",
    "\n",
    "print(modelo)"
   ]
  },
  {
   "cell_type": "markdown",
   "metadata": {},
   "source": [
    "Se va a utilizar el siguiente codigo para guardar el modelo elegido en un archivo.\n",
    "\n",
    "Esto genera 2 archivos, en un archivo _model.csv se tienen los parametros de el modelo elegido.\n",
    "\n",
    "El segundo archivo llamado _momentos.csv guarda la media y desviacion estandar de cada features, esto sera utilizado\n",
    "en la aplicacion hecha por el profesor para aplicar normalizacion al realizar predicciones.\n",
    "\n",
    "No hay que cambiar nada de codigo, solo hay que ejecutar la celda para exportar nuestro modelo y luego enviar los archivos .csv al profesor"
   ]
  },
  {
   "cell_type": "code",
   "execution_count": null,
   "metadata": {},
   "outputs": [],
   "source": []
  },
  {
   "cell_type": "code",
   "execution_count": null,
   "metadata": {},
   "outputs": [],
   "source": [
    "import csv\n",
    "\n",
    "def exportar_modelo(model,carnet):\n",
    "    norm_std, norm_media = helper.get_normalizacion_vales(X_train[:,0:5])\n",
    "    with open(carnet + '_model.csv', 'w') as csvfile:\n",
    "        filewriter = csv.writer(csvfile, delimiter=',',quotechar='|', quoting=csv.QUOTE_MINIMAL)\n",
    "        filewriter.writerow(model)\n",
    "        \n",
    "    with open(carnet + '_momentos.csv', 'w') as csvfile:\n",
    "        filewriter = csv.writer(csvfile, delimiter=',',quotechar='|', quoting=csv.QUOTE_MINIMAL)\n",
    "        filewriter.writerow(norm_std)\n",
    "        filewriter.writerow(norm_media)\n",
    "        \n",
    "    print('El modelo ha sido exportado [',csvfile.name,']')\n",
    "    \n",
    "exportar_modelo(modelo,carnet)"
   ]
  },
  {
   "cell_type": "markdown",
   "metadata": {},
   "source": [
    "<img src=\"images/ai_cancer.png\" width=\"700\">"
   ]
  },
  {
   "cell_type": "markdown",
   "metadata": {},
   "source": [
    "# Una vez elegido y exportado tu modelo , debes enviar los archivos .csv resultantes al profesor por correo"
   ]
  },
  {
   "cell_type": "code",
   "execution_count": null,
   "metadata": {},
   "outputs": [],
   "source": []
  }
 ],
 "metadata": {
  "kernelspec": {
   "display_name": "Python 3",
   "language": "python",
   "name": "python3"
  },
  "language_info": {
   "codemirror_mode": {
    "name": "ipython",
    "version": 3
   },
   "file_extension": ".py",
   "mimetype": "text/x-python",
   "name": "python",
   "nbconvert_exporter": "python",
   "pygments_lexer": "ipython3",
   "version": "3.6.4"
  }
 },
 "nbformat": 4,
 "nbformat_minor": 2
}
